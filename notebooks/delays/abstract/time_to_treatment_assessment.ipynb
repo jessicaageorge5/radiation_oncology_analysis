{
 "cells": [
  {
   "cell_type": "markdown",
   "metadata": {},
   "source": [
    "# Libraries"
   ]
  },
  {
   "cell_type": "code",
   "execution_count": 4,
   "metadata": {},
   "outputs": [],
   "source": [
    "# import libraries\n",
    "import pandas as pd\n",
    "import datetime as dt"
   ]
  },
  {
   "cell_type": "markdown",
   "metadata": {},
   "source": [
    "# Data"
   ]
  },
  {
   "cell_type": "code",
   "execution_count": 5,
   "metadata": {},
   "outputs": [],
   "source": [
    "# All patients (large and small) with cancer stage > 0\n",
    "data = pd.read_csv(\"../../../data/data.csv\")"
   ]
  },
  {
   "cell_type": "code",
   "execution_count": 6,
   "metadata": {},
   "outputs": [
    {
     "data": {
      "text/plain": [
       "902"
      ]
     },
     "execution_count": 6,
     "metadata": {},
     "output_type": "execute_result"
    }
   ],
   "source": [
    "# Number of patients IB2 and above\n",
    "len(data[data[\"combined_cancer_stage_exact\"] >= 6][\"patient_id\"])"
   ]
  },
  {
   "cell_type": "code",
   "execution_count": 7,
   "metadata": {},
   "outputs": [
    {
     "name": "stdout",
     "output_type": "stream",
     "text": [
      "7\n",
      "['242.0', '5233.0', '5251.0', '5429.0', '5677.0', '5945.0', '6107.0']\n",
      "3\n"
     ]
    }
   ],
   "source": [
    "# For patients IB2 and above:\n",
    "ib2_above_w_treatment = data[(data[\"combined_cancer_stage_exact\"] >= 6) &\n",
    "                             (data[\"treatment\"] == 1)]\n",
    "\n",
    "# Number of IB and above patients who do not have treatment (RT) start date\n",
    "print(len(ib2_above_w_treatment[ib2_above_w_treatment[\"actual_treat_start_date\"].isnull()][\"patient_id\"]))\n",
    "print(sorted(ib2_above_w_treatment[ib2_above_w_treatment[\"actual_treat_start_date\"].isnull()][\"patient_id\"]))\n",
    "# Export these patient ids\n",
    "ib2_above_w_treatment[ib2_above_w_treatment[\"actual_treat_start_date\"].isnull()][\"patient_id\"].to_excel(\"../data/data_for_surbhi_to_check/no_treat_start_date_patient_ids.xlsx\", index = False)\n",
    "# Of these, 3 received surgery\n",
    "print(len(ib2_above_w_treatment[(ib2_above_w_treatment[\"actual_treat_start_date\"].isnull()) & (ib2_above_w_treatment[\"surgery\"] == 1)]))"
   ]
  },
  {
   "cell_type": "code",
   "execution_count": 16,
   "metadata": {},
   "outputs": [],
   "source": [
    "ib2_above_w_treatment_2015_2019 = ib2_above_w_treatment[:-156]"
   ]
  },
  {
   "cell_type": "code",
   "execution_count": 18,
   "metadata": {},
   "outputs": [
    {
     "data": {
      "text/plain": [
       "(389,)"
      ]
     },
     "execution_count": 18,
     "metadata": {},
     "output_type": "execute_result"
    }
   ],
   "source": [
    "ib2_above_w_treatment_2015_2019[\"curative_palliative_status\"].dropna().shape"
   ]
  },
  {
   "cell_type": "code",
   "execution_count": 8,
   "metadata": {},
   "outputs": [
    {
     "name": "stderr",
     "output_type": "stream",
     "text": [
      "<ipython-input-8-a7040d3a8128>:2: SettingWithCopyWarning: \n",
      "A value is trying to be set on a copy of a slice from a DataFrame.\n",
      "Try using .loc[row_indexer,col_indexer] = value instead\n",
      "\n",
      "See the caveats in the documentation: https://pandas.pydata.org/pandas-docs/stable/user_guide/indexing.html#returning-a-view-versus-a-copy\n",
      "  ib2_above_w_treatment[\"path_to_treatment_difference\"] = (pd.to_datetime(ib2_above_w_treatment[\"actual_treat_start_date\"]) - pd.to_datetime(ib2_above_w_treatment[\"pathology_date\"])).dt.days\n"
     ]
    },
    {
     "data": {
      "text/plain": [
       "count     829.000000\n",
       "mean      114.422195\n",
       "std       143.690700\n",
       "min      -260.000000\n",
       "25%        54.000000\n",
       "50%        81.000000\n",
       "75%       124.000000\n",
       "max      1978.000000\n",
       "Name: path_to_treatment_difference, dtype: float64"
      ]
     },
     "execution_count": 8,
     "metadata": {},
     "output_type": "execute_result"
    }
   ],
   "source": [
    "# Assess time to treatment\n",
    "ib2_above_w_treatment[\"path_to_treatment_difference\"] = (pd.to_datetime(ib2_above_w_treatment[\"actual_treat_start_date\"]) - pd.to_datetime(ib2_above_w_treatment[\"pathology_date\"])).dt.days\n",
    "\n",
    "ib2_above_w_treatment[\"path_to_treatment_difference\"].describe()\n",
    "\n",
    "# Export information for Surbhi\n",
    "#ib2_above[[\"patient_id\", \"pathology_date\", \"actual_treat_start_date\", \"path_to_treatment_difference\"]].to_excel(\"../data/data_for_surbhi_to_check/time_to_treatment.xlsx\", index = False)\n",
    "\n",
    "# Check patients who have negative delay\n",
    "#ib2_above[ib2_above[\"path_to_treatment_difference\"] < 0][[\"patient_id\", \"pathology_date\", \"actual_treat_start_date\", \"path_to_treatment_difference\"]].to_excel(\"../data/data_for_surbhi_to_check/time_to_treatment_negative.xlsx\", index = False)\n",
    "\n"
   ]
  },
  {
   "cell_type": "code",
   "execution_count": 9,
   "metadata": {},
   "outputs": [
    {
     "data": {
      "text/html": [
       "<div>\n",
       "<style scoped>\n",
       "    .dataframe tbody tr th:only-of-type {\n",
       "        vertical-align: middle;\n",
       "    }\n",
       "\n",
       "    .dataframe tbody tr th {\n",
       "        vertical-align: top;\n",
       "    }\n",
       "\n",
       "    .dataframe thead th {\n",
       "        text-align: right;\n",
       "    }\n",
       "</style>\n",
       "<table border=\"1\" class=\"dataframe\">\n",
       "  <thead>\n",
       "    <tr style=\"text-align: right;\">\n",
       "      <th></th>\n",
       "      <th>patient_id</th>\n",
       "      <th>actual_treat_start_date</th>\n",
       "      <th>pathology_date</th>\n",
       "      <th>path_to_treatment_difference</th>\n",
       "    </tr>\n",
       "  </thead>\n",
       "  <tbody>\n",
       "    <tr>\n",
       "      <th>107</th>\n",
       "      <td>242.0</td>\n",
       "      <td>NaN</td>\n",
       "      <td>2016-04-05</td>\n",
       "      <td>NaN</td>\n",
       "    </tr>\n",
       "    <tr>\n",
       "      <th>159</th>\n",
       "      <td>351.0</td>\n",
       "      <td>2016-11-21</td>\n",
       "      <td>NaN</td>\n",
       "      <td>NaN</td>\n",
       "    </tr>\n",
       "    <tr>\n",
       "      <th>163</th>\n",
       "      <td>358.0</td>\n",
       "      <td>2016-12-13</td>\n",
       "      <td>NaN</td>\n",
       "      <td>NaN</td>\n",
       "    </tr>\n",
       "    <tr>\n",
       "      <th>220</th>\n",
       "      <td>468.0</td>\n",
       "      <td>2017-06-20</td>\n",
       "      <td>NaN</td>\n",
       "      <td>NaN</td>\n",
       "    </tr>\n",
       "    <tr>\n",
       "      <th>294</th>\n",
       "      <td>675.0</td>\n",
       "      <td>2018-07-05</td>\n",
       "      <td>NaN</td>\n",
       "      <td>NaN</td>\n",
       "    </tr>\n",
       "    <tr>\n",
       "      <th>456</th>\n",
       "      <td>5233.0</td>\n",
       "      <td>NaN</td>\n",
       "      <td>2015-09-23</td>\n",
       "      <td>NaN</td>\n",
       "    </tr>\n",
       "    <tr>\n",
       "      <th>460</th>\n",
       "      <td>5251.0</td>\n",
       "      <td>NaN</td>\n",
       "      <td>2016-12-29</td>\n",
       "      <td>NaN</td>\n",
       "    </tr>\n",
       "    <tr>\n",
       "      <th>525</th>\n",
       "      <td>5429.0</td>\n",
       "      <td>NaN</td>\n",
       "      <td>2017-06-27</td>\n",
       "      <td>NaN</td>\n",
       "    </tr>\n",
       "    <tr>\n",
       "      <th>609</th>\n",
       "      <td>5677.0</td>\n",
       "      <td>NaN</td>\n",
       "      <td>2018-01-31</td>\n",
       "      <td>NaN</td>\n",
       "    </tr>\n",
       "    <tr>\n",
       "      <th>697</th>\n",
       "      <td>5945.0</td>\n",
       "      <td>NaN</td>\n",
       "      <td>2018-11-01</td>\n",
       "      <td>NaN</td>\n",
       "    </tr>\n",
       "    <tr>\n",
       "      <th>749</th>\n",
       "      <td>6107.0</td>\n",
       "      <td>NaN</td>\n",
       "      <td>2018-12-17</td>\n",
       "      <td>NaN</td>\n",
       "    </tr>\n",
       "    <tr>\n",
       "      <th>820</th>\n",
       "      <td>6296.0</td>\n",
       "      <td>2019-12-16</td>\n",
       "      <td>NaN</td>\n",
       "      <td>NaN</td>\n",
       "    </tr>\n",
       "    <tr>\n",
       "      <th>1002</th>\n",
       "      <td>NM134</td>\n",
       "      <td>2014-06-26</td>\n",
       "      <td>NaN</td>\n",
       "      <td>NaN</td>\n",
       "    </tr>\n",
       "  </tbody>\n",
       "</table>\n",
       "</div>"
      ],
      "text/plain": [
       "     patient_id actual_treat_start_date pathology_date  \\\n",
       "107       242.0                     NaN     2016-04-05   \n",
       "159       351.0              2016-11-21            NaN   \n",
       "163       358.0              2016-12-13            NaN   \n",
       "220       468.0              2017-06-20            NaN   \n",
       "294       675.0              2018-07-05            NaN   \n",
       "456      5233.0                     NaN     2015-09-23   \n",
       "460      5251.0                     NaN     2016-12-29   \n",
       "525      5429.0                     NaN     2017-06-27   \n",
       "609      5677.0                     NaN     2018-01-31   \n",
       "697      5945.0                     NaN     2018-11-01   \n",
       "749      6107.0                     NaN     2018-12-17   \n",
       "820      6296.0              2019-12-16            NaN   \n",
       "1002      NM134              2014-06-26            NaN   \n",
       "\n",
       "      path_to_treatment_difference  \n",
       "107                            NaN  \n",
       "159                            NaN  \n",
       "163                            NaN  \n",
       "220                            NaN  \n",
       "294                            NaN  \n",
       "456                            NaN  \n",
       "460                            NaN  \n",
       "525                            NaN  \n",
       "609                            NaN  \n",
       "697                            NaN  \n",
       "749                            NaN  \n",
       "820                            NaN  \n",
       "1002                           NaN  "
      ]
     },
     "execution_count": 9,
     "metadata": {},
     "output_type": "execute_result"
    }
   ],
   "source": [
    "# 13 with NA for treatment delay time\n",
    "ib2_above_w_treatment[ib2_above_w_treatment[\"path_to_treatment_difference\"].isnull()][[\"patient_id\", \"actual_treat_start_date\", \"pathology_date\", \"path_to_treatment_difference\"]]\n"
   ]
  },
  {
   "cell_type": "code",
   "execution_count": 12,
   "metadata": {
    "scrolled": true
   },
   "outputs": [
    {
     "data": {
      "text/html": [
       "<div>\n",
       "<style scoped>\n",
       "    .dataframe tbody tr th:only-of-type {\n",
       "        vertical-align: middle;\n",
       "    }\n",
       "\n",
       "    .dataframe tbody tr th {\n",
       "        vertical-align: top;\n",
       "    }\n",
       "\n",
       "    .dataframe thead th {\n",
       "        text-align: right;\n",
       "    }\n",
       "</style>\n",
       "<table border=\"1\" class=\"dataframe\">\n",
       "  <thead>\n",
       "    <tr style=\"text-align: right;\">\n",
       "      <th></th>\n",
       "      <th>patient_id</th>\n",
       "      <th>pathology_date</th>\n",
       "      <th>actual_treat_start_date</th>\n",
       "      <th>treat_start_date</th>\n",
       "    </tr>\n",
       "  </thead>\n",
       "  <tbody>\n",
       "    <tr>\n",
       "      <th>17</th>\n",
       "      <td>37.0</td>\n",
       "      <td>2015-03-27</td>\n",
       "      <td>2015-03-20</td>\n",
       "      <td>2015-03-20 00:00:00</td>\n",
       "    </tr>\n",
       "    <tr>\n",
       "      <th>41</th>\n",
       "      <td>83.0</td>\n",
       "      <td>2015-06-20</td>\n",
       "      <td>2015-06-10</td>\n",
       "      <td>2015-06-10 00:00:00</td>\n",
       "    </tr>\n",
       "    <tr>\n",
       "      <th>102</th>\n",
       "      <td>236.0</td>\n",
       "      <td>2016-08-26</td>\n",
       "      <td>2016-05-19</td>\n",
       "      <td>2016-05-19 00:00:00</td>\n",
       "    </tr>\n",
       "    <tr>\n",
       "      <th>459</th>\n",
       "      <td>5250.0</td>\n",
       "      <td>2017-02-06</td>\n",
       "      <td>2017-02-03</td>\n",
       "      <td>2017-02-03 00:00:00</td>\n",
       "    </tr>\n",
       "    <tr>\n",
       "      <th>563</th>\n",
       "      <td>5530.0</td>\n",
       "      <td>2017-09-12</td>\n",
       "      <td>2017-09-10</td>\n",
       "      <td>2017-09-10 00:00:00</td>\n",
       "    </tr>\n",
       "    <tr>\n",
       "      <th>583</th>\n",
       "      <td>5608.0</td>\n",
       "      <td>2018-03-22</td>\n",
       "      <td>2018-02-08</td>\n",
       "      <td>2018-02-08 00:00:00</td>\n",
       "    </tr>\n",
       "    <tr>\n",
       "      <th>618</th>\n",
       "      <td>5704.0</td>\n",
       "      <td>2018-04-20</td>\n",
       "      <td>2017-08-16</td>\n",
       "      <td>2017-08-16 00:00:00</td>\n",
       "    </tr>\n",
       "    <tr>\n",
       "      <th>622</th>\n",
       "      <td>5715.0</td>\n",
       "      <td>2018-05-31</td>\n",
       "      <td>2018-05-24</td>\n",
       "      <td>2018-05-24 00:00:00</td>\n",
       "    </tr>\n",
       "    <tr>\n",
       "      <th>804</th>\n",
       "      <td>6261.0</td>\n",
       "      <td>2019-10-06</td>\n",
       "      <td>2019-01-19</td>\n",
       "      <td>2019-01-19 00:00:00</td>\n",
       "    </tr>\n",
       "    <tr>\n",
       "      <th>810</th>\n",
       "      <td>6273.0</td>\n",
       "      <td>2019-10-10</td>\n",
       "      <td>2019-09-12</td>\n",
       "      <td>2019-09-12 00:00:00</td>\n",
       "    </tr>\n",
       "    <tr>\n",
       "      <th>813</th>\n",
       "      <td>6278.0</td>\n",
       "      <td>2019-09-25</td>\n",
       "      <td>2019-09-23</td>\n",
       "      <td>2019-09-23 00:00:00</td>\n",
       "    </tr>\n",
       "    <tr>\n",
       "      <th>921</th>\n",
       "      <td>BB142</td>\n",
       "      <td>2014-02-20</td>\n",
       "      <td>2013-08-06</td>\n",
       "      <td>2013-08-06</td>\n",
       "    </tr>\n",
       "    <tr>\n",
       "      <th>1030</th>\n",
       "      <td>KA156</td>\n",
       "      <td>2014-10-20</td>\n",
       "      <td>2014-05-19</td>\n",
       "      <td>2014-05-19</td>\n",
       "    </tr>\n",
       "  </tbody>\n",
       "</table>\n",
       "</div>"
      ],
      "text/plain": [
       "     patient_id pathology_date actual_treat_start_date     treat_start_date\n",
       "17         37.0     2015-03-27              2015-03-20  2015-03-20 00:00:00\n",
       "41         83.0     2015-06-20              2015-06-10  2015-06-10 00:00:00\n",
       "102       236.0     2016-08-26              2016-05-19  2016-05-19 00:00:00\n",
       "459      5250.0     2017-02-06              2017-02-03  2017-02-03 00:00:00\n",
       "563      5530.0     2017-09-12              2017-09-10  2017-09-10 00:00:00\n",
       "583      5608.0     2018-03-22              2018-02-08  2018-02-08 00:00:00\n",
       "618      5704.0     2018-04-20              2017-08-16  2017-08-16 00:00:00\n",
       "622      5715.0     2018-05-31              2018-05-24  2018-05-24 00:00:00\n",
       "804      6261.0     2019-10-06              2019-01-19  2019-01-19 00:00:00\n",
       "810      6273.0     2019-10-10              2019-09-12  2019-09-12 00:00:00\n",
       "813      6278.0     2019-09-25              2019-09-23  2019-09-23 00:00:00\n",
       "921       BB142     2014-02-20              2013-08-06           2013-08-06\n",
       "1030      KA156     2014-10-20              2014-05-19           2014-05-19"
      ]
     },
     "execution_count": 12,
     "metadata": {},
     "output_type": "execute_result"
    }
   ],
   "source": [
    "# 13 rows with negative treatment delay time after updates with Rebecca\n",
    "ib2_above_w_treatment[ib2_above_w_treatment[\"path_to_treatment_difference\"] < 0][[\"patient_id\", \"pathology_date\", \"actual_treat_start_date\", \"treat_start_date\"]]\n",
    "# these patients were originally in Rebecca's list with exception of: 169 "
   ]
  },
  {
   "cell_type": "code",
   "execution_count": 13,
   "metadata": {},
   "outputs": [
    {
     "data": {
      "text/plain": [
       "(816, 123)"
      ]
     },
     "execution_count": 13,
     "metadata": {},
     "output_type": "execute_result"
    }
   ],
   "source": [
    "# exclude patients with missing treatment delay or negative treatment delay\n",
    "treatment_delay_data = ib2_above_w_treatment[ib2_above_w_treatment[\"path_to_treatment_difference\"] >= 0]\n",
    "\n",
    "treatment_delay_data.shape"
   ]
  },
  {
   "cell_type": "code",
   "execution_count": 14,
   "metadata": {},
   "outputs": [],
   "source": [
    "# Save delay data\n",
    "treatment_delay_data.to_excel(\"../data/time_to_treatment_data.xlsx\", index = False)\n"
   ]
  },
  {
   "cell_type": "markdown",
   "metadata": {},
   "source": [
    "### Add new survival endpoint (24 months) to data"
   ]
  },
  {
   "cell_type": "code",
   "execution_count": 2,
   "metadata": {
    "scrolled": true
   },
   "outputs": [
    {
     "data": {
      "text/html": [
       "<div>\n",
       "<style scoped>\n",
       "    .dataframe tbody tr th:only-of-type {\n",
       "        vertical-align: middle;\n",
       "    }\n",
       "\n",
       "    .dataframe tbody tr th {\n",
       "        vertical-align: top;\n",
       "    }\n",
       "\n",
       "    .dataframe thead th {\n",
       "        text-align: right;\n",
       "    }\n",
       "</style>\n",
       "<table border=\"1\" class=\"dataframe\">\n",
       "  <thead>\n",
       "    <tr style=\"text-align: right;\">\n",
       "      <th></th>\n",
       "      <th>patient_id</th>\n",
       "      <th>enroll_age</th>\n",
       "      <th>age_cat</th>\n",
       "      <th>hiv_status</th>\n",
       "      <th>marital</th>\n",
       "      <th>distance</th>\n",
       "      <th>cancer_screening</th>\n",
       "      <th>combined_cancer_stage</th>\n",
       "      <th>combined_cancer_stage_exact</th>\n",
       "      <th>cr_result</th>\n",
       "      <th>...</th>\n",
       "      <th>actual_treat_start_date</th>\n",
       "      <th>init_cancer_stage</th>\n",
       "      <th>init_cancer_stage_exact</th>\n",
       "      <th>final_cancer_stage</th>\n",
       "      <th>final_cancer_stage_exact</th>\n",
       "      <th>chemo_only</th>\n",
       "      <th>primary_surgery_rt</th>\n",
       "      <th>path_to_treatment_difference</th>\n",
       "      <th>curative_palliative_status</th>\n",
       "      <th>vital_status24</th>\n",
       "    </tr>\n",
       "  </thead>\n",
       "  <tbody>\n",
       "    <tr>\n",
       "      <th>0</th>\n",
       "      <td>1.0</td>\n",
       "      <td>50.0</td>\n",
       "      <td>2.0</td>\n",
       "      <td>1.0</td>\n",
       "      <td>2.0</td>\n",
       "      <td>59.2</td>\n",
       "      <td>1.0</td>\n",
       "      <td>4</td>\n",
       "      <td>12</td>\n",
       "      <td>90.0</td>\n",
       "      <td>...</td>\n",
       "      <td>2015-02-03</td>\n",
       "      <td>4.0</td>\n",
       "      <td>12.0</td>\n",
       "      <td>3.0</td>\n",
       "      <td>10.0</td>\n",
       "      <td>0</td>\n",
       "      <td>0</td>\n",
       "      <td>75</td>\n",
       "      <td>Definitive</td>\n",
       "      <td>0</td>\n",
       "    </tr>\n",
       "    <tr>\n",
       "      <th>1</th>\n",
       "      <td>3.0</td>\n",
       "      <td>40.0</td>\n",
       "      <td>2.0</td>\n",
       "      <td>1.0</td>\n",
       "      <td>1.0</td>\n",
       "      <td>310.0</td>\n",
       "      <td>0.0</td>\n",
       "      <td>3</td>\n",
       "      <td>10</td>\n",
       "      <td>597.0</td>\n",
       "      <td>...</td>\n",
       "      <td>2015-02-04</td>\n",
       "      <td>3.0</td>\n",
       "      <td>10.0</td>\n",
       "      <td>NaN</td>\n",
       "      <td>NaN</td>\n",
       "      <td>0</td>\n",
       "      <td>0</td>\n",
       "      <td>181</td>\n",
       "      <td>Definitive</td>\n",
       "      <td>1</td>\n",
       "    </tr>\n",
       "    <tr>\n",
       "      <th>2</th>\n",
       "      <td>5.0</td>\n",
       "      <td>48.0</td>\n",
       "      <td>2.0</td>\n",
       "      <td>1.0</td>\n",
       "      <td>3.0</td>\n",
       "      <td>0.0</td>\n",
       "      <td>0.0</td>\n",
       "      <td>3</td>\n",
       "      <td>10</td>\n",
       "      <td>50.0</td>\n",
       "      <td>...</td>\n",
       "      <td>2015-02-04</td>\n",
       "      <td>3.0</td>\n",
       "      <td>10.0</td>\n",
       "      <td>3.0</td>\n",
       "      <td>10.0</td>\n",
       "      <td>0</td>\n",
       "      <td>0</td>\n",
       "      <td>8</td>\n",
       "      <td>Definitive</td>\n",
       "      <td>0</td>\n",
       "    </tr>\n",
       "    <tr>\n",
       "      <th>3</th>\n",
       "      <td>9.0</td>\n",
       "      <td>65.0</td>\n",
       "      <td>3.0</td>\n",
       "      <td>0.0</td>\n",
       "      <td>3.0</td>\n",
       "      <td>59.2</td>\n",
       "      <td>0.0</td>\n",
       "      <td>2</td>\n",
       "      <td>8</td>\n",
       "      <td>60.0</td>\n",
       "      <td>...</td>\n",
       "      <td>2015-02-17</td>\n",
       "      <td>2.0</td>\n",
       "      <td>8.0</td>\n",
       "      <td>NaN</td>\n",
       "      <td>NaN</td>\n",
       "      <td>0</td>\n",
       "      <td>0</td>\n",
       "      <td>127</td>\n",
       "      <td>Curative</td>\n",
       "      <td>1</td>\n",
       "    </tr>\n",
       "    <tr>\n",
       "      <th>4</th>\n",
       "      <td>11.0</td>\n",
       "      <td>51.0</td>\n",
       "      <td>2.0</td>\n",
       "      <td>1.0</td>\n",
       "      <td>3.0</td>\n",
       "      <td>0.0</td>\n",
       "      <td>1.0</td>\n",
       "      <td>3</td>\n",
       "      <td>9</td>\n",
       "      <td>117.0</td>\n",
       "      <td>...</td>\n",
       "      <td>2015-01-22</td>\n",
       "      <td>NaN</td>\n",
       "      <td>NaN</td>\n",
       "      <td>3.0</td>\n",
       "      <td>9.0</td>\n",
       "      <td>0</td>\n",
       "      <td>0</td>\n",
       "      <td>164</td>\n",
       "      <td>Curative</td>\n",
       "      <td>1</td>\n",
       "    </tr>\n",
       "  </tbody>\n",
       "</table>\n",
       "<p>5 rows × 124 columns</p>\n",
       "</div>"
      ],
      "text/plain": [
       "  patient_id  enroll_age  age_cat  hiv_status  marital  distance  \\\n",
       "0        1.0        50.0      2.0         1.0      2.0      59.2   \n",
       "1        3.0        40.0      2.0         1.0      1.0     310.0   \n",
       "2        5.0        48.0      2.0         1.0      3.0       0.0   \n",
       "3        9.0        65.0      3.0         0.0      3.0      59.2   \n",
       "4       11.0        51.0      2.0         1.0      3.0       0.0   \n",
       "\n",
       "   cancer_screening  combined_cancer_stage  combined_cancer_stage_exact  \\\n",
       "0               1.0                      4                           12   \n",
       "1               0.0                      3                           10   \n",
       "2               0.0                      3                           10   \n",
       "3               0.0                      2                            8   \n",
       "4               1.0                      3                            9   \n",
       "\n",
       "   cr_result  ...  actual_treat_start_date  init_cancer_stage  \\\n",
       "0       90.0  ...               2015-02-03                4.0   \n",
       "1      597.0  ...               2015-02-04                3.0   \n",
       "2       50.0  ...               2015-02-04                3.0   \n",
       "3       60.0  ...               2015-02-17                2.0   \n",
       "4      117.0  ...               2015-01-22                NaN   \n",
       "\n",
       "   init_cancer_stage_exact  final_cancer_stage  final_cancer_stage_exact  \\\n",
       "0                     12.0                 3.0                      10.0   \n",
       "1                     10.0                 NaN                       NaN   \n",
       "2                     10.0                 3.0                      10.0   \n",
       "3                      8.0                 NaN                       NaN   \n",
       "4                      NaN                 3.0                       9.0   \n",
       "\n",
       "   chemo_only  primary_surgery_rt  path_to_treatment_difference  \\\n",
       "0           0                   0                            75   \n",
       "1           0                   0                           181   \n",
       "2           0                   0                             8   \n",
       "3           0                   0                           127   \n",
       "4           0                   0                           164   \n",
       "\n",
       "   curative_palliative_status  vital_status24  \n",
       "0                  Definitive               0  \n",
       "1                  Definitive               1  \n",
       "2                  Definitive               0  \n",
       "3                    Curative               1  \n",
       "4                    Curative               1  \n",
       "\n",
       "[5 rows x 124 columns]"
      ]
     },
     "execution_count": 2,
     "metadata": {},
     "output_type": "execute_result"
    }
   ],
   "source": [
    "delay_data = pd.read_excel(\"../data/time_to_treatment_data.xlsx\")\n",
    "delay_data.head()"
   ]
  },
  {
   "cell_type": "code",
   "execution_count": 3,
   "metadata": {},
   "outputs": [
    {
     "data": {
      "text/plain": [
       "array(['patient_id', 'enroll_age', 'age_cat', 'hiv_status', 'marital',\n",
       "       'distance', 'cancer_screening', 'combined_cancer_stage',\n",
       "       'combined_cancer_stage_exact', 'cr_result', 'hb_result',\n",
       "       'neut_result', 'wbc_result', 'alb_result',\n",
       "       'init_performance_status', 'chemo', 'total_chemo_received',\n",
       "       'ebrt_curr_dose', 'brachy_curr_dose', 'eqd2',\n",
       "       'ebrt_boost_curr_dose', 'treat_duration', 'treat_response',\n",
       "       'vital_status', 'death_date', 'treat_start_date',\n",
       "       'vaginal_hemorrhage', 'vaginal_discharge', 'pelvic_pain',\n",
       "       'cd4_final', 'vl_final', 'nnrti', 'nrti', 'pi', 'on_arv',\n",
       "       'lamivudine', 'abacavir', 'amprenavir', 'azt', 'atazanavir',\n",
       "       'atazanavir_boosted', 'cobicistat', 'stavudine', 'zalcitabine',\n",
       "       'didanosine', 'delavirdine', 'darunavir', 'darunavir_boosted',\n",
       "       'dolutegravir', 'efavirenz', 'etravirine', 'elvitegravir',\n",
       "       'fosamprenavir', 'fosamprenavir_boosted', 'emtricitabine', 'gazt',\n",
       "       'indinavir', 'lopinavir', 'lopinavir_boosted', 'maraviroc',\n",
       "       'nelfinavir', 'nevirapine', 'raltegravir', 'rilpivirine',\n",
       "       'ritonavir', 'saquinavir', 'saquinavir_boosted', 'enfuvirtide',\n",
       "       'tdf', 'tipranavir', 'tipranavir_boosted', 'zidovudine', 'atripla',\n",
       "       'aluvia', 'combivir', 'truvada', 'tld', 'other_arv',\n",
       "       'cr_result_tox', 'cr_tox_grade', 'pelvic_pain_tox',\n",
       "       'vaginal_discharge_tox', 'vaginal_hemorrhage_tox', 'fatigue_tox',\n",
       "       'weight_loss_tox', 'nausea_tox', 'vomiting_tox', 'urine_freq_tox',\n",
       "       'urine_incontinence_tox', 'urine_urge_tox', 'diarrhea_tox',\n",
       "       'dermatitis_tox', 'hb_min_result_tox', 'hb_tox_grade',\n",
       "       'wbc_min_result_tox', 'wbc_tox_grade', 'neut_min_result_tox',\n",
       "       'neut_tox_grade', 'alb_min_result_tox', 'alb_tox_grade',\n",
       "       'vaginal_hemorrhage_symp', 'vaginal_discharge_symp',\n",
       "       'pelvic_pain_symp', 'time_alive_treat', 'time_alive_path',\n",
       "       'received_eqd2', 'surgery', 'surgery_only', 'rt', 'crt',\n",
       "       'primary_surgery_chemo', 'primary_surgery_crt', 'treatment',\n",
       "       'pathology_date', 'actual_treat_start_date', 'init_cancer_stage',\n",
       "       'init_cancer_stage_exact', 'final_cancer_stage',\n",
       "       'final_cancer_stage_exact', 'chemo_only', 'primary_surgery_rt',\n",
       "       'path_to_treatment_difference', 'curative_palliative_status',\n",
       "       'vital_status24'], dtype=object)"
      ]
     },
     "execution_count": 3,
     "metadata": {},
     "output_type": "execute_result"
    }
   ],
   "source": [
    "delay_data.columns.values"
   ]
  },
  {
   "cell_type": "code",
   "execution_count": null,
   "metadata": {},
   "outputs": [],
   "source": [
    "# print(delay_data[\"combined_cancer_stage\"].unique())\n",
    "# delay_data[\"combined_cancer_stage_exact\"].unique()\n",
    "\n",
    "delay_data.rename(columns={\"combined_cancer_stage\":\"init_combined_cancer_stage\", \n",
    "                           \"combined_cancer_stage_exact\":\"init_combined_cancer_stage_exact\"}, inplace=True)\n",
    "\n",
    "delay_data[\"final_combined_cancer_stage_exact\"] = delay_data[\"final_cancer_stage_exact\"].fillna(delay_data[\"init_cancer_stage_exact\"])\n",
    "delay_data[\"final_combined_cancer_stage\"] = delay_data[\"final_cancer_stage\"].fillna(delay_data[\"init_cancer_stage\"])"
   ]
  },
  {
   "cell_type": "code",
   "execution_count": 5,
   "metadata": {},
   "outputs": [
    {
     "name": "stdout",
     "output_type": "stream",
     "text": [
      "(397, 123)\n",
      "(419, 123)\n"
     ]
    }
   ],
   "source": [
    "print(delay_data[delay_data[\"time_alive_treat\"] >= 731].shape)\n",
    "print(delay_data[delay_data[\"time_alive_treat\"] < 731].shape)"
   ]
  },
  {
   "cell_type": "code",
   "execution_count": 6,
   "metadata": {},
   "outputs": [],
   "source": [
    "delay_data.loc[delay_data[\"time_alive_treat\"] >= 731, \"vital_status24\"] = 1\n",
    "delay_data.loc[delay_data[\"time_alive_treat\"] < 731, \"vital_status24\"] = 0"
   ]
  },
  {
   "cell_type": "code",
   "execution_count": 6,
   "metadata": {},
   "outputs": [],
   "source": [
    "delay_data.to_excel(\"../../../data/time_to_treatment_data.xlsx\", index=False)"
   ]
  }
 ],
 "metadata": {
  "kernelspec": {
   "display_name": "Python 3",
   "language": "python",
   "name": "python3"
  },
  "language_info": {
   "codemirror_mode": {
    "name": "ipython",
    "version": 3
   },
   "file_extension": ".py",
   "mimetype": "text/x-python",
   "name": "python",
   "nbconvert_exporter": "python",
   "pygments_lexer": "ipython3",
   "version": "3.8.0"
  }
 },
 "nbformat": 4,
 "nbformat_minor": 4
}
