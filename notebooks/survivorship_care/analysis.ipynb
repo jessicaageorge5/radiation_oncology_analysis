{
 "cells": [
  {
   "cell_type": "markdown",
   "metadata": {},
   "source": [
    "# Libraries"
   ]
  },
  {
   "cell_type": "code",
   "execution_count": 1,
   "metadata": {},
   "outputs": [],
   "source": [
    "import pandas as pd\n",
    "import numpy as np\n",
    "\n",
    "import warnings\n",
    "warnings.filterwarnings(\"ignore\")"
   ]
  },
  {
   "cell_type": "markdown",
   "metadata": {},
   "source": [
    "# Data"
   ]
  },
  {
   "cell_type": "code",
   "execution_count": 2,
   "metadata": {},
   "outputs": [
    {
     "data": {
      "text/html": [
       "<div>\n",
       "<style scoped>\n",
       "    .dataframe tbody tr th:only-of-type {\n",
       "        vertical-align: middle;\n",
       "    }\n",
       "\n",
       "    .dataframe tbody tr th {\n",
       "        vertical-align: top;\n",
       "    }\n",
       "\n",
       "    .dataframe thead th {\n",
       "        text-align: right;\n",
       "    }\n",
       "</style>\n",
       "<table border=\"1\" class=\"dataframe\">\n",
       "  <thead>\n",
       "    <tr style=\"text-align: right;\">\n",
       "      <th></th>\n",
       "      <th>Record ID</th>\n",
       "      <th>Event Name</th>\n",
       "      <th>Repeat Instrument</th>\n",
       "      <th>Repeat Instance</th>\n",
       "      <th>Date of Visit</th>\n",
       "      <th>Patient Study ID</th>\n",
       "      <th>Date Of Birth</th>\n",
       "      <th>Marital Status</th>\n",
       "      <th>Country District</th>\n",
       "      <th>Physical address (village/ward)</th>\n",
       "      <th>...</th>\n",
       "      <th>Follow Up Type</th>\n",
       "      <th>Last seen date</th>\n",
       "      <th>Vital Status</th>\n",
       "      <th>Date of Death</th>\n",
       "      <th>Cause of Death</th>\n",
       "      <th>Date of Last Follow Up</th>\n",
       "      <th>How was patient reached?</th>\n",
       "      <th>Other, specify</th>\n",
       "      <th>Follow Up Weight (kg)</th>\n",
       "      <th>Performance status</th>\n",
       "    </tr>\n",
       "  </thead>\n",
       "  <tbody>\n",
       "    <tr>\n",
       "      <th>0</th>\n",
       "      <td>1</td>\n",
       "      <td>Consult</td>\n",
       "      <td>NaN</td>\n",
       "      <td>NaN</td>\n",
       "      <td>2015-01-28</td>\n",
       "      <td>1.0</td>\n",
       "      <td>1965-01-01</td>\n",
       "      <td>Divorced</td>\n",
       "      <td>Kweneng West District</td>\n",
       "      <td>Letlhakeng(Goomodimo ward)</td>\n",
       "      <td>...</td>\n",
       "      <td>NaN</td>\n",
       "      <td>NaN</td>\n",
       "      <td>NaN</td>\n",
       "      <td>NaN</td>\n",
       "      <td>NaN</td>\n",
       "      <td>NaN</td>\n",
       "      <td>NaN</td>\n",
       "      <td>NaN</td>\n",
       "      <td>NaN</td>\n",
       "      <td>NaN</td>\n",
       "    </tr>\n",
       "    <tr>\n",
       "      <th>1</th>\n",
       "      <td>1</td>\n",
       "      <td>OTV_1</td>\n",
       "      <td>NaN</td>\n",
       "      <td>NaN</td>\n",
       "      <td>NaN</td>\n",
       "      <td>NaN</td>\n",
       "      <td>NaN</td>\n",
       "      <td>NaN</td>\n",
       "      <td>NaN</td>\n",
       "      <td>NaN</td>\n",
       "      <td>...</td>\n",
       "      <td>NaN</td>\n",
       "      <td>NaN</td>\n",
       "      <td>NaN</td>\n",
       "      <td>NaN</td>\n",
       "      <td>NaN</td>\n",
       "      <td>NaN</td>\n",
       "      <td>NaN</td>\n",
       "      <td>NaN</td>\n",
       "      <td>NaN</td>\n",
       "      <td>NaN</td>\n",
       "    </tr>\n",
       "    <tr>\n",
       "      <th>2</th>\n",
       "      <td>1</td>\n",
       "      <td>OTV_3</td>\n",
       "      <td>NaN</td>\n",
       "      <td>NaN</td>\n",
       "      <td>NaN</td>\n",
       "      <td>NaN</td>\n",
       "      <td>NaN</td>\n",
       "      <td>NaN</td>\n",
       "      <td>NaN</td>\n",
       "      <td>NaN</td>\n",
       "      <td>...</td>\n",
       "      <td>NaN</td>\n",
       "      <td>NaN</td>\n",
       "      <td>NaN</td>\n",
       "      <td>NaN</td>\n",
       "      <td>NaN</td>\n",
       "      <td>NaN</td>\n",
       "      <td>NaN</td>\n",
       "      <td>NaN</td>\n",
       "      <td>NaN</td>\n",
       "      <td>NaN</td>\n",
       "    </tr>\n",
       "    <tr>\n",
       "      <th>3</th>\n",
       "      <td>1</td>\n",
       "      <td>OTV_4</td>\n",
       "      <td>NaN</td>\n",
       "      <td>NaN</td>\n",
       "      <td>NaN</td>\n",
       "      <td>NaN</td>\n",
       "      <td>NaN</td>\n",
       "      <td>NaN</td>\n",
       "      <td>NaN</td>\n",
       "      <td>NaN</td>\n",
       "      <td>...</td>\n",
       "      <td>NaN</td>\n",
       "      <td>NaN</td>\n",
       "      <td>NaN</td>\n",
       "      <td>NaN</td>\n",
       "      <td>NaN</td>\n",
       "      <td>NaN</td>\n",
       "      <td>NaN</td>\n",
       "      <td>NaN</td>\n",
       "      <td>NaN</td>\n",
       "      <td>NaN</td>\n",
       "    </tr>\n",
       "    <tr>\n",
       "      <th>4</th>\n",
       "      <td>1</td>\n",
       "      <td>3 Month Follow-Up</td>\n",
       "      <td>NaN</td>\n",
       "      <td>NaN</td>\n",
       "      <td>NaN</td>\n",
       "      <td>NaN</td>\n",
       "      <td>NaN</td>\n",
       "      <td>NaN</td>\n",
       "      <td>NaN</td>\n",
       "      <td>NaN</td>\n",
       "      <td>...</td>\n",
       "      <td>NaN</td>\n",
       "      <td>NaN</td>\n",
       "      <td>NaN</td>\n",
       "      <td>NaN</td>\n",
       "      <td>NaN</td>\n",
       "      <td>NaN</td>\n",
       "      <td>NaN</td>\n",
       "      <td>NaN</td>\n",
       "      <td>NaN</td>\n",
       "      <td>NaN</td>\n",
       "    </tr>\n",
       "  </tbody>\n",
       "</table>\n",
       "<p>5 rows × 113 columns</p>\n",
       "</div>"
      ],
      "text/plain": [
       "   Record ID         Event Name Repeat Instrument  Repeat Instance  \\\n",
       "0          1            Consult               NaN              NaN   \n",
       "1          1              OTV_1               NaN              NaN   \n",
       "2          1              OTV_3               NaN              NaN   \n",
       "3          1              OTV_4               NaN              NaN   \n",
       "4          1  3 Month Follow-Up               NaN              NaN   \n",
       "\n",
       "  Date of Visit  Patient Study ID Date Of Birth Marital Status   \\\n",
       "0    2015-01-28               1.0    1965-01-01        Divorced   \n",
       "1           NaN               NaN           NaN             NaN   \n",
       "2           NaN               NaN           NaN             NaN   \n",
       "3           NaN               NaN           NaN             NaN   \n",
       "4           NaN               NaN           NaN             NaN   \n",
       "\n",
       "        Country District Physical address (village/ward)  ... Follow Up Type  \\\n",
       "0  Kweneng West District      Letlhakeng(Goomodimo ward)  ...            NaN   \n",
       "1                    NaN                             NaN  ...            NaN   \n",
       "2                    NaN                             NaN  ...            NaN   \n",
       "3                    NaN                             NaN  ...            NaN   \n",
       "4                    NaN                             NaN  ...            NaN   \n",
       "\n",
       "  Last seen date Vital Status Date of Death Cause of Death  \\\n",
       "0            NaN          NaN           NaN            NaN   \n",
       "1            NaN          NaN           NaN            NaN   \n",
       "2            NaN          NaN           NaN            NaN   \n",
       "3            NaN          NaN           NaN            NaN   \n",
       "4            NaN          NaN           NaN            NaN   \n",
       "\n",
       "  Date of Last Follow Up How was patient reached? Other, specify  \\\n",
       "0                    NaN                      NaN            NaN   \n",
       "1                    NaN                      NaN            NaN   \n",
       "2                    NaN                      NaN            NaN   \n",
       "3                    NaN                      NaN            NaN   \n",
       "4                    NaN                      NaN            NaN   \n",
       "\n",
       "  Follow Up Weight (kg) Performance status  \n",
       "0                   NaN                NaN  \n",
       "1                   NaN                NaN  \n",
       "2                   NaN                NaN  \n",
       "3                   NaN                NaN  \n",
       "4                   NaN                NaN  \n",
       "\n",
       "[5 rows x 113 columns]"
      ]
     },
     "execution_count": 2,
     "metadata": {},
     "output_type": "execute_result"
    }
   ],
   "source": [
    "df = pd.read_csv(\"../../data/survivorship_care/survivorship_d3.csv\")\n",
    "df.head()"
   ]
  },
  {
   "cell_type": "code",
   "execution_count": 3,
   "metadata": {},
   "outputs": [],
   "source": [
    "enrollment = df[[\"Record ID\", \"Event Name\", \"Date of Visit\"]].dropna()\n",
    "# enrollment.to_csv(\"enrollment.csv\", index=False)"
   ]
  },
  {
   "cell_type": "code",
   "execution_count": 4,
   "metadata": {},
   "outputs": [
    {
     "name": "stdout",
     "output_type": "stream",
     "text": [
      "(949, 4)\n",
      "(1405,)\n"
     ]
    }
   ],
   "source": [
    "enrollment[\"Date of Visit\"] = pd.to_datetime(enrollment[\"Date of Visit\"])\n",
    "enrollment[\"Year\"] = enrollment[\"Date of Visit\"].dt.year\n",
    "print(enrollment[enrollment[\"Year\"].isin([2015,2016,2017,2018,2019])].shape)\n",
    "print(enrollment[enrollment[\"Year\"].isin([2015,2016,2017,2018,2019,2020,2021,2022])][\"Year\"].shape)"
   ]
  },
  {
   "cell_type": "code",
   "execution_count": null,
   "metadata": {},
   "outputs": [],
   "source": [
    "# df[df[\"Is this the last OTV?\"] == \"Yes\"][[\"Record ID\", \"Event Name\", \"Did patient finish treatment as prescribed-received all chemo and RT doses as prescribed on time without missing any days?\"]].dropna().to_csv(\"completed_as_prescribed.csv\", index=False)\n"
   ]
  },
  {
   "cell_type": "markdown",
   "metadata": {},
   "source": [
    "# Initial insights"
   ]
  },
  {
   "cell_type": "code",
   "execution_count": 5,
   "metadata": {
    "scrolled": true
   },
   "outputs": [
    {
     "name": "stdout",
     "output_type": "stream",
     "text": [
      "1405\n",
      "2015-01-28 00:00:00\n",
      "2022-08-03 00:00:00\n",
      "['Consult' 'OTV_1' 'OTV_3' 'OTV_4' '3 Month Follow-Up'\n",
      " '15 Months Follow-Up' 'OTV_2' '21 Months Follow-Up' '27 Months Follow-Up'\n",
      " '3 Year Follow-Up' '42 Months Follow-Up' '45 Months Follow-up'\n",
      " '4 Year Follow-Up' '54 Months Follow-Up' '5 Year Follow-Up'\n",
      " '66 Months Follow-Up' '75 Months Follow-Up' 'OTV_5' 'OTV_6'\n",
      " '18 Months Follow-Up' '2 Year Follow-Up' '30 Months Follow-Up'\n",
      " '33 Months Follow-Up' '39 Months Follow-Up' '51 Months Follow-Up'\n",
      " '57 Months Follow-Up' '87 Months Follow-Up' '78 Months Follow-Up' 'OTV_7'\n",
      " '63 Months Follow-up' '69 Months Follow-Up' '6 Month Follow-Up'\n",
      " '6 Year Follow-Up' '1 Year Follow-Up' '9 Month Follow-Up'\n",
      " 'End of Treatment' 'OTV_8' 'Cancer Care Delay & Factors'\n",
      " '81 Months Follow-Up']\n",
      "['Record ID' 'Event Name' 'Repeat Instrument' 'Repeat Instance'\n",
      " 'Date of Visit' 'Patient Study ID' 'Date Of Birth' 'Marital Status '\n",
      " 'Country District' 'Physical address (village/ward)' 'Village'\n",
      " 'Consulting clinic' 'Cancer Diagnosis Site' 'FIGO Cervical Stage'\n",
      " 'Pathology' 'Pathology Other' 'Date of Pathology sample taken'\n",
      " 'Have you been screened for cervical cancer?' 'History of Diabetes'\n",
      " 'History of tuberculosis (TB)' 'Date of Pathology Report?'\n",
      " 'Are you HIV positive?' 'CD4 Count Date' 'CD4 Count'\n",
      " 'Are you receiving HIV treatment?' 'How long have you been on ART?'\n",
      " 'List all HIV medications taking (choice=lamivudine(3TC))'\n",
      " 'List all HIV medications taking (choice=abacavir(ABC))'\n",
      " 'List all HIV medications taking (choice=amprenavir(APV))'\n",
      " 'List all HIV medications taking (choice=atazanavir(ATV))'\n",
      " 'List all HIV medications taking (choice=ritonavir-boosted atazanavir(ATV/r))'\n",
      " 'List all HIV medications taking (choice=cobicistat(COBI))'\n",
      " 'List all HIV medications taking (choice=stavudine(D4T))'\n",
      " 'List all HIV medications taking (choice=zalcitabine(ddC))'\n",
      " 'List all HIV medications taking (choice=didanosine(DDI))'\n",
      " 'List all HIV medications taking (choice=delavirdine(DLV))'\n",
      " 'List all HIV medications taking (choice=darunavir(DRV))'\n",
      " 'List all HIV medications taking (choice=ritonavir-boosted darunavir(DRV/r))'\n",
      " 'List all HIV medications taking (choice=dolutegravir(DTG))'\n",
      " 'List all HIV medications taking (choice=efavirenz(EFV))'\n",
      " 'List all HIV medications taking (choice=etravirine(ETR))'\n",
      " 'List all HIV medications taking (choice=elvitegravir(EVG))'\n",
      " 'List all HIV medications taking (choice=fosamprenavir(FPV))'\n",
      " 'List all HIV medications taking (choice=ritonavir-boosted fosamprenavir(FPV/r))'\n",
      " 'List all HIV medications taking (choice=emtricitabine(FTC))'\n",
      " 'List all HIV medications taking (choice=azidothymidineglucuronide(GAZT))'\n",
      " 'List all HIV medications taking (choice=indinavir(IDV))'\n",
      " 'List all HIV medications taking (choice=lopinavir(LPV))'\n",
      " 'List all HIV medications taking (choice=ritonavir-boosted lopinavir(LPV/r))'\n",
      " 'List all HIV medications taking (choice=maraviroc(MVC))'\n",
      " 'List all HIV medications taking (choice=nelfinavir(NFV))'\n",
      " 'List all HIV medications taking (choice=nevirapine(NVP))'\n",
      " 'List all HIV medications taking (choice=raltegravir(RAL))'\n",
      " 'List all HIV medications taking (choice=rilpivirine(RPV))'\n",
      " 'List all HIV medications taking (choice=ritonavir(RTV))'\n",
      " 'List all HIV medications taking (choice=saquinavir(SQV))'\n",
      " 'List all HIV medications taking (choice=ritonavir-boosted saquinavir(SQV/r))'\n",
      " 'List all HIV medications taking (choice=enfuvirtide(T20))'\n",
      " 'List all HIV medications taking (choice=tenofovir disoproxil fumarate(TDF))'\n",
      " 'List all HIV medications taking (choice=tipranavir(TPV))'\n",
      " 'List all HIV medications taking (choice=ritonavir-boostedtipranavir(TPV/r))'\n",
      " 'List all HIV medications taking (choice=zidovudine(ZDV))'\n",
      " 'List all HIV medications taking (choice=Atripla)'\n",
      " 'List all HIV medications taking (choice=Alluvia)'\n",
      " 'List all HIV medications taking (choice=Comibivir (CBV))'\n",
      " 'List all HIV medications taking (choice=Truvada)'\n",
      " 'List all HIV medications taking (choice=Dolutegravir (DTG))'\n",
      " 'List all HIV medications taking (choice=Other)' 'Other HIV medication'\n",
      " 'Date' 'Performance Status' 'Creatinine (umo/L) Lab Result '\n",
      " 'Creatinine Lab Date' 'Hemoglobin (g/dl) Lab Result'\n",
      " 'Hemoglobin Lab Date' 'Albumin (g/dL) Lab Result ' 'Albumin Lab Date'\n",
      " 'White Blood Count (per10^9) Lab Result' 'White Blood Count Lab Date'\n",
      " 'Neutrophil Count (%,per 10^9) Lab Result'\n",
      " 'Neutrophil Percent (%) Lab Result' 'Neutrophil Count Lab Date'\n",
      " 'Viral Load (copies/ml) Lab Result(NUMBERS ONLY)' 'Viral Load Lab Date'\n",
      " 'Is this the last OTV?' 'Date.1' 'End of Treatment FIGO Staging'\n",
      " 'End of treatment date ' 'Date treatment started ' 'Treatment type'\n",
      " 'No treatment' 'Total number of chemo cycles received' 'Surgery'\n",
      " 'Did patient finish treatment as prescribed-received all chemo and RT doses as prescribed on time without missing any days?'\n",
      " 'Response to treatment' 'What is the  EQD2 result?'\n",
      " \"If didn't received treatment as prescribed, reason? (choice=Dose of chemo changed)\"\n",
      " \"If didn't received treatment as prescribed, reason? (choice=Dose of radiation changed)\"\n",
      " \"If didn't received treatment as prescribed, reason? (choice=Missed a chemo dose)\"\n",
      " \"If didn't received treatment as prescribed, reason? (choice=Missed radiation)\"\n",
      " \"If didn't received treatment as prescribed, reason? (choice=Other)\"\n",
      " 'If other  specify' 'Date.2' 'Follow Up Type' 'Last seen date'\n",
      " 'Vital Status' 'Date of Death' 'Cause of Death' 'Date of Last Follow Up'\n",
      " 'How was patient reached?' 'Other, specify' 'Follow Up Weight (kg)'\n",
      " 'Performance status']\n"
     ]
    }
   ],
   "source": [
    "# how many patients total?\n",
    "print(df[\"Record ID\"].nunique())\n",
    "## when were they enrolled?\n",
    "print(pd.to_datetime(df[df[\"Event Name\"] == \"Consult\"][\"Date of Visit\"]).min())\n",
    "print(pd.to_datetime(df[df[\"Event Name\"] == \"Consult\"][\"Date of Visit\"]).max())\n",
    "\n",
    "# what types of events? \n",
    "print(df[\"Event Name\"].unique())\n",
    "\n",
    "# column names\n",
    "print(df.columns.values)"
   ]
  },
  {
   "cell_type": "code",
   "execution_count": 6,
   "metadata": {
    "scrolled": true
   },
   "outputs": [
    {
     "data": {
      "text/html": [
       "<div>\n",
       "<style scoped>\n",
       "    .dataframe tbody tr th:only-of-type {\n",
       "        vertical-align: middle;\n",
       "    }\n",
       "\n",
       "    .dataframe tbody tr th {\n",
       "        vertical-align: top;\n",
       "    }\n",
       "\n",
       "    .dataframe thead th {\n",
       "        text-align: right;\n",
       "    }\n",
       "</style>\n",
       "<table border=\"1\" class=\"dataframe\">\n",
       "  <thead>\n",
       "    <tr style=\"text-align: right;\">\n",
       "      <th></th>\n",
       "      <th>Record ID</th>\n",
       "      <th>Event Name</th>\n",
       "      <th>Repeat Instrument</th>\n",
       "      <th>Repeat Instance</th>\n",
       "      <th>Date of Visit</th>\n",
       "      <th>Patient Study ID</th>\n",
       "      <th>Date Of Birth</th>\n",
       "      <th>Marital Status</th>\n",
       "      <th>Country District</th>\n",
       "      <th>Physical address (village/ward)</th>\n",
       "      <th>...</th>\n",
       "      <th>Follow Up Type</th>\n",
       "      <th>Last seen date</th>\n",
       "      <th>Vital Status</th>\n",
       "      <th>Date of Death</th>\n",
       "      <th>Cause of Death</th>\n",
       "      <th>Date of Last Follow Up</th>\n",
       "      <th>How was patient reached?</th>\n",
       "      <th>Other, specify</th>\n",
       "      <th>Follow Up Weight (kg)</th>\n",
       "      <th>Performance status</th>\n",
       "    </tr>\n",
       "  </thead>\n",
       "  <tbody>\n",
       "    <tr>\n",
       "      <th>31</th>\n",
       "      <td>9</td>\n",
       "      <td>Consult</td>\n",
       "      <td>NaN</td>\n",
       "      <td>NaN</td>\n",
       "      <td>2015-02-09</td>\n",
       "      <td>9.0</td>\n",
       "      <td>1950-01-01</td>\n",
       "      <td>Single</td>\n",
       "      <td>Kweneng East District</td>\n",
       "      <td>Lentsweletau(Manato ward)</td>\n",
       "      <td>...</td>\n",
       "      <td>NaN</td>\n",
       "      <td>NaN</td>\n",
       "      <td>NaN</td>\n",
       "      <td>NaN</td>\n",
       "      <td>NaN</td>\n",
       "      <td>NaN</td>\n",
       "      <td>NaN</td>\n",
       "      <td>NaN</td>\n",
       "      <td>NaN</td>\n",
       "      <td>NaN</td>\n",
       "    </tr>\n",
       "    <tr>\n",
       "      <th>32</th>\n",
       "      <td>9</td>\n",
       "      <td>OTV_3</td>\n",
       "      <td>NaN</td>\n",
       "      <td>NaN</td>\n",
       "      <td>NaN</td>\n",
       "      <td>NaN</td>\n",
       "      <td>NaN</td>\n",
       "      <td>NaN</td>\n",
       "      <td>NaN</td>\n",
       "      <td>NaN</td>\n",
       "      <td>...</td>\n",
       "      <td>NaN</td>\n",
       "      <td>NaN</td>\n",
       "      <td>NaN</td>\n",
       "      <td>NaN</td>\n",
       "      <td>NaN</td>\n",
       "      <td>NaN</td>\n",
       "      <td>NaN</td>\n",
       "      <td>NaN</td>\n",
       "      <td>NaN</td>\n",
       "      <td>NaN</td>\n",
       "    </tr>\n",
       "    <tr>\n",
       "      <th>33</th>\n",
       "      <td>9</td>\n",
       "      <td>OTV_6</td>\n",
       "      <td>NaN</td>\n",
       "      <td>NaN</td>\n",
       "      <td>NaN</td>\n",
       "      <td>NaN</td>\n",
       "      <td>NaN</td>\n",
       "      <td>NaN</td>\n",
       "      <td>NaN</td>\n",
       "      <td>NaN</td>\n",
       "      <td>...</td>\n",
       "      <td>NaN</td>\n",
       "      <td>NaN</td>\n",
       "      <td>NaN</td>\n",
       "      <td>NaN</td>\n",
       "      <td>NaN</td>\n",
       "      <td>NaN</td>\n",
       "      <td>NaN</td>\n",
       "      <td>NaN</td>\n",
       "      <td>NaN</td>\n",
       "      <td>NaN</td>\n",
       "    </tr>\n",
       "    <tr>\n",
       "      <th>34</th>\n",
       "      <td>9</td>\n",
       "      <td>15 Months Follow-Up</td>\n",
       "      <td>Follow Up</td>\n",
       "      <td>1.0</td>\n",
       "      <td>NaN</td>\n",
       "      <td>NaN</td>\n",
       "      <td>NaN</td>\n",
       "      <td>NaN</td>\n",
       "      <td>NaN</td>\n",
       "      <td>NaN</td>\n",
       "      <td>...</td>\n",
       "      <td>Phone Call</td>\n",
       "      <td>NaN</td>\n",
       "      <td>Alive</td>\n",
       "      <td>NaN</td>\n",
       "      <td>NaN</td>\n",
       "      <td>NaN</td>\n",
       "      <td>Primary contact</td>\n",
       "      <td>NaN</td>\n",
       "      <td>NaN</td>\n",
       "      <td>90: Able to carry on normal activity; minor si...</td>\n",
       "    </tr>\n",
       "    <tr>\n",
       "      <th>35</th>\n",
       "      <td>9</td>\n",
       "      <td>18 Months Follow-Up</td>\n",
       "      <td>Follow Up</td>\n",
       "      <td>1.0</td>\n",
       "      <td>NaN</td>\n",
       "      <td>NaN</td>\n",
       "      <td>NaN</td>\n",
       "      <td>NaN</td>\n",
       "      <td>NaN</td>\n",
       "      <td>NaN</td>\n",
       "      <td>...</td>\n",
       "      <td>Phone Call</td>\n",
       "      <td>NaN</td>\n",
       "      <td>Alive</td>\n",
       "      <td>NaN</td>\n",
       "      <td>NaN</td>\n",
       "      <td>NaN</td>\n",
       "      <td>Primary contact</td>\n",
       "      <td>NaN</td>\n",
       "      <td>NaN</td>\n",
       "      <td>60: Requires occasional assistance; but is abl...</td>\n",
       "    </tr>\n",
       "    <tr>\n",
       "      <th>36</th>\n",
       "      <td>9</td>\n",
       "      <td>21 Months Follow-Up</td>\n",
       "      <td>Follow Up</td>\n",
       "      <td>1.0</td>\n",
       "      <td>NaN</td>\n",
       "      <td>NaN</td>\n",
       "      <td>NaN</td>\n",
       "      <td>NaN</td>\n",
       "      <td>NaN</td>\n",
       "      <td>NaN</td>\n",
       "      <td>...</td>\n",
       "      <td>Phone Call</td>\n",
       "      <td>NaN</td>\n",
       "      <td>Alive</td>\n",
       "      <td>NaN</td>\n",
       "      <td>NaN</td>\n",
       "      <td>NaN</td>\n",
       "      <td>Primary contact</td>\n",
       "      <td>NaN</td>\n",
       "      <td>NaN</td>\n",
       "      <td>90: Able to carry on normal activity; minor si...</td>\n",
       "    </tr>\n",
       "    <tr>\n",
       "      <th>37</th>\n",
       "      <td>9</td>\n",
       "      <td>21 Months Follow-Up</td>\n",
       "      <td>Follow Up</td>\n",
       "      <td>2.0</td>\n",
       "      <td>NaN</td>\n",
       "      <td>NaN</td>\n",
       "      <td>NaN</td>\n",
       "      <td>NaN</td>\n",
       "      <td>NaN</td>\n",
       "      <td>NaN</td>\n",
       "      <td>...</td>\n",
       "      <td>Office Visit</td>\n",
       "      <td>NaN</td>\n",
       "      <td>Alive</td>\n",
       "      <td>NaN</td>\n",
       "      <td>NaN</td>\n",
       "      <td>NaN</td>\n",
       "      <td>Consulting clinic</td>\n",
       "      <td>NaN</td>\n",
       "      <td>NaN</td>\n",
       "      <td>90: Able to carry on normal activity; minor si...</td>\n",
       "    </tr>\n",
       "    <tr>\n",
       "      <th>38</th>\n",
       "      <td>9</td>\n",
       "      <td>2 Year Follow-Up</td>\n",
       "      <td>Follow Up</td>\n",
       "      <td>1.0</td>\n",
       "      <td>NaN</td>\n",
       "      <td>NaN</td>\n",
       "      <td>NaN</td>\n",
       "      <td>NaN</td>\n",
       "      <td>NaN</td>\n",
       "      <td>NaN</td>\n",
       "      <td>...</td>\n",
       "      <td>Office Visit</td>\n",
       "      <td>NaN</td>\n",
       "      <td>Alive</td>\n",
       "      <td>NaN</td>\n",
       "      <td>NaN</td>\n",
       "      <td>NaN</td>\n",
       "      <td>NaN</td>\n",
       "      <td>NaN</td>\n",
       "      <td>NaN</td>\n",
       "      <td>90: Able to carry on normal activity; minor si...</td>\n",
       "    </tr>\n",
       "    <tr>\n",
       "      <th>39</th>\n",
       "      <td>9</td>\n",
       "      <td>30 Months Follow-Up</td>\n",
       "      <td>Follow Up</td>\n",
       "      <td>1.0</td>\n",
       "      <td>NaN</td>\n",
       "      <td>NaN</td>\n",
       "      <td>NaN</td>\n",
       "      <td>NaN</td>\n",
       "      <td>NaN</td>\n",
       "      <td>NaN</td>\n",
       "      <td>...</td>\n",
       "      <td>Phone Call</td>\n",
       "      <td>NaN</td>\n",
       "      <td>Alive</td>\n",
       "      <td>NaN</td>\n",
       "      <td>NaN</td>\n",
       "      <td>NaN</td>\n",
       "      <td>Primary contact</td>\n",
       "      <td>NaN</td>\n",
       "      <td>NaN</td>\n",
       "      <td>60: Requires occasional assistance; but is abl...</td>\n",
       "    </tr>\n",
       "    <tr>\n",
       "      <th>40</th>\n",
       "      <td>9</td>\n",
       "      <td>33 Months Follow-Up</td>\n",
       "      <td>Follow Up</td>\n",
       "      <td>1.0</td>\n",
       "      <td>NaN</td>\n",
       "      <td>NaN</td>\n",
       "      <td>NaN</td>\n",
       "      <td>NaN</td>\n",
       "      <td>NaN</td>\n",
       "      <td>NaN</td>\n",
       "      <td>...</td>\n",
       "      <td>Phone Call</td>\n",
       "      <td>NaN</td>\n",
       "      <td>Alive</td>\n",
       "      <td>NaN</td>\n",
       "      <td>NaN</td>\n",
       "      <td>NaN</td>\n",
       "      <td>Primary contact</td>\n",
       "      <td>NaN</td>\n",
       "      <td>NaN</td>\n",
       "      <td>90: Able to carry on normal activity; minor si...</td>\n",
       "    </tr>\n",
       "    <tr>\n",
       "      <th>41</th>\n",
       "      <td>9</td>\n",
       "      <td>39 Months Follow-Up</td>\n",
       "      <td>Follow Up</td>\n",
       "      <td>1.0</td>\n",
       "      <td>NaN</td>\n",
       "      <td>NaN</td>\n",
       "      <td>NaN</td>\n",
       "      <td>NaN</td>\n",
       "      <td>NaN</td>\n",
       "      <td>NaN</td>\n",
       "      <td>...</td>\n",
       "      <td>Phone Call</td>\n",
       "      <td>NaN</td>\n",
       "      <td>Alive</td>\n",
       "      <td>NaN</td>\n",
       "      <td>NaN</td>\n",
       "      <td>NaN</td>\n",
       "      <td>Primary contact</td>\n",
       "      <td>NaN</td>\n",
       "      <td>NaN</td>\n",
       "      <td>90: Able to carry on normal activity; minor si...</td>\n",
       "    </tr>\n",
       "    <tr>\n",
       "      <th>42</th>\n",
       "      <td>9</td>\n",
       "      <td>45 Months Follow-up</td>\n",
       "      <td>Follow Up</td>\n",
       "      <td>1.0</td>\n",
       "      <td>NaN</td>\n",
       "      <td>NaN</td>\n",
       "      <td>NaN</td>\n",
       "      <td>NaN</td>\n",
       "      <td>NaN</td>\n",
       "      <td>NaN</td>\n",
       "      <td>...</td>\n",
       "      <td>IPMS</td>\n",
       "      <td>2018-02-14</td>\n",
       "      <td>Alive</td>\n",
       "      <td>NaN</td>\n",
       "      <td>NaN</td>\n",
       "      <td>NaN</td>\n",
       "      <td>NaN</td>\n",
       "      <td>NaN</td>\n",
       "      <td>NaN</td>\n",
       "      <td>NaN</td>\n",
       "    </tr>\n",
       "    <tr>\n",
       "      <th>43</th>\n",
       "      <td>9</td>\n",
       "      <td>45 Months Follow-up</td>\n",
       "      <td>Follow Up</td>\n",
       "      <td>2.0</td>\n",
       "      <td>NaN</td>\n",
       "      <td>NaN</td>\n",
       "      <td>NaN</td>\n",
       "      <td>NaN</td>\n",
       "      <td>NaN</td>\n",
       "      <td>NaN</td>\n",
       "      <td>...</td>\n",
       "      <td>Office Visit</td>\n",
       "      <td>NaN</td>\n",
       "      <td>Alive</td>\n",
       "      <td>NaN</td>\n",
       "      <td>NaN</td>\n",
       "      <td>NaN</td>\n",
       "      <td>Primary contact</td>\n",
       "      <td>NaN</td>\n",
       "      <td>NaN</td>\n",
       "      <td>90: Able to carry on normal activity; minor si...</td>\n",
       "    </tr>\n",
       "    <tr>\n",
       "      <th>44</th>\n",
       "      <td>9</td>\n",
       "      <td>51 Months Follow-Up</td>\n",
       "      <td>Follow Up</td>\n",
       "      <td>1.0</td>\n",
       "      <td>NaN</td>\n",
       "      <td>NaN</td>\n",
       "      <td>NaN</td>\n",
       "      <td>NaN</td>\n",
       "      <td>NaN</td>\n",
       "      <td>NaN</td>\n",
       "      <td>...</td>\n",
       "      <td>IPMS</td>\n",
       "      <td>2019-03-06</td>\n",
       "      <td>Alive</td>\n",
       "      <td>NaN</td>\n",
       "      <td>NaN</td>\n",
       "      <td>NaN</td>\n",
       "      <td>NaN</td>\n",
       "      <td>NaN</td>\n",
       "      <td>NaN</td>\n",
       "      <td>NaN</td>\n",
       "    </tr>\n",
       "    <tr>\n",
       "      <th>45</th>\n",
       "      <td>9</td>\n",
       "      <td>54 Months Follow-Up</td>\n",
       "      <td>Follow Up</td>\n",
       "      <td>1.0</td>\n",
       "      <td>NaN</td>\n",
       "      <td>NaN</td>\n",
       "      <td>NaN</td>\n",
       "      <td>NaN</td>\n",
       "      <td>NaN</td>\n",
       "      <td>NaN</td>\n",
       "      <td>...</td>\n",
       "      <td>Phone Call</td>\n",
       "      <td>NaN</td>\n",
       "      <td>Alive</td>\n",
       "      <td>NaN</td>\n",
       "      <td>NaN</td>\n",
       "      <td>NaN</td>\n",
       "      <td>Primary contact</td>\n",
       "      <td>NaN</td>\n",
       "      <td>NaN</td>\n",
       "      <td>80: Normal activity with effort; some signs of...</td>\n",
       "    </tr>\n",
       "    <tr>\n",
       "      <th>46</th>\n",
       "      <td>9</td>\n",
       "      <td>57 Months Follow-Up</td>\n",
       "      <td>Follow Up</td>\n",
       "      <td>1.0</td>\n",
       "      <td>NaN</td>\n",
       "      <td>NaN</td>\n",
       "      <td>NaN</td>\n",
       "      <td>NaN</td>\n",
       "      <td>NaN</td>\n",
       "      <td>NaN</td>\n",
       "      <td>...</td>\n",
       "      <td>Office Visit</td>\n",
       "      <td>NaN</td>\n",
       "      <td>Alive</td>\n",
       "      <td>NaN</td>\n",
       "      <td>NaN</td>\n",
       "      <td>NaN</td>\n",
       "      <td>Primary contact</td>\n",
       "      <td>NaN</td>\n",
       "      <td>NaN</td>\n",
       "      <td>90: Able to carry on normal activity; minor si...</td>\n",
       "    </tr>\n",
       "    <tr>\n",
       "      <th>47</th>\n",
       "      <td>9</td>\n",
       "      <td>66 Months Follow-Up</td>\n",
       "      <td>Follow Up</td>\n",
       "      <td>1.0</td>\n",
       "      <td>NaN</td>\n",
       "      <td>NaN</td>\n",
       "      <td>NaN</td>\n",
       "      <td>NaN</td>\n",
       "      <td>NaN</td>\n",
       "      <td>NaN</td>\n",
       "      <td>...</td>\n",
       "      <td>Phone Call</td>\n",
       "      <td>NaN</td>\n",
       "      <td>Alive</td>\n",
       "      <td>NaN</td>\n",
       "      <td>NaN</td>\n",
       "      <td>NaN</td>\n",
       "      <td>Secondary contact</td>\n",
       "      <td>NaN</td>\n",
       "      <td>NaN</td>\n",
       "      <td>80: Normal activity with effort; some signs of...</td>\n",
       "    </tr>\n",
       "    <tr>\n",
       "      <th>48</th>\n",
       "      <td>9</td>\n",
       "      <td>87 Months Follow-Up</td>\n",
       "      <td>Follow Up</td>\n",
       "      <td>1.0</td>\n",
       "      <td>NaN</td>\n",
       "      <td>NaN</td>\n",
       "      <td>NaN</td>\n",
       "      <td>NaN</td>\n",
       "      <td>NaN</td>\n",
       "      <td>NaN</td>\n",
       "      <td>...</td>\n",
       "      <td>Office Visit</td>\n",
       "      <td>NaN</td>\n",
       "      <td>Alive</td>\n",
       "      <td>NaN</td>\n",
       "      <td>NaN</td>\n",
       "      <td>NaN</td>\n",
       "      <td>Primary contact</td>\n",
       "      <td>NaN</td>\n",
       "      <td>86.7</td>\n",
       "      <td>100: Normal no complaints; no evidence of disease</td>\n",
       "    </tr>\n",
       "  </tbody>\n",
       "</table>\n",
       "<p>18 rows × 113 columns</p>\n",
       "</div>"
      ],
      "text/plain": [
       "    Record ID           Event Name Repeat Instrument  Repeat Instance  \\\n",
       "31          9              Consult               NaN              NaN   \n",
       "32          9                OTV_3               NaN              NaN   \n",
       "33          9                OTV_6               NaN              NaN   \n",
       "34          9  15 Months Follow-Up         Follow Up              1.0   \n",
       "35          9  18 Months Follow-Up         Follow Up              1.0   \n",
       "36          9  21 Months Follow-Up         Follow Up              1.0   \n",
       "37          9  21 Months Follow-Up         Follow Up              2.0   \n",
       "38          9     2 Year Follow-Up         Follow Up              1.0   \n",
       "39          9  30 Months Follow-Up         Follow Up              1.0   \n",
       "40          9  33 Months Follow-Up         Follow Up              1.0   \n",
       "41          9  39 Months Follow-Up         Follow Up              1.0   \n",
       "42          9  45 Months Follow-up         Follow Up              1.0   \n",
       "43          9  45 Months Follow-up         Follow Up              2.0   \n",
       "44          9  51 Months Follow-Up         Follow Up              1.0   \n",
       "45          9  54 Months Follow-Up         Follow Up              1.0   \n",
       "46          9  57 Months Follow-Up         Follow Up              1.0   \n",
       "47          9  66 Months Follow-Up         Follow Up              1.0   \n",
       "48          9  87 Months Follow-Up         Follow Up              1.0   \n",
       "\n",
       "   Date of Visit  Patient Study ID Date Of Birth Marital Status   \\\n",
       "31    2015-02-09               9.0    1950-01-01          Single   \n",
       "32           NaN               NaN           NaN             NaN   \n",
       "33           NaN               NaN           NaN             NaN   \n",
       "34           NaN               NaN           NaN             NaN   \n",
       "35           NaN               NaN           NaN             NaN   \n",
       "36           NaN               NaN           NaN             NaN   \n",
       "37           NaN               NaN           NaN             NaN   \n",
       "38           NaN               NaN           NaN             NaN   \n",
       "39           NaN               NaN           NaN             NaN   \n",
       "40           NaN               NaN           NaN             NaN   \n",
       "41           NaN               NaN           NaN             NaN   \n",
       "42           NaN               NaN           NaN             NaN   \n",
       "43           NaN               NaN           NaN             NaN   \n",
       "44           NaN               NaN           NaN             NaN   \n",
       "45           NaN               NaN           NaN             NaN   \n",
       "46           NaN               NaN           NaN             NaN   \n",
       "47           NaN               NaN           NaN             NaN   \n",
       "48           NaN               NaN           NaN             NaN   \n",
       "\n",
       "         Country District Physical address (village/ward)  ... Follow Up Type  \\\n",
       "31  Kweneng East District       Lentsweletau(Manato ward)  ...            NaN   \n",
       "32                    NaN                             NaN  ...            NaN   \n",
       "33                    NaN                             NaN  ...            NaN   \n",
       "34                    NaN                             NaN  ...     Phone Call   \n",
       "35                    NaN                             NaN  ...     Phone Call   \n",
       "36                    NaN                             NaN  ...     Phone Call   \n",
       "37                    NaN                             NaN  ...   Office Visit   \n",
       "38                    NaN                             NaN  ...   Office Visit   \n",
       "39                    NaN                             NaN  ...     Phone Call   \n",
       "40                    NaN                             NaN  ...     Phone Call   \n",
       "41                    NaN                             NaN  ...     Phone Call   \n",
       "42                    NaN                             NaN  ...           IPMS   \n",
       "43                    NaN                             NaN  ...   Office Visit   \n",
       "44                    NaN                             NaN  ...           IPMS   \n",
       "45                    NaN                             NaN  ...     Phone Call   \n",
       "46                    NaN                             NaN  ...   Office Visit   \n",
       "47                    NaN                             NaN  ...     Phone Call   \n",
       "48                    NaN                             NaN  ...   Office Visit   \n",
       "\n",
       "   Last seen date Vital Status Date of Death Cause of Death  \\\n",
       "31            NaN          NaN           NaN            NaN   \n",
       "32            NaN          NaN           NaN            NaN   \n",
       "33            NaN          NaN           NaN            NaN   \n",
       "34            NaN        Alive           NaN            NaN   \n",
       "35            NaN        Alive           NaN            NaN   \n",
       "36            NaN        Alive           NaN            NaN   \n",
       "37            NaN        Alive           NaN            NaN   \n",
       "38            NaN        Alive           NaN            NaN   \n",
       "39            NaN        Alive           NaN            NaN   \n",
       "40            NaN        Alive           NaN            NaN   \n",
       "41            NaN        Alive           NaN            NaN   \n",
       "42     2018-02-14        Alive           NaN            NaN   \n",
       "43            NaN        Alive           NaN            NaN   \n",
       "44     2019-03-06        Alive           NaN            NaN   \n",
       "45            NaN        Alive           NaN            NaN   \n",
       "46            NaN        Alive           NaN            NaN   \n",
       "47            NaN        Alive           NaN            NaN   \n",
       "48            NaN        Alive           NaN            NaN   \n",
       "\n",
       "   Date of Last Follow Up How was patient reached? Other, specify  \\\n",
       "31                    NaN                      NaN            NaN   \n",
       "32                    NaN                      NaN            NaN   \n",
       "33                    NaN                      NaN            NaN   \n",
       "34                    NaN          Primary contact            NaN   \n",
       "35                    NaN          Primary contact            NaN   \n",
       "36                    NaN          Primary contact            NaN   \n",
       "37                    NaN        Consulting clinic            NaN   \n",
       "38                    NaN                      NaN            NaN   \n",
       "39                    NaN          Primary contact            NaN   \n",
       "40                    NaN          Primary contact            NaN   \n",
       "41                    NaN          Primary contact            NaN   \n",
       "42                    NaN                      NaN            NaN   \n",
       "43                    NaN          Primary contact            NaN   \n",
       "44                    NaN                      NaN            NaN   \n",
       "45                    NaN          Primary contact            NaN   \n",
       "46                    NaN          Primary contact            NaN   \n",
       "47                    NaN        Secondary contact            NaN   \n",
       "48                    NaN          Primary contact            NaN   \n",
       "\n",
       "   Follow Up Weight (kg)                                 Performance status  \n",
       "31                   NaN                                                NaN  \n",
       "32                   NaN                                                NaN  \n",
       "33                   NaN                                                NaN  \n",
       "34                   NaN  90: Able to carry on normal activity; minor si...  \n",
       "35                   NaN  60: Requires occasional assistance; but is abl...  \n",
       "36                   NaN  90: Able to carry on normal activity; minor si...  \n",
       "37                   NaN  90: Able to carry on normal activity; minor si...  \n",
       "38                   NaN  90: Able to carry on normal activity; minor si...  \n",
       "39                   NaN  60: Requires occasional assistance; but is abl...  \n",
       "40                   NaN  90: Able to carry on normal activity; minor si...  \n",
       "41                   NaN  90: Able to carry on normal activity; minor si...  \n",
       "42                   NaN                                                NaN  \n",
       "43                   NaN  90: Able to carry on normal activity; minor si...  \n",
       "44                   NaN                                                NaN  \n",
       "45                   NaN  80: Normal activity with effort; some signs of...  \n",
       "46                   NaN  90: Able to carry on normal activity; minor si...  \n",
       "47                   NaN  80: Normal activity with effort; some signs of...  \n",
       "48                  86.7  100: Normal no complaints; no evidence of disease  \n",
       "\n",
       "[18 rows x 113 columns]"
      ]
     },
     "execution_count": 6,
     "metadata": {},
     "output_type": "execute_result"
    }
   ],
   "source": [
    "# peek at one patient\n",
    "df[df[\"Record ID\"] == 9]"
   ]
  },
  {
   "cell_type": "markdown",
   "metadata": {},
   "source": [
    "# Split data"
   ]
  },
  {
   "cell_type": "code",
   "execution_count": 7,
   "metadata": {},
   "outputs": [
    {
     "name": "stdout",
     "output_type": "stream",
     "text": [
      "964\n",
      "128\n"
     ]
    },
    {
     "data": {
      "text/html": [
       "<div>\n",
       "<style scoped>\n",
       "    .dataframe tbody tr th:only-of-type {\n",
       "        vertical-align: middle;\n",
       "    }\n",
       "\n",
       "    .dataframe tbody tr th {\n",
       "        vertical-align: top;\n",
       "    }\n",
       "\n",
       "    .dataframe thead th {\n",
       "        text-align: right;\n",
       "    }\n",
       "</style>\n",
       "<table border=\"1\" class=\"dataframe\">\n",
       "  <thead>\n",
       "    <tr style=\"text-align: right;\">\n",
       "      <th></th>\n",
       "      <th>Record ID</th>\n",
       "      <th>Event Name</th>\n",
       "      <th>What is the  EQD2 result?</th>\n",
       "    </tr>\n",
       "  </thead>\n",
       "  <tbody>\n",
       "    <tr>\n",
       "      <th>124</th>\n",
       "      <td>19</td>\n",
       "      <td>OTV_7</td>\n",
       "      <td>58.0</td>\n",
       "    </tr>\n",
       "    <tr>\n",
       "      <th>6996</th>\n",
       "      <td>5677</td>\n",
       "      <td>OTV_1</td>\n",
       "      <td>12.0</td>\n",
       "    </tr>\n",
       "  </tbody>\n",
       "</table>\n",
       "</div>"
      ],
      "text/plain": [
       "      Record ID Event Name  What is the  EQD2 result?\n",
       "124          19      OTV_7                       58.0\n",
       "6996       5677      OTV_1                       12.0"
      ]
     },
     "metadata": {},
     "output_type": "display_data"
    },
    {
     "name": "stdout",
     "output_type": "stream",
     "text": [
      "(852, 2)\n",
      "852\n",
      "(722, 2)\n",
      "722\n",
      "726\n",
      "(4332, 13)\n",
      "(3917, 13)\n",
      "(852, 114)\n",
      "852\n",
      "(852, 113)\n",
      "852\n"
     ]
    }
   ],
   "source": [
    "## fix error\n",
    "df.loc[df[\"Date Of Birth\"] ==  \"1067-08-13\", \"Date Of Birth\"] = \"1967-08-13\"\n",
    "\n",
    "# print(df[[\"Record ID\", \"Event Name\", \"What is the  EQD2 result?\"]].dropna(how=\"all\", subset=[\"What is the  EQD2 result?\"])[\"Event Name\"].unique())\n",
    "## all OTV visits\n",
    "## how many received radiation at some point\n",
    "radiation_df = df[[\"Record ID\", \"Event Name\", \"What is the  EQD2 result?\"]].dropna(how=\"all\", subset=[\"What is the  EQD2 result?\"])\n",
    "radiation_df = radiation_df[radiation_df[\"What is the  EQD2 result?\"] != 0]\n",
    "print(radiation_df[\"Record ID\"].nunique())\n",
    "\n",
    "## death data\n",
    "death_df = df[(df[\"Vital Status\"] == \"Dead\")][[\"Record ID\", \"Event Name\", \"Vital Status\", \"Date of Death\"]].sort_values([\"Record ID\", \"Date of Death\"]).groupby([\"Record ID\"], sort=False)[[\"Event Name\", \"Vital Status\", \"Date of Death\"]].first().reset_index()\n",
    "# print(death_df.shape)\n",
    "# print(death_df[\"Record ID\"].nunique())\n",
    "\n",
    "## remove radiation subjects who died before EOT\n",
    "print(death_df[death_df[\"Event Name\"] == \"End of Treatment\"][\"Record ID\"].nunique())\n",
    "radiation_df = radiation_df[~radiation_df[\"Record ID\"].isin(death_df[death_df[\"Event Name\"] == \"End of Treatment\"][\"Record ID\"].unique())]\n",
    "\n",
    "## how many completed trt\n",
    "end_trt_df = df[df[\"Record ID\"].isin(radiation_df[\"Record ID\"].unique())][[\"Record ID\", \"End of treatment date \"]].dropna().drop_duplicates().groupby(\"Record ID\").first().reset_index()\n",
    "end_trt_df2 = df[(df[\"Event Name\"] == \"End of Treatment\") & (df[\"Record ID\"].isin(radiation_df[\"Record ID\"].unique()))][[\"Record ID\", \"Date.2\"]]\n",
    "end_trt_df = end_trt_df.merge(end_trt_df2, how=\"outer\", on=\"Record ID\")\n",
    "end_trt_df[\"End of treatment date \"] = pd.to_datetime(end_trt_df[\"End of treatment date \"])\n",
    "end_trt_df[\"Date.2\"] = pd.to_datetime(end_trt_df[\"Date.2\"])\n",
    "end_trt_df[\"date_min\"] = end_trt_df[[\"End of treatment date \", \"Date.2\"]].apply(lambda dates: min(dates), axis=1)\n",
    "end_trt_df.drop(columns=[\"End of treatment date \", \"Date.2\"], inplace=True)\n",
    "end_trt_df.rename(columns={\"date_min\":\"End of treatment date \"}, inplace=True)\n",
    "# print(end_trt_df.shape)\n",
    "# print(end_trt_df[\"Record ID\"].nunique())\n",
    "\n",
    "display(radiation_df[~radiation_df[\"Record ID\"].isin(end_trt_df[\"Record ID\"].unique())])\n",
    "## checking with Mma. Monare\n",
    "\n",
    "## how many completed trt by 1/1/22\n",
    "eot_b2022 = end_trt_df[end_trt_df[\"End of treatment date \"] < \"2022-01-01\"]\n",
    "print(eot_b2022.shape)\n",
    "print(eot_b2022[\"Record ID\"].nunique())\n",
    "## how many completed trt by 1/1/20\n",
    "eot_b2020 = end_trt_df[end_trt_df[\"End of treatment date \"] < \"2020-01-01\"]\n",
    "print(eot_b2020.shape)\n",
    "print(eot_b2020[\"Record ID\"].nunique())\n",
    "## proceed with these groups\n",
    "a1_df = df[df[\"Record ID\"].isin(eot_b2022[\"Record ID\"].unique())]\n",
    "# print(a1_df[\"Record ID\"].nunique())\n",
    "a2_df = df[df[\"Record ID\"].isin(eot_b2020[\"Record ID\"].unique())]\n",
    "# print(a2_df[\"Record ID\"].nunique())\n",
    "\n",
    "## grab follow up data -- follow-up, drop empty rows, non-dead\n",
    "a1_follow_up_df = df[((df[\"Event Name\"].str.contains(\"Follow-Up\")) | \n",
    "                      (df[\"Event Name\"].str.contains(\"Follow-up\"))) & \n",
    "                     (~df[\"Repeat Instance\"].isnull()) & \n",
    "                     (df[\"Vital Status\"] != \"Dead\") &\n",
    "                     (df[\"Record ID\"].isin(a1_df[\"Record ID\"].unique())) &\n",
    "                     (df[\"Follow Up Type\"].isin([\"Office Visit\", \"Phone Call\", \"IPMS\"]))].drop(columns=[\"End of treatment date \"])\n",
    "# print(a1_follow_up_df.shape)\n",
    "print(a1_follow_up_df[\"Record ID\"].nunique())\n",
    "\n",
    "a2_follow_up_df = df[((df[\"Event Name\"].str.contains(\"Follow-Up\")) | \n",
    "                      (df[\"Event Name\"].str.contains(\"Follow-up\"))) & \n",
    "                     (~df[\"Repeat Instance\"].isnull()) & \n",
    "                     (df[\"Vital Status\"] != \"Dead\") &\n",
    "                     (df[\"Record ID\"].isin(a2_df[\"Record ID\"].unique())) &\n",
    "                     (df[\"Follow Up Type\"].isin([\"Office Visit\", \"Phone Call\", \"IPMS\"]))].drop(columns=[\"End of treatment date \"])\n",
    "# print(a2_follow_up_df.shape)\n",
    "\n",
    "a1_follow_up_df = a1_follow_up_df.merge(end_trt_df, how=\"left\", on=\"Record ID\")\n",
    "a1_follow_up_df.dropna(axis=1, how=\"all\", inplace=True)\n",
    "a1_follow_up_df.dropna(axis=0, how=\"all\", subset=['Repeat Instrument', 'Repeat Instance', 'Follow Up Type', \n",
    "                                               'Vital Status', 'How was patient reached?', \n",
    "                                               'Follow Up Weight (kg)', 'Performance status'], inplace=True)\n",
    "print(a1_follow_up_df.shape) # some/all patients have more than one row\n",
    "\n",
    "a2_follow_up_df = a2_follow_up_df.merge(end_trt_df, how=\"left\", on=\"Record ID\")\n",
    "a2_follow_up_df.dropna(axis=1, how=\"all\", inplace=True)\n",
    "a2_follow_up_df.dropna(axis=0, how=\"all\", subset=['Repeat Instrument', 'Repeat Instance', 'Follow Up Type', \n",
    "                                               'Vital Status', 'How was patient reached?', \n",
    "                                               'Follow Up Weight (kg)', 'Performance status'], inplace=True)\n",
    "print(a2_follow_up_df.shape) # some/all patients have more than one row\n",
    "\n",
    "# demographic data\n",
    "consult_df = df[(df[\"Event Name\"] == \"Consult\") & \n",
    "                (df[\"Record ID\"].isin(eot_b2022[\"Record ID\"].unique()))]\n",
    "## add enrollment age \n",
    "consult_df[\"age\"] = (pd.to_datetime(consult_df[\"Date of Visit\"]) - pd.to_datetime(consult_df[\"Date Of Birth\"]))/np.timedelta64(1,\"Y\")\n",
    "print(consult_df.shape)\n",
    "print(consult_df[\"Record ID\"].nunique())\n",
    "## add column for analysis groups\n",
    "consult_df[\"analysis1\"] = 0\n",
    "consult_df.loc[consult_df[\"Record ID\"].isin(a1_df[\"Record ID\"].unique()), \"analysis1\"] = 1\n",
    "consult_df[\"analysis2\"] = 0\n",
    "consult_df.loc[consult_df[\"Record ID\"].isin(a2_df[\"Record ID\"].unique()), \"analysis2\"] = 1\n",
    "\n",
    "\n",
    "\n",
    "# last OTV data\n",
    "last_otv_df = df[(df[\"Is this the last OTV?\"] == \"Yes\") & \n",
    "                 (df[\"Record ID\"].isin(eot_b2022[\"Record ID\"].unique()))]\n",
    "\n",
    "lotv_dups = last_otv_df[last_otv_df[\"Record ID\"].isin(last_otv_df[last_otv_df[\"Record ID\"].duplicated() == True][\"Record ID\"].unique().tolist())]\n",
    "lotv_non_dups = last_otv_df[~last_otv_df[\"Record ID\"].isin(lotv_dups[\"Record ID\"].unique())]\n",
    "\n",
    "lotv_dups[\"otv_num\"] = lotv_dups[\"Event Name\"].str[-1].astype(int)\n",
    "lotv_dups = lotv_dups.sort_values([\"Record ID\", \"otv_num\"]).groupby(\"Record ID\", sort=False).first().reset_index()\n",
    "\n",
    "last_otv_df = pd.concat([lotv_non_dups, lotv_dups[lotv_non_dups.columns]], axis=0, ignore_index=True)\n",
    "print(last_otv_df.shape)\n",
    "print(last_otv_df[\"Record ID\"].nunique())\n"
   ]
  },
  {
   "cell_type": "code",
   "execution_count": 8,
   "metadata": {},
   "outputs": [
    {
     "data": {
      "text/plain": [
       "True"
      ]
     },
     "execution_count": 8,
     "metadata": {},
     "output_type": "execute_result"
    }
   ],
   "source": [
    "all(pt for pt in a2_df[\"Record ID\"].unique() if pt in a1_df[\"Record ID\"].unique())"
   ]
  },
  {
   "cell_type": "code",
   "execution_count": 9,
   "metadata": {},
   "outputs": [
    {
     "name": "stdout",
     "output_type": "stream",
     "text": [
      "(852, 85)\n",
      "(852, 34)\n"
     ]
    }
   ],
   "source": [
    "# drop any completely empty columns\n",
    "consult_df.dropna(axis=1, how=\"all\", inplace=True)\n",
    "print(consult_df.shape) # one patient per row\n",
    "last_otv_df.dropna(axis=1, how=\"all\", inplace=True)\n",
    "print(last_otv_df.shape)\n"
   ]
  },
  {
   "cell_type": "code",
   "execution_count": 10,
   "metadata": {},
   "outputs": [
    {
     "name": "stdout",
     "output_type": "stream",
     "text": [
      "852\n",
      "(9117, 113)\n",
      "722\n",
      "(8074, 113)\n",
      "726\n",
      "(4332, 13)\n",
      "609\n",
      "(3917, 13)\n"
     ]
    }
   ],
   "source": [
    "print(a1_df[\"Record ID\"].nunique())\n",
    "print(a1_df.shape)\n",
    "\n",
    "print(a2_df[\"Record ID\"].nunique())\n",
    "print(a2_df.shape)\n",
    "\n",
    "print(a1_follow_up_df[\"Record ID\"].nunique())\n",
    "print(a1_follow_up_df.shape)\n",
    "\n",
    "print(a2_follow_up_df[\"Record ID\"].nunique())\n",
    "print(a2_follow_up_df.shape)"
   ]
  },
  {
   "cell_type": "markdown",
   "metadata": {},
   "source": [
    "# Demographics"
   ]
  },
  {
   "cell_type": "code",
   "execution_count": null,
   "metadata": {},
   "outputs": [],
   "source": [
    "pd.set_option('display.float_format', lambda x: '%.5f' % x)\n",
    "\n",
    "# age\n",
    "display(consult_df[consult_df[\"age\"] >= 21][\"age\"].describe()) # filter error patient\n",
    "consult_df.loc[(consult_df[\"age\"] >= 21) & (consult_df[\"age\"] <= 39), \"age_cat\"] = \"21-39\"\n",
    "consult_df.loc[(consult_df[\"age\"] > 39) & (consult_df[\"age\"] <= 59), \"age_cat\"] = \"40-59\"\n",
    "consult_df.loc[(consult_df[\"age\"] >= 60), \"age_cat\"] = \"60+\"\n",
    "display(consult_df[consult_df[\"age\"] >= 21].groupby(\"age_cat\")[\"Record ID\"].nunique())\n",
    "\n",
    "# marital status\n",
    "display(consult_df.groupby(\"Marital Status \")[\"Record ID\"].nunique())\n",
    "\n",
    "# district\n",
    "display(consult_df.groupby(\"Country District\")[\"Record ID\"].nunique())\n",
    "\n",
    "# village\n",
    "display(consult_df.groupby(\"Village\")[\"Record ID\"].nunique())\n",
    "\n",
    "# FIGO cervical stage (for consult event)\n",
    "display(consult_df.sort_values(\"FIGO Cervical Stage\").groupby(\"FIGO Cervical Stage\")[\"Record ID\"].nunique())\n",
    "\n",
    "# cancer screening?\n",
    "display(consult_df.groupby(\"Have you been screened for cervical cancer?\")[\"Record ID\"].nunique())\n",
    "\n",
    "# history of diabetes\n",
    "display(consult_df.groupby(\"History of Diabetes\")[\"Record ID\"].nunique())\n",
    "\n",
    "# history of TB\n",
    "display(consult_df.groupby(\"History of tuberculosis (TB)\")[\"Record ID\"].nunique())\n",
    "\n",
    "# HIV status\n",
    "display(consult_df.groupby(\"Are you HIV positive?\")[\"Record ID\"].nunique())\n",
    "\n",
    "## HIV treatment (for consult event)\n",
    "display(consult_df.groupby(\"Are you receiving HIV treatment?\")[\"Record ID\"].nunique())\n",
    "display(consult_df[consult_df[\"Are you HIV positive?\"] == \"Yes\"].groupby(\"Are you receiving HIV treatment?\")[\"Record ID\"].nunique())\n",
    "\n",
    "# performance status\n",
    "display(consult_df.groupby(\"Performance Status\")[\"Record ID\"].nunique())\n",
    "\n",
    "## performance status <90\n",
    "consult_df.loc[consult_df[\"Performance Status\"].isin([\"100: Normal no complaints; no evidence of disease\",\n",
    "                                                      \"90: Able to carry on normal activity; minor signs or symptoms of disease\"]), \"performance_status_cat\"] = \">=90\"\n",
    "consult_df.loc[consult_df[\"Performance Status\"].isin([\"80: Normal activity with effort; some signs of symptoms of disease\",\n",
    "                                                      \"70: Cares for self; unable to carry on normal activity or to do active work\",\n",
    "                                                      \"60: Requires occasional assistance; but is able to care for most of his/her personal needs\",\n",
    "                                                      \"50: Requires considerable assistance and frequent medical care\",\n",
    "                                                      \"30: Severely disabled; hospital admission is indicated although death not imminent\"]), \"performance_status_cat\"] = \"<90\"\n",
    "display(consult_df.groupby(\"performance_status_cat\")[\"Record ID\"].nunique())\n",
    "\n",
    "# labs\n",
    "consult_df.loc[consult_df[\"Creatinine (umo/L) Lab Result \"].isin([9999,8888]), \"Creatinine (umo/L) Lab Result \"] = np.nan\n",
    "consult_df.loc[consult_df[\"Hemoglobin (g/dl) Lab Result\"].isin([9999,8888,99999]), \"Hemoglobin (g/dl) Lab Result\"] = np.nan\n",
    "consult_df.loc[consult_df[\"Neutrophil Count (%,per 10^9) Lab Result\"].isin([9999,8888]), \"Neutrophil Count (%,per 10^9) Lab Result\"] = np.nan\n",
    "consult_df.loc[consult_df[\"White Blood Count (per10^9) Lab Result\"].isin([9999,8888]), \"White Blood Count (per10^9) Lab Result\"] = np.nan\n",
    "consult_df.loc[consult_df[\"Albumin (g/dL) Lab Result \"].isin([9999,8888,88888]), \"Albumin (g/dL) Lab Result \"] = np.nan\n",
    "display(consult_df.describe())\n",
    "\n",
    "# HIV characteristics\n",
    "## CD4\n",
    "display(consult_df[(consult_df[\"Are you HIV positive?\"] == \"Yes\") & (~consult_df[\"CD4 Count\"].isin([9999,8888]))][\"CD4 Count\"].describe())\n",
    "## CD4 groups\n",
    "hiv_positive = consult_df[consult_df[\"Are you HIV positive?\"] == \"Yes\"]\n",
    "cd4_df = hiv_positive[~hiv_positive[\"CD4 Count\"].isin([9999])]\n",
    "cd4_df.loc[cd4_df[\"CD4 Count\"] < 200, \"CD4 Count Cat\"] = \"<200\"\n",
    "cd4_df.loc[(cd4_df[\"CD4 Count\"] >= 200) & (cd4_df[\"CD4 Count\"] < 350), \"CD4 Count Cat\"] = \">=200-<350\"\n",
    "cd4_df.loc[(cd4_df[\"CD4 Count\"] >= 350) & (cd4_df[\"CD4 Count\"] < 500), \"CD4 Count Cat\"] = \">=350-<500\"\n",
    "cd4_df.loc[cd4_df[\"CD4 Count\"] >= 500, \"CD4 Count Cat\"] = \">=500\"\n",
    "display(cd4_df.groupby(\"CD4 Count Cat\")[\"Record ID\"].nunique())\n",
    "## VL\n",
    "vl_df = hiv_positive[~hiv_positive[\"Viral Load (copies/ml) Lab Result(NUMBERS ONLY)\"].isin([9999,8888])]\n",
    "vl_df[\"Viral Load (copies/ml) Lab Result(NUMBERS ONLY) Cat\"] = 0\n",
    "vl_df.loc[vl_df[\"Viral Load (copies/ml) Lab Result(NUMBERS ONLY)\"] >= 400, \"Viral Load (copies/ml) Lab Result(NUMBERS ONLY) Cat\"] = 1 \n",
    "display(vl_df.groupby(\"Viral Load (copies/ml) Lab Result(NUMBERS ONLY) Cat\")[\"Record ID\"].nunique())\n"
   ]
  },
  {
   "cell_type": "code",
   "execution_count": null,
   "metadata": {
    "scrolled": true
   },
   "outputs": [],
   "source": [
    "pd.set_option('display.float_format', lambda x: '%.5f' % x)\n",
    "\n",
    "# FIGO cervical stage (at end of treatment)\n",
    "display(last_otv_df.groupby(\"End of Treatment FIGO Staging\")[\"Record ID\"].nunique())\n",
    "\n",
    "# treatment\n",
    "display(last_otv_df.groupby(\"No treatment\")[\"Record ID\"].nunique())\n",
    "\n",
    "## surgery\n",
    "display(last_otv_df.groupby(\"Surgery\")[\"Record ID\"].nunique())\n",
    "\n",
    "## treatment type\n",
    "display(last_otv_df.groupby(\"Treatment type\")[\"Record ID\"].nunique())\n",
    "\n",
    "## treatment response\n",
    "display(last_otv_df.groupby(\"Response to treatment\")[\"Record ID\"].nunique())\n",
    "\n",
    "# performance status\n",
    "display(last_otv_df.groupby(\"Performance Status\")[\"Record ID\"].nunique())\n",
    "\n",
    "## performance status <90\n",
    "last_otv_df.loc[last_otv_df[\"Performance Status\"].isin([\"100: Normal no complaints; no evidence of disease\",\n",
    "                                                      \"90: Able to carry on normal activity; minor signs or symptoms of disease\"]), \"performance_status_cat\"] = \">=90\"\n",
    "last_otv_df.loc[last_otv_df[\"Performance Status\"].isin([\"80: Normal activity with effort; some signs of symptoms of disease\",\n",
    "                                                      \"70: Cares for self; unable to carry on normal activity or to do active work\",\n",
    "                                                      \"60: Requires occasional assistance; but is able to care for most of his/her personal needs\",\n",
    "                                                      \"50: Requires considerable assistance and frequent medical care\",\n",
    "                                                      \"30: Severely disabled; hospital admission is indicated although death not imminent\"]), \"performance_status_cat\"] = \"<90\"\n",
    "display(last_otv_df.groupby(\"performance_status_cat\")[\"Record ID\"].nunique())\n",
    "\n",
    "# treatment\n",
    "## surgery only\n",
    "print(last_otv_df[(last_otv_df[\"Surgery\"] == \"Yes\") &\n",
    "                  ((last_otv_df[\"Total number of chemo cycles received\"].isin([\"0\", \"0000\", \"None\", \"no chemo\", \"nil\"])) | (last_otv_df[\"Total number of chemo cycles received\"].isnull())) &\n",
    "                  ((last_otv_df[\"What is the  EQD2 result?\"] == 0) | (last_otv_df[\"What is the  EQD2 result?\"].isnull()))][\"Record ID\"].nunique())\n",
    "\n",
    "## chemo only\n",
    "print(last_otv_df[((last_otv_df[\"Surgery\"] == \"No\") | (last_otv_df[\"Surgery\"].isnull())) &\n",
    "                  (last_otv_df[\"Total number of chemo cycles received\"].isin([['4', '5', '2', '1', '3', '6', '4 cycles neoadjuvant in Serowe', '4 cycles', '7', '8', '10']])) &\n",
    "                  ((last_otv_df[\"What is the  EQD2 result?\"] == 0) | (last_otv_df[\"What is the  EQD2 result?\"].isnull()))][\"Record ID\"].nunique())\n",
    "## RT only\n",
    "print(last_otv_df[((last_otv_df[\"Surgery\"] == \"No\") | (last_otv_df[\"Surgery\"].isnull())) &\n",
    "                  ((last_otv_df[\"Total number of chemo cycles received\"].isin([\"0\", \"0000\", \"None\", \"no chemo\", \"nil\"])) | (last_otv_df[\"Total number of chemo cycles received\"].isnull())) &\n",
    "                  (last_otv_df[\"What is the  EQD2 result?\"] != 0) & \n",
    "                  (~last_otv_df[\"What is the  EQD2 result?\"].isnull())][\"Record ID\"].nunique())  \n",
    "\n",
    "# CRT\n",
    "print(last_otv_df[((last_otv_df[\"Surgery\"] == \"No\") | (last_otv_df[\"Surgery\"].isnull())) &\n",
    "                  (last_otv_df[\"Total number of chemo cycles received\"].isin(['4', '5', '2', '1', '3', '6', '4 cycles neoadjuvant in Serowe', '4 cycles', '7', '8', '10'])) &\n",
    "                  (last_otv_df[\"What is the  EQD2 result?\"] != 0) & \n",
    "                  (~last_otv_df[\"What is the  EQD2 result?\"].isnull())][\"Record ID\"].nunique())\n",
    "\n",
    "## surgery and chemo\n",
    "print(last_otv_df[(last_otv_df[\"Surgery\"] == \"Yes\") &\n",
    "                  (last_otv_df[\"Total number of chemo cycles received\"].isin(['4', '5', '2', '1', '3', '6', '4 cycles neoadjuvant in Serowe', '4 cycles', '7', '8', '10'])) &\n",
    "                  ((last_otv_df[\"What is the  EQD2 result?\"] == 0) | (last_otv_df[\"What is the  EQD2 result?\"].isnull()))][\"Record ID\"].nunique())\n",
    "\n",
    "## surgery and RT\n",
    "print(last_otv_df[(last_otv_df[\"Surgery\"] == \"Yes\") &\n",
    "                  ((last_otv_df[\"Total number of chemo cycles received\"].isin([\"0\", \"0000\", \"None\", \"no chemo\", \"nil\"])) | (last_otv_df[\"Total number of chemo cycles received\"].isnull())) &\n",
    "                  (last_otv_df[\"What is the  EQD2 result?\"] != 0) & \n",
    "                  (~last_otv_df[\"What is the  EQD2 result?\"].isnull())][\"Record ID\"].nunique())  \n",
    "\n",
    "## surgery and CRT\n",
    "print(last_otv_df[(last_otv_df[\"Surgery\"] == \"Yes\") &\n",
    "                  (last_otv_df[\"Total number of chemo cycles received\"].isin(['4', '5', '2', '1', '3', '6', '4 cycles neoadjuvant in Serowe', '4 cycles', '7', '8', '10'])) &\n",
    "                  (last_otv_df[\"What is the  EQD2 result?\"] != 0) & \n",
    "                  (~last_otv_df[\"What is the  EQD2 result?\"].isnull())][\"Record ID\"].nunique())  \n",
    "\n",
    "# treatment duration\n",
    "(pd.to_datetime(last_otv_df[\"End of treatment date \"]) - pd.to_datetime(last_otv_df[\"Date treatment started \"])).dt.days.describe()\n"
   ]
  },
  {
   "cell_type": "markdown",
   "metadata": {},
   "source": [
    "# Focus Points"
   ]
  },
  {
   "cell_type": "markdown",
   "metadata": {},
   "source": [
    "### Deaths"
   ]
  },
  {
   "cell_type": "code",
   "execution_count": null,
   "metadata": {
    "scrolled": true
   },
   "outputs": [],
   "source": [
    "print(death_df[death_df[\"Record ID\"].isin(a1_df[\"Record ID\"].unique())].shape)\n",
    "print(death_df[death_df[\"Record ID\"].isin(a1_df[\"Record ID\"].unique())][\"Record ID\"].nunique())\n",
    "\n",
    "death_df[death_df[\"Record ID\"].isin(a1_df[\"Record ID\"].unique())].groupby(\"Event Name\")[\"Record ID\"].nunique()"
   ]
  },
  {
   "cell_type": "markdown",
   "metadata": {},
   "source": [
    "### Follow-up windows (grouped by follow-up type):  \n",
    "    - % who have follow up  within first 6 months (this would include 3 and 6 month visits), \n",
    "    - % who have follow up between 6-12 months (this includes 9 and 12 month visits), \n",
    "    - % who have follow up between 12-18 months\n",
    "    - % who have follow up between 18-24 months, \n",
    "    - % who have follow up between 24-36 months,\n",
    "    - % who have follow up between 36-48 months, \n",
    "    - % who have follow up between 48-60 months"
   ]
  },
  {
   "cell_type": "code",
   "execution_count": 11,
   "metadata": {},
   "outputs": [],
   "source": [
    "a1_follow_up_df[\"time_from_eot\"] = ((pd.to_datetime(a1_follow_up_df[\"Date.2\"]) - pd.to_datetime(a1_follow_up_df[\"End of treatment date \"]))/np.timedelta64(1, 'M'))\n",
    "\n",
    "office_phone_ipms_only = a1_follow_up_df[a1_follow_up_df[\"Follow Up Type\"].isin([\"Office Visit\", \"Phone Call\", \"IPMS\"])]\n",
    "w1 = office_phone_ipms_only[office_phone_ipms_only[\"Event Name\"].isin([\"3 Month Follow-Up\", \"6 Month Follow-Up\"])]\n",
    "w2 = office_phone_ipms_only[office_phone_ipms_only[\"Event Name\"].isin([\"9 Month Follow-Up\", \"1 Year Follow-Up\"])]\n",
    "w3 = office_phone_ipms_only[office_phone_ipms_only[\"Event Name\"].isin([\"15 Months Follow-Up\", \"18 Months Follow-Up\"])]\n",
    "w4 = office_phone_ipms_only[office_phone_ipms_only[\"Event Name\"].isin([\"21 Months Follow-Up\", \"2 Year Follow-Up\"])]\n",
    "w5 = office_phone_ipms_only[office_phone_ipms_only[\"Event Name\"].isin([\"27 Months Follow-Up\", \"30 Months Follow-Up\", \"33 Months Follow-Up\", \"3 Year Follow-Up\"])]\n",
    "w6 = office_phone_ipms_only[office_phone_ipms_only[\"Event Name\"].isin([\"39 Months Follow-Up\", \"42 Months Follow-Up\", \"45 Months Follow-up\", \"4 Year Follow-Up\"])]\n",
    "w7 = office_phone_ipms_only[office_phone_ipms_only[\"Event Name\"].isin([\"51 Months Follow-Up\", \"54 Months Follow-Up\", \"57 Months Follow-Up\", \"5 Year Follow-Up\"])]\n",
    "\n",
    "# office_phone_only = a1_follow_up_df[a1_follow_up_df[\"Follow Up Type\"].isin([\"Office Visit\", \"Phone Call\"])]\n",
    "# w1 = office_phone_only[office_phone_only[\"Event Name\"].isin([\"3 Month Follow-Up\", \"6 Month Follow-Up\"])]\n",
    "# w2 = office_phone_only[office_phone_only[\"Event Name\"].isin([\"9 Month Follow-Up\", \"1 Year Follow-Up\"])]\n",
    "# w3 = office_phone_only[office_phone_only[\"Event Name\"].isin([\"15 Months Follow-Up\", \"18 Months Follow-Up\"])]\n",
    "# w4 = office_phone_only[office_phone_only[\"Event Name\"].isin([\"21 Months Follow-Up\", \"2 Year Follow-Up\"])]\n",
    "# w5 = office_phone_only[office_phone_only[\"Event Name\"].isin([\"27 Months Follow-Up\", \"30 Months Follow-Up\", \"33 Months Follow-Up\", \"3 Year Follow-Up\"])]\n",
    "# w6 = office_phone_only[office_phone_only[\"Event Name\"].isin([\"39 Months Follow-Up\", \"42 Months Follow-Up\", \"45 Months Follow-up\", \"4 Year Follow-Up\"])]\n",
    "# w7 = office_phone_only[office_phone_only[\"Event Name\"].isin([\"51 Months Follow-Up\", \"54 Months Follow-Up\", \"57 Months Follow-Up\", \"5 Year Follow-Up\"])]\n",
    "\n",
    "office_only = a1_follow_up_df[a1_follow_up_df[\"Follow Up Type\"] == \"Office Visit\"]\n",
    "# w1 = office_phone_only[office_phone_only[\"Event Name\"].isin([\"3 Month Follow-Up\", \"6 Month Follow-Up\"])]\n",
    "# w2 = office_phone_only[office_phone_only[\"Event Name\"].isin([\"9 Month Follow-Up\", \"1 Year Follow-Up\"])]\n",
    "# w3 = office_phone_only[office_phone_only[\"Event Name\"].isin([\"15 Months Follow-Up\", \"18 Months Follow-Up\"])]\n",
    "# w4 = office_phone_only[office_phone_only[\"Event Name\"].isin([\"21 Months Follow-Up\", \"2 Year Follow-Up\"])]\n",
    "# w5 = office_phone_only[office_phone_only[\"Event Name\"].isin([\"27 Months Follow-Up\", \"30 Months Follow-Up\", \"33 Months Follow-Up\", \"3 Year Follow-Up\"])]\n",
    "# w6 = office_phone_only[office_phone_only[\"Event Name\"].isin([\"39 Months Follow-Up\", \"42 Months Follow-Up\", \"45 Months Follow-up\", \"4 Year Follow-Up\"])]\n",
    "# w7 = office_phone_only[office_phone_only[\"Event Name\"].isin([\"51 Months Follow-Up\", \"54 Months Follow-Up\", \"57 Months Follow-Up\", \"5 Year Follow-Up\"])]\n",
    "\n"
   ]
  },
  {
   "cell_type": "code",
   "execution_count": null,
   "metadata": {},
   "outputs": [],
   "source": [
    "def run_stats(time_range, window_df, all_pt_df, eot_cutoff_date, death_df, died_before):\n",
    "    # remove pts who died already\n",
    "    all_pt_df = all_pt_df[~all_pt_df[\"Record ID\"].isin(died_before)]\n",
    "    window_df = window_df[~window_df[\"Record ID\"].isin(died_before)]\n",
    "    \n",
    "    eligible_pts = all_pt_df[all_pt_df[\"End of treatment date \"] < eot_cutoff_date][\"Record ID\"].unique().tolist()\n",
    "#     print(all(pt not in eligible_pts for pt in died_before))\n",
    "#     if not all(pt not in window_df[\"Record ID\"].unique().tolist() for pt in died_before):\n",
    "#         print([pt for pt in died_before if pt in window_df[\"Record ID\"].unique().tolist()])\n",
    "    eligible_pts = set(eligible_pts + window_df[\"Record ID\"].unique().tolist())\n",
    "    print(\"Number of patients eligible for follow-up at {}: {}\".format(time_range, len(eligible_pts)))\n",
    "    print(\"Number of patients with follow-up at {}: {}\".format(time_range, window_df[\"Record ID\"].nunique()))\n",
    "        \n",
    "    office_df = window_df[window_df[\"Follow Up Type\"] == \"Office Visit\"]\n",
    "    print(\"\\tOffice visit: {}\".format(office_df[\"Record ID\"].nunique()))\n",
    "    \n",
    "    phone_df = window_df[(window_df[\"Follow Up Type\"] == \"Phone Call\") &\n",
    "                         (~window_df[\"Record ID\"].isin(office_df[\"Record ID\"].unique().tolist()))]\n",
    "    print(\"\\tPhone visit: {}\".format(phone_df[\"Record ID\"].nunique()))\n",
    "    \n",
    "    ipms_df = window_df[(window_df[\"Follow Up Type\"] == \"IPMS\") &\n",
    "                        (~window_df[\"Record ID\"].isin(office_df[\"Record ID\"].unique().tolist())) &\n",
    "                        (~window_df[\"Record ID\"].isin(phone_df[\"Record ID\"].unique().tolist()))]\n",
    "    print(\"\\tEMR: {}\".format(ipms_df[\"Record ID\"].nunique()))\n",
    "    \n",
    "    office_phone_ipms_df = pd.concat([office_df, phone_df, ipms_df], axis=0, ignore_index=True)\n",
    "    display(office_phone_ipms_df.sort_values([\"Record ID\", \"Follow Up Type\", \"Date.2\"]).groupby([\"Record ID\", \"Follow Up Type\"], sort=False)[[\"time_from_eot\"]].first().groupby(\"Follow Up Type\")[\"time_from_eot\"].mean())\n",
    "\n",
    "    died_during_interval = death_df[(death_df[\"Event Name\"].isin(window_df[\"Event Name\"].unique())) & (death_df[\"Record ID\"].isin(eligible_pts))]\n",
    "    print(\"Number of patients who died during {} follow-up and will not contribute to future windows: {}\".format(time_range, died_during_interval.shape[0]))\n",
    "\n",
    "    return died_during_interval[\"Record ID\"].tolist()\n"
   ]
  },
  {
   "cell_type": "code",
   "execution_count": null,
   "metadata": {
    "scrolled": true
   },
   "outputs": [],
   "source": [
    "died_before_eot = death_df[death_df[\"Event Name\"] == \"End of Treatment\"][\"Record ID\"].tolist()\n",
    "died_during_interval = run_stats(\"[3mo-6mo]\", w1, a1_df, \"2022-01-01\", death_df, died_before_eot)\n",
    "all_dead = set(died_before_eot + died_during_interval)\n",
    "print(len(all_dead))"
   ]
  },
  {
   "cell_type": "code",
   "execution_count": null,
   "metadata": {
    "scrolled": true
   },
   "outputs": [],
   "source": [
    "died_during_interval = run_stats(\"(6mo-12mo]\", w2, a1_follow_up_df, \"2021-07-01\", death_df, all_dead)\n",
    "all_dead = set(list(all_dead) + died_during_interval)\n",
    "print(len(all_dead))"
   ]
  },
  {
   "cell_type": "code",
   "execution_count": null,
   "metadata": {
    "scrolled": true
   },
   "outputs": [],
   "source": [
    "died_during_interval = run_stats(\"(12mo-18mo]\", w3, a1_follow_up_df, \"2021-01-01\", death_df, all_dead)\n",
    "all_dead = set(list(all_dead) + died_during_interval)\n",
    "print(len(all_dead))"
   ]
  },
  {
   "cell_type": "code",
   "execution_count": null,
   "metadata": {
    "scrolled": true
   },
   "outputs": [],
   "source": [
    "died_during_interval = run_stats(\"(18mo-24mo]\", w4, a1_follow_up_df, \"2020-07-01\", death_df, all_dead)\n",
    "all_dead = set(list(all_dead) + died_during_interval)\n",
    "print(len(all_dead))"
   ]
  },
  {
   "cell_type": "code",
   "execution_count": null,
   "metadata": {
    "scrolled": true
   },
   "outputs": [],
   "source": [
    "died_during_interval = run_stats(\"(24mo-36mo]\", w5, a1_follow_up_df, \"2019-07-01\", death_df, all_dead)\n",
    "all_dead = set(list(all_dead) + died_during_interval)\n",
    "print(len(all_dead))"
   ]
  },
  {
   "cell_type": "code",
   "execution_count": null,
   "metadata": {},
   "outputs": [],
   "source": [
    "died_during_interval = run_stats(\"(36mo-48mo]\", w6, a1_follow_up_df, \"2018-07-01\", death_df, all_dead)\n",
    "all_dead = set(list(all_dead) + died_during_interval)\n",
    "print(len(all_dead))"
   ]
  },
  {
   "cell_type": "code",
   "execution_count": null,
   "metadata": {
    "scrolled": true
   },
   "outputs": [],
   "source": [
    "died_during_interval = run_stats(\"(48mo-60mo]\", w7, a1_follow_up_df, \"2017-07-01\", death_df, all_dead)\n",
    "all_dead = set(list(all_dead) + died_during_interval)\n",
    "print(len(all_dead))"
   ]
  },
  {
   "cell_type": "markdown",
   "metadata": {},
   "source": [
    "### What percentage of patients are coming in every six months for the first 2 years?"
   ]
  },
  {
   "cell_type": "markdown",
   "metadata": {},
   "source": [
    "#### No follow-up"
   ]
  },
  {
   "cell_type": "code",
   "execution_count": 12,
   "metadata": {},
   "outputs": [
    {
     "name": "stdout",
     "output_type": "stream",
     "text": [
      "(598, 113)\n",
      "126\n"
     ]
    }
   ],
   "source": [
    "no_follow_up = a1_df[(~a1_df[\"Record ID\"].isin(a1_follow_up_df[\"Record ID\"].unique().tolist()))]\n",
    "print(no_follow_up.shape)\n",
    "print(no_follow_up[\"Record ID\"].nunique())\n",
    "# no follow-up"
   ]
  },
  {
   "cell_type": "code",
   "execution_count": 13,
   "metadata": {},
   "outputs": [],
   "source": [
    "def criteria_1(visit_list):\n",
    "    if \"3 Month Follow-Up\" in visit_list or \"6 Month Follow-Up\" in visit_list:\n",
    "        if \"9 Month Follow-Up\" in visit_list or \"1 Year Follow-Up\" in visit_list:\n",
    "            if \"15 Months Follow-Up\" in visit_list or \"18 Months Follow-Up\" in visit_list:\n",
    "                if \"21 Months Follow-Up\" in visit_list or \"2 Year Follow-Up\" in visit_list:\n",
    "                    return \"Y\"\n",
    "                return \"N\"\n",
    "            return \"N\"\n",
    "        return \"N\"\n",
    "    return \"N\"\n",
    "\n",
    "def criteria_1a(visit_list):\n",
    "    total = 0\n",
    "    if \"3 Month Follow-Up\" in visit_list or \"6 Month Follow-Up\" in visit_list:\n",
    "        total += 1\n",
    "    if \"9 Month Follow-Up\" in visit_list or \"1 Year Follow-Up\" in visit_list:\n",
    "        total+=1\n",
    "    if \"15 Months Follow-Up\" in visit_list or \"18 Months Follow-Up\" in visit_list:\n",
    "        total+=1\n",
    "    if \"21 Months Follow-Up\" in visit_list or \"2 Year Follow-Up\" in visit_list:\n",
    "        total+=1\n",
    "    return total\n",
    " "
   ]
  },
  {
   "cell_type": "code",
   "execution_count": 14,
   "metadata": {
    "scrolled": true
   },
   "outputs": [
    {
     "name": "stdout",
     "output_type": "stream",
     "text": [
      "(233, 4)\n",
      "233\n"
     ]
    },
    {
     "data": {
      "text/plain": [
       "15 Months Follow-Up    36\n",
       "2 Year Follow-Up       35\n",
       "6 Month Follow-Up      34\n",
       "1 Year Follow-Up       30\n",
       "3 Month Follow-Up      28\n",
       "9 Month Follow-Up      28\n",
       "21 Months Follow-Up    22\n",
       "18 Months Follow-Up    20\n",
       "Name: Event Name, dtype: int64"
      ]
     },
     "metadata": {},
     "output_type": "display_data"
    },
    {
     "data": {
      "text/plain": [
       "15 Months Follow-Up    15.450644\n",
       "2 Year Follow-Up       15.021459\n",
       "6 Month Follow-Up      14.592275\n",
       "1 Year Follow-Up       12.875536\n",
       "3 Month Follow-Up      12.017167\n",
       "9 Month Follow-Up      12.017167\n",
       "21 Months Follow-Up     9.442060\n",
       "18 Months Follow-Up     8.583691\n",
       "Name: Event Name, dtype: float64"
      ]
     },
     "metadata": {},
     "output_type": "display_data"
    }
   ],
   "source": [
    "died_within_2yr = death_df[(death_df[\"Record ID\"].isin(a1_df[\"Record ID\"].unique().tolist())) & (death_df[\"Event Name\"].isin([\"3 Month Follow-Up\", \"6 Month Follow-Up\", \"9 Month Follow-Up\", \"1 Year Follow-Up\", \"15 Months Follow-Up\", \"18 Months Follow-Up\", \"21 Months Follow-Up\", \"2 Year Follow-Up\"]))]\n",
    "print(died_within_2yr.shape)\n",
    "print(died_within_2yr[\"Record ID\"].nunique())\n",
    "display(died_within_2yr[\"Event Name\"].value_counts())\n",
    "display(died_within_2yr[\"Event Name\"].value_counts()/233*100)\n",
    "# died within 2 year follow up period\n"
   ]
  },
  {
   "cell_type": "code",
   "execution_count": null,
   "metadata": {},
   "outputs": [],
   "source": [
    "# add to consult_df for when data is combined and saved later\n",
    "consult_df[\"died_within_2yr\"] = 0\n",
    "consult_df.loc[consult_df[\"Record ID\"].isin(died_within_2yr[\"Record ID\"].tolist()), \"died_within_2yr\"] = 1\n",
    "\n",
    "consult_df[\"died_within_2yr\"].value_counts()"
   ]
  },
  {
   "cell_type": "code",
   "execution_count": 16,
   "metadata": {
    "scrolled": true
   },
   "outputs": [
    {
     "name": "stdout",
     "output_type": "stream",
     "text": [
      "627\n"
     ]
    },
    {
     "data": {
      "text/plain": [
       "N    479\n",
       "Y    201\n",
       "Name: criteria_1, dtype: int64"
      ]
     },
     "metadata": {},
     "output_type": "display_data"
    },
    {
     "data": {
      "text/plain": [
       "4    201\n",
       "1    173\n",
       "2    141\n",
       "3    112\n",
       "0     53\n",
       "Name: criteria_1a, dtype: int64"
      ]
     },
     "metadata": {},
     "output_type": "display_data"
    },
    {
     "data": {
      "text/plain": [
       "4    23.591549\n",
       "1    20.305164\n",
       "2    16.549296\n",
       "3    13.145540\n",
       "0     6.220657\n",
       "Name: criteria_1a, dtype: float64"
      ]
     },
     "metadata": {},
     "output_type": "display_data"
    },
    {
     "name": "stdout",
     "output_type": "stream",
     "text": [
      "115\n"
     ]
    },
    {
     "data": {
      "text/plain": [
       "35"
      ]
     },
     "execution_count": 16,
     "metadata": {},
     "output_type": "execute_result"
    }
   ],
   "source": [
    "office_phone_only = a1_follow_up_df[a1_follow_up_df[\"Follow Up Type\"].isin([\"Office Visit\", \"Phone Call\"])]\n",
    "\n",
    "visit_df = office_phone_only.groupby(\"Record ID\")[\"Event Name\"].apply(set).reset_index()\n",
    "visit_df[\"criteria_1\"] = visit_df[\"Event Name\"].apply(criteria_1)\n",
    "visit_df[\"criteria_1a\"] = visit_df[\"Event Name\"].apply(criteria_1a)\n",
    "print(visit_df[visit_df[\"criteria_1a\"] > 0][\"Record ID\"].nunique())\n",
    "display(visit_df[\"criteria_1\"].value_counts())\n",
    "display(visit_df[\"criteria_1a\"].value_counts())\n",
    "display(visit_df[\"criteria_1a\"].value_counts()/852*100)\n",
    "# came in every six months for the first 2 years starting from the 6 month follow up\n",
    "\n",
    "print(visit_df[(visit_df[\"Record ID\"].isin(died_within_2yr[\"Record ID\"].unique().tolist()))][\"Record ID\"].nunique())\n",
    "# remaining did not have an office or phone call visit / died before\n",
    "\n",
    "# IPMS follow-up only\n",
    "a1_follow_up_df[(a1_follow_up_df[\"Follow Up Type\"] == \"IPMS\") &\n",
    "                (~a1_follow_up_df[\"Record ID\"].isin(visit_df[visit_df[\"criteria_1a\"] > 0][\"Record ID\"].unique())) &\n",
    "                (a1_follow_up_df[\"Event Name\"].isin([\"3 Month Follow-Up\", \"6 Month Follow-Up\", \"9 Month Follow-Up\", \"1 Year Follow-Up\", \"15 Months Follow-Up\", \"18 Months Follow-Up\", \"21 Months Follow-Up\", \"2 Year Follow-Up\"]))][\"Record ID\"].nunique()\n",
    "## remaining are lost to follow-up\n"
   ]
  },
  {
   "cell_type": "code",
   "execution_count": 15,
   "metadata": {},
   "outputs": [
    {
     "name": "stdout",
     "output_type": "stream",
     "text": [
      "438\n"
     ]
    },
    {
     "data": {
      "text/plain": [
       "N    348\n",
       "Y    108\n",
       "Name: criteria_1, dtype: int64"
      ]
     },
     "metadata": {},
     "output_type": "display_data"
    },
    {
     "data": {
      "text/plain": [
       "1    131\n",
       "2    110\n",
       "4    108\n",
       "3     89\n",
       "0     18\n",
       "Name: criteria_1a, dtype: int64"
      ]
     },
     "metadata": {},
     "output_type": "display_data"
    },
    {
     "data": {
      "text/plain": [
       "1    15.375587\n",
       "2    12.910798\n",
       "4    12.676056\n",
       "3    10.446009\n",
       "0     2.112676\n",
       "Name: criteria_1a, dtype: float64"
      ]
     },
     "metadata": {},
     "output_type": "display_data"
    },
    {
     "name": "stdout",
     "output_type": "stream",
     "text": [
      "85\n"
     ]
    },
    {
     "data": {
      "text/plain": [
       "224"
      ]
     },
     "execution_count": 15,
     "metadata": {},
     "output_type": "execute_result"
    }
   ],
   "source": [
    "# same as cell above, but Office Visit only (excluding Phone Calls)\n",
    "\n",
    "office_only = a1_follow_up_df[a1_follow_up_df[\"Follow Up Type\"] == \"Office Visit\"]\n",
    "\n",
    "visit_df = office_only.groupby(\"Record ID\")[\"Event Name\"].apply(set).reset_index()\n",
    "visit_df[\"criteria_1\"] = visit_df[\"Event Name\"].apply(criteria_1)\n",
    "visit_df[\"criteria_1a\"] = visit_df[\"Event Name\"].apply(criteria_1a)\n",
    "print(visit_df[visit_df[\"criteria_1a\"] > 0][\"Record ID\"].nunique())\n",
    "display(visit_df[\"criteria_1\"].value_counts())\n",
    "display(visit_df[\"criteria_1a\"].value_counts())\n",
    "display(visit_df[\"criteria_1a\"].value_counts()/852*100)\n",
    "# came in every six months for the first 2 years starting from the 6 month follow up\n",
    "\n",
    "print(visit_df[(visit_df[\"Record ID\"].isin(died_within_2yr[\"Record ID\"].unique().tolist()))][\"Record ID\"].nunique())\n",
    "# remaining did not have an office visit / died before\n",
    "\n",
    "# IPMS or Phone Call follow-up only\n",
    "a1_follow_up_df[(a1_follow_up_df[\"Follow Up Type\"].isin([\"IPMS\", \"Phone Call\"])) &\n",
    "                (~a1_follow_up_df[\"Record ID\"].isin(visit_df[visit_df[\"criteria_1a\"] > 0][\"Record ID\"].unique())) &\n",
    "                (a1_follow_up_df[\"Event Name\"].isin([\"3 Month Follow-Up\", \"6 Month Follow-Up\", \"9 Month Follow-Up\", \"1 Year Follow-Up\", \"15 Months Follow-Up\", \"18 Months Follow-Up\", \"21 Months Follow-Up\", \"2 Year Follow-Up\"]))][\"Record ID\"].nunique()\n",
    "## remaining are lost to follow-up"
   ]
  },
  {
   "cell_type": "code",
   "execution_count": null,
   "metadata": {},
   "outputs": [],
   "source": [
    "# add to consult_df for when data is combined and saved later\n",
    "consult_df[\"criteria_1\"] = \"N\"\n",
    "consult_df.loc[consult_df[\"Record ID\"].isin(visit_df[visit_df[\"criteria_1\"] == \"Y\"][\"Record ID\"].tolist()), \"criteria_1\"] = \"Y\"\n",
    "\n",
    "consult_df[consult_df[\"analysis1\"] == 1].groupby(\"criteria_1\")[\"Record ID\"].count()\n"
   ]
  },
  {
   "cell_type": "markdown",
   "metadata": {},
   "source": [
    "### What percentage of patients are coming in every year for the next 3 years?"
   ]
  },
  {
   "cell_type": "markdown",
   "metadata": {},
   "source": [
    "#### No follow-up"
   ]
  },
  {
   "cell_type": "code",
   "execution_count": 17,
   "metadata": {},
   "outputs": [
    {
     "name": "stdout",
     "output_type": "stream",
     "text": [
      "(542, 113)\n",
      "113\n"
     ]
    }
   ],
   "source": [
    "no_follow_up = a2_df[(~a2_df[\"Record ID\"].isin(a2_follow_up_df[\"Record ID\"].unique().tolist()))]\n",
    "print(no_follow_up.shape)\n",
    "print(no_follow_up[\"Record ID\"].nunique())\n",
    "# no follow-up"
   ]
  },
  {
   "cell_type": "code",
   "execution_count": 18,
   "metadata": {},
   "outputs": [],
   "source": [
    "def criteria_2(visit_list):\n",
    "    if \"27 Months Follow-Up\" in visit_list or \"30 Months Follow-Up\" in visit_list or \"33 Months Follow-Up\" in visit_list or \"3 Year Follow-Up\" in visit_list:\n",
    "        if \"39 Months Follow-Up\" in visit_list or \"42 Months Follow-Up\" in visit_list or \"45 Months Follow-up\" in visit_list or \"4 Year Follow-Up\" in visit_list:\n",
    "            if \"51 Months Follow-Up\" in visit_list or \"54 Months Follow-Up\" in visit_list or \"57 Months Follow-Up\" in visit_list or \"5 Year Follow-Up\" in visit_list:\n",
    "                return \"Y\"\n",
    "            return \"N\"\n",
    "        return \"N\"\n",
    "    return \"N\"\n",
    "\n",
    "def criteria_2a(visit_list):\n",
    "    total = 0\n",
    "    if \"27 Months Follow-Up\" in visit_list or \"30 Months Follow-Up\" in visit_list or \"33 Months Follow-Up\" in visit_list or \"3 Year Follow-Up\" in visit_list:\n",
    "        total+=1\n",
    "    if \"39 Months Follow-Up\" in visit_list or \"42 Months Follow-Up\" in visit_list or \"45 Months Follow-up\" in visit_list or \"4 Year Follow-Up\" in visit_list:\n",
    "        total+=1\n",
    "    if \"51 Months Follow-Up\" in visit_list or \"54 Months Follow-Up\" in visit_list or \"57 Months Follow-Up\" in visit_list or \"5 Year Follow-Up\" in visit_list:\n",
    "        total+=1\n",
    "    return total\n"
   ]
  },
  {
   "cell_type": "code",
   "execution_count": 19,
   "metadata": {
    "scrolled": true
   },
   "outputs": [
    {
     "name": "stdout",
     "output_type": "stream",
     "text": [
      "(103, 4)\n",
      "103\n"
     ]
    },
    {
     "data": {
      "text/plain": [
       "27 Months Follow-Up    19\n",
       "30 Months Follow-Up    18\n",
       "42 Months Follow-Up    15\n",
       "3 Year Follow-Up       13\n",
       "39 Months Follow-Up    13\n",
       "33 Months Follow-Up    10\n",
       "54 Months Follow-Up     4\n",
       "45 Months Follow-up     4\n",
       "4 Year Follow-Up        3\n",
       "51 Months Follow-Up     3\n",
       "5 Year Follow-Up        1\n",
       "Name: Event Name, dtype: int64"
      ]
     },
     "metadata": {},
     "output_type": "display_data"
    },
    {
     "data": {
      "text/plain": [
       "27 Months Follow-Up    18.446602\n",
       "30 Months Follow-Up    17.475728\n",
       "42 Months Follow-Up    14.563107\n",
       "3 Year Follow-Up       12.621359\n",
       "39 Months Follow-Up    12.621359\n",
       "33 Months Follow-Up     9.708738\n",
       "54 Months Follow-Up     3.883495\n",
       "45 Months Follow-up     3.883495\n",
       "4 Year Follow-Up        2.912621\n",
       "51 Months Follow-Up     2.912621\n",
       "5 Year Follow-Up        0.970874\n",
       "Name: Event Name, dtype: float64"
      ]
     },
     "metadata": {},
     "output_type": "display_data"
    }
   ],
   "source": [
    "died_within_3to5yr = death_df[(~death_df[\"Record ID\"].isin(died_within_2yr[\"Record ID\"].unique().tolist())) & (death_df[\"Record ID\"].isin(a2_follow_up_df[\"Record ID\"].unique().tolist())) & (death_df[\"Event Name\"].isin([\"27 Months Follow-Up\", \"30 Months Follow-Up\", \"33 Months Follow-Up\", \"3 Year Follow-Up\", \"39 Months Follow-Up\", \"42 Months Follow-Up\", \"45 Months Follow-up\", \"4 Year Follow-Up\", \"51 Months Follow-Up\", \"54 Months Follow-Up\", \"57 Months Follow-Up\", \"5 Year Follow-Up\"]))]\n",
    "# died_within_3to5yr = death_df[(death_df[\"Record ID\"].isin(a2_follow_up_df[\"Record ID\"].unique().tolist())) & (death_df[\"Event Name\"].isin([\"27 Months Follow-Up\", \"30 Months Follow-Up\", \"33 Months Follow-Up\", \"3 Year Follow-Up\", \"39 Months Follow-Up\", \"42 Months Follow-Up\", \"45 Months Follow-up\", \"4 Year Follow-Up\", \"51 Months Follow-Up\", \"54 Months Follow-Up\", \"57 Months Follow-Up\", \"5 Year Follow-Up\"]))]\n",
    "print(died_within_3to5yr.shape)\n",
    "print(died_within_3to5yr[\"Record ID\"].nunique())\n",
    "display(died_within_3to5yr[\"Event Name\"].value_counts())\n",
    "display(died_within_3to5yr[\"Event Name\"].value_counts()/103*100)\n",
    "# died within 3 and 5 year follow up period\n"
   ]
  },
  {
   "cell_type": "code",
   "execution_count": null,
   "metadata": {
    "scrolled": true
   },
   "outputs": [],
   "source": [
    "office_phone_only = a2_follow_up_df[a2_follow_up_df[\"Follow Up Type\"].isin([\"Office Visit\", \"Phone Call\"])]\n",
    "\n",
    "visit_df = office_phone_only.groupby(\"Record ID\")[\"Event Name\"].apply(set).reset_index()\n",
    "visit_df[\"criteria_2\"] = visit_df[\"Event Name\"].apply(criteria_2)\n",
    "visit_df[\"criteria_2a\"] = visit_df[\"Event Name\"].apply(criteria_2a)\n",
    "print(visit_df[visit_df[\"criteria_2a\"] > 0][\"Record ID\"].nunique())\n",
    "display(visit_df[\"criteria_2\"].value_counts())\n",
    "display(visit_df[\"criteria_2a\"].value_counts())\n",
    "display(visit_df[\"criteria_2a\"].value_counts()/722*100)\n",
    "# came in every year for the next 3 years\n",
    "\n",
    "visit_df[(visit_df[\"Record ID\"].isin(died_within_3to5yr[\"Record ID\"].unique().tolist()))][\"Record ID\"].nunique()\n",
    "# remaining did not have an office or phone call visit / died before\n",
    "\n",
    "# IPMS follow-up only\n",
    "a2_follow_up_df[(a2_follow_up_df[\"Follow Up Type\"] == \"IPMS\") &\n",
    "                (~a2_follow_up_df[\"Record ID\"].isin(visit_df[visit_df[\"criteria_2a\"] > 0][\"Record ID\"].unique())) &\n",
    "                (a2_follow_up_df[\"Event Name\"].isin([\"3 Month Follow-Up\", \"6 Month Follow-Up\", \"9 Month Follow-Up\", \"1 Year Follow-Up\", \"15 Months Follow-Up\", \"18 Months Follow-Up\", \"21 Months Follow-Up\", \"2 Year Follow-Up\"]))][\"Record ID\"].nunique()\n",
    "## remaining are lost to follow-up\n"
   ]
  },
  {
   "cell_type": "code",
   "execution_count": 21,
   "metadata": {
    "scrolled": true
   },
   "outputs": [
    {
     "name": "stdout",
     "output_type": "stream",
     "text": [
      "205\n"
     ]
    },
    {
     "data": {
      "text/plain": [
       "N    312\n",
       "Y     41\n",
       "Name: criteria_2, dtype: int64"
      ]
     },
     "metadata": {},
     "output_type": "display_data"
    },
    {
     "data": {
      "text/plain": [
       "0    148\n",
       "1    101\n",
       "2     63\n",
       "3     41\n",
       "Name: criteria_2a, dtype: int64"
      ]
     },
     "metadata": {},
     "output_type": "display_data"
    },
    {
     "data": {
      "text/plain": [
       "0    20.498615\n",
       "1    13.988920\n",
       "2     8.725762\n",
       "3     5.678670\n",
       "Name: criteria_2a, dtype: float64"
      ]
     },
     "metadata": {},
     "output_type": "display_data"
    },
    {
     "data": {
      "text/plain": [
       "264"
      ]
     },
     "execution_count": 21,
     "metadata": {},
     "output_type": "execute_result"
    }
   ],
   "source": [
    "# same as cell above, but Office Visit only (excluding Phone Calls)\n",
    "\n",
    "office_only = a2_follow_up_df[a2_follow_up_df[\"Follow Up Type\"] == \"Office Visit\"]\n",
    "\n",
    "visit_df = office_only.groupby(\"Record ID\")[\"Event Name\"].apply(set).reset_index()\n",
    "visit_df[\"criteria_2\"] = visit_df[\"Event Name\"].apply(criteria_2)\n",
    "visit_df[\"criteria_2a\"] = visit_df[\"Event Name\"].apply(criteria_2a)\n",
    "print(visit_df[visit_df[\"criteria_2a\"] > 0][\"Record ID\"].nunique())\n",
    "display(visit_df[\"criteria_2\"].value_counts())\n",
    "display(visit_df[\"criteria_2a\"].value_counts())\n",
    "display(visit_df[\"criteria_2a\"].value_counts()/722*100)\n",
    "# came in every year for the next 3 years\n",
    "\n",
    "visit_df[(visit_df[\"Record ID\"].isin(died_within_3to5yr[\"Record ID\"].unique().tolist()))][\"Record ID\"].nunique()\n",
    "# remaining did not have an office or phone call visit / died before\n",
    "\n",
    "# IPMS or Phone Call follow-up only\n",
    "a2_follow_up_df[(a2_follow_up_df[\"Follow Up Type\"].isin([\"IPMS\", \"Phone Call\"])) &\n",
    "                (~a2_follow_up_df[\"Record ID\"].isin(visit_df[visit_df[\"criteria_2a\"] > 0][\"Record ID\"].unique())) &\n",
    "                (a2_follow_up_df[\"Event Name\"].isin([\"3 Month Follow-Up\", \"6 Month Follow-Up\", \"9 Month Follow-Up\", \"1 Year Follow-Up\", \"15 Months Follow-Up\", \"18 Months Follow-Up\", \"21 Months Follow-Up\", \"2 Year Follow-Up\"]))][\"Record ID\"].nunique()\n",
    "## remaining are lost to follow-up\n"
   ]
  },
  {
   "cell_type": "code",
   "execution_count": null,
   "metadata": {},
   "outputs": [],
   "source": [
    "# add to consult_df for when data is combined and saved later\n",
    "consult_df[\"criteria_2\"] = \"N\"\n",
    "consult_df.loc[consult_df[\"Record ID\"].isin(visit_df[visit_df[\"criteria_2\"] == \"Y\"][\"Record ID\"].tolist()), \"criteria_2\"] = \"Y\"\n",
    "\n",
    "consult_df[consult_df[\"analysis2\"] == 1].groupby(\"criteria_2\")[\"Record ID\"].count()"
   ]
  },
  {
   "cell_type": "markdown",
   "metadata": {},
   "source": [
    "### Patient visit windows split by pre- and post-pandemic"
   ]
  },
  {
   "cell_type": "markdown",
   "metadata": {},
   "source": [
    "- Use the following dates to define pre-pandemic and post-pandemic: March 31, 2020 for end of pre-pandemic and 4/1/2020 start of post-pandemic.\n",
    "- If visit date missing, anchor on the treatment date\n"
   ]
  },
  {
   "cell_type": "code",
   "execution_count": null,
   "metadata": {},
   "outputs": [],
   "source": [
    "def run_stats(df, offset):\n",
    "    # take first occurred follow-up if more than one\n",
    "    office_df = df[df[\"Follow Up Type\"] == \"Office Visit\"]\n",
    "    office_df = office_df.sort_values([\"Record ID\", \"Date.2\"]).groupby(\"Record ID\", sort=False)[[\"Date.2\", \"Follow Up Type\"]].first().reset_index()\n",
    "#     print(office_df.shape)\n",
    "#     print(office_df[\"Record ID\"].nunique())\n",
    "    phone_df = df[(~df[\"Record ID\"].isin(office_df[\"Record ID\"].unique())) &\n",
    "                  (df[\"Follow Up Type\"] == \"Phone Call\")]\n",
    "    phone_df = phone_df.sort_values([\"Record ID\", \"Date.2\"]).groupby(\"Record ID\", sort=False)[[\"Date.2\", \"Follow Up Type\"]].first().reset_index()\n",
    "#     print(phone_df.shape)\n",
    "#     print(phone_df[\"Record ID\"].nunique())\n",
    "    ipms_df = df[(~df[\"Record ID\"].isin(office_df[\"Record ID\"].unique())) &\n",
    "                 (~df[\"Record ID\"].isin(phone_df[\"Record ID\"].unique())) &\n",
    "                 (df[\"Follow Up Type\"] == \"IPMS\")]\n",
    "    ipms_df = ipms_df.sort_values([\"Record ID\", \"Date.2\"]).groupby(\"Record ID\", sort=False)[[\"Date.2\", \"Follow Up Type\"]].first().reset_index()\n",
    "#     print(ipms_df.shape)\n",
    "#     print(ipms_df[\"Record ID\"].nunique())\n",
    "    anchored = df[(~df[\"Record ID\"].isin(office_df[\"Record ID\"].unique())) &\n",
    "                  (~df[\"Record ID\"].isin(phone_df[\"Record ID\"].unique())) &\n",
    "                  (~df[\"Record ID\"].isin(ipms_df[\"Record ID\"].unique()))]\n",
    "    anchored[\"Date.2\"] = pd.to_datetime(df[\"End of treatment date \"]) + pd.DateOffset(months=offset)\n",
    "#     print(anchored.shape)\n",
    "#     print(anchored[\"Record ID\"].nunique())\n",
    "    non_anchored = pd.concat([office_df, phone_df, ipms_df], axis=0, ignore_index=True)\n",
    "    \n",
    "    print(\"Non-anchored\")\n",
    "    run_stats2(non_anchored, \"N\")\n",
    "    print(\"Anchored\")\n",
    "    run_stats2(anchored, \"Y\")\n",
    "    \n",
    "def run_stats2(df, anchored=\"N\"):\n",
    "    if df[df[\"Date.2\"].isnull()].shape[0] > 0:\n",
    "        display(df[df[\"Date.2\"].isnull()])\n",
    "    # separate pre- and post-pandemic\n",
    "    pre_pandemic = df[df[\"Date.2\"] <= \"2020-03-31\"]\n",
    "    print(\"Pre-pandemic: {}\".format(pre_pandemic[\"Record ID\"].nunique()))\n",
    "    post_pandemic = df[df[\"Date.2\"] >= \"2020-04-01\"]\n",
    "    print(\"Post-pandemic: {}\".format(post_pandemic[\"Record ID\"].nunique()))\n",
    "    \n",
    "    if anchored == \"N\":\n",
    "        # pre-pandemic by type\n",
    "        print(\"Pre-pandemic by type\")\n",
    "        display(pre_pandemic.groupby(\"Follow Up Type\")[\"Record ID\"].nunique())\n",
    "\n",
    "        # post-pandemic by type\n",
    "        print(\"Post-pandemic by type\")\n",
    "        display(post_pandemic.groupby(\"Follow Up Type\")[\"Record ID\"].nunique())\n"
   ]
  },
  {
   "cell_type": "code",
   "execution_count": null,
   "metadata": {
    "scrolled": true
   },
   "outputs": [],
   "source": [
    "a1_add = a1_df[~a1_df[\"Record ID\"].isin(a1_follow_up_df[\"Record ID\"].unique())][[\"Record ID\", \"End of treatment date \"]].dropna()\n",
    "a1_add = a1_add.sort_values([\"Record ID\", \"End of treatment date \"]).groupby(\"Record ID\", sort=False).first().reset_index()\n",
    "a1_add[list(set(a1_follow_up_df.columns) - set([\"Record ID\", \"End of treatment date \"]))] = np.nan\n",
    "a1_follow_up_df_ = pd.concat([a1_follow_up_df, a1_add], axis=0, ignore_index=True)\n",
    "\n",
    "print(a1_follow_up_df_.shape)\n",
    "print(a1_follow_up_df_[\"Record ID\"].nunique())\n",
    "\n"
   ]
  },
  {
   "cell_type": "code",
   "execution_count": null,
   "metadata": {
    "scrolled": true
   },
   "outputs": [],
   "source": [
    "w1 = a1_follow_up_df_[(a1_follow_up_df_[\"Event Name\"].isin([\"3 Month Follow-Up\", \"6 Month Follow-Up\"])) | (a1_follow_up_df_[\"Event Name\"].isnull())]\n",
    "w1_add = a1_follow_up_df_[~a1_follow_up_df_[\"Record ID\"].isin(w1[\"Record ID\"].unique())][[\"Record ID\", \"End of treatment date \"]].dropna().drop_duplicates()\n",
    "# print(w1_add.shape)\n",
    "# print(w1_add[\"Record ID\"].nunique())\n",
    "w1_add[list(set(w1.columns) - set(w1_add.columns))] = np.nan\n",
    "# print(w1.shape)\n",
    "w1 = pd.concat([w1, w1_add], axis=0, ignore_index=True)\n",
    "# print(w1.shape)\n",
    "# print(w1[\"Record ID\"].nunique())\n",
    "\n",
    "\n",
    "w2 = a1_follow_up_df_[a1_follow_up_df_[\"Event Name\"].isin([\"9 Month Follow-Up\", \"1 Year Follow-Up\"]) | (a1_follow_up_df_[\"Event Name\"].isnull())]\n",
    "w2_add = a1_follow_up_df_[~a1_follow_up_df_[\"Record ID\"].isin(w2[\"Record ID\"].unique())][[\"Record ID\", \"End of treatment date \"]].dropna().drop_duplicates()\n",
    "# print(w2_add.shape)\n",
    "# print(w2_add[\"Record ID\"].nunique())\n",
    "w2_add[list(set(w2.columns) - set(w2_add.columns))] = np.nan\n",
    "# print(w1.shape)\n",
    "w2 = pd.concat([w2, w2_add], axis=0, ignore_index=True)\n",
    "# print(w2.shape)\n",
    "# print(w2[\"Record ID\"].nunique())\n",
    "\n",
    "w3 = a1_follow_up_df_[a1_follow_up_df_[\"Event Name\"].isin([\"15 Months Follow-Up\", \"18 Months Follow-Up\"]) | (a1_follow_up_df_[\"Event Name\"].isnull())]\n",
    "w3_add = a1_follow_up_df_[~a1_follow_up_df_[\"Record ID\"].isin(w3[\"Record ID\"].unique())][[\"Record ID\", \"End of treatment date \"]].dropna().drop_duplicates()\n",
    "# print(w3_add.shape)\n",
    "# print(w3_add[\"Record ID\"].nunique())\n",
    "w3_add[list(set(w3.columns) - set(w3_add.columns))] = np.nan\n",
    "# print(w3.shape)\n",
    "w3 = pd.concat([w3, w3_add], axis=0, ignore_index=True)\n",
    "# print(w3.shape)\n",
    "# print(w3[\"Record ID\"].nunique())\n",
    "\n",
    "w4 = a1_follow_up_df_[a1_follow_up_df_[\"Event Name\"].isin([\"21 Months Follow-Up\", \"2 Year Follow-Up\"]) | (a1_follow_up_df_[\"Event Name\"].isnull())]\n",
    "w4_add = a1_follow_up_df_[~a1_follow_up_df_[\"Record ID\"].isin(w4[\"Record ID\"].unique())][[\"Record ID\", \"End of treatment date \"]].dropna().drop_duplicates()\n",
    "# print(w4_add.shape)\n",
    "# print(w4_add[\"Record ID\"].nunique())\n",
    "w4_add[list(set(w4.columns) - set(w4_add.columns))] = np.nan\n",
    "# print(w4.shape)\n",
    "w4 = pd.concat([w4, w4_add], axis=0, ignore_index=True)\n",
    "# print(w4.shape)\n",
    "# print(w4[\"Record ID\"].nunique())"
   ]
  },
  {
   "cell_type": "code",
   "execution_count": null,
   "metadata": {
    "scrolled": true
   },
   "outputs": [],
   "source": [
    "run_stats(w1, 6)\n",
    "run_stats(w2, 12)\n",
    "run_stats(w3, 18)\n",
    "run_stats(w4, 24)"
   ]
  },
  {
   "cell_type": "markdown",
   "metadata": {},
   "source": [
    "# Combine and save data"
   ]
  },
  {
   "cell_type": "code",
   "execution_count": null,
   "metadata": {},
   "outputs": [],
   "source": [
    "final_df = (consult_df.merge(death_df, how=\"left\", on=\"Record ID\")).merge(last_otv_df, how=\"left\", on=\"Record ID\")\n",
    "print(final_df.shape)\n",
    "print(final_df[\"Record ID\"].nunique())"
   ]
  },
  {
   "cell_type": "code",
   "execution_count": null,
   "metadata": {},
   "outputs": [],
   "source": [
    "final_df[\"analysis1\"].value_counts()"
   ]
  },
  {
   "cell_type": "code",
   "execution_count": null,
   "metadata": {},
   "outputs": [],
   "source": [
    "final_df[\"analysis2\"].value_counts()"
   ]
  },
  {
   "cell_type": "code",
   "execution_count": null,
   "metadata": {},
   "outputs": [],
   "source": [
    "final_df.to_csv(\"../../data/survivorship_care/analysis_data.csv\", index=False)"
   ]
  }
 ],
 "metadata": {
  "kernelspec": {
   "display_name": "Python 3",
   "language": "python",
   "name": "python3"
  },
  "language_info": {
   "codemirror_mode": {
    "name": "ipython",
    "version": 3
   },
   "file_extension": ".py",
   "mimetype": "text/x-python",
   "name": "python",
   "nbconvert_exporter": "python",
   "pygments_lexer": "ipython3",
   "version": "3.9.0"
  },
  "vscode": {
   "interpreter": {
    "hash": "397704579725e15f5c7cb49fe5f0341eb7531c82d19f2c29d197e8b64ab5776b"
   }
  }
 },
 "nbformat": 4,
 "nbformat_minor": 4
}
