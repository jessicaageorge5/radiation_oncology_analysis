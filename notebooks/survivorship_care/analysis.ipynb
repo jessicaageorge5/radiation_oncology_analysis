{
 "cells": [
  {
   "cell_type": "markdown",
   "metadata": {},
   "source": [
    "# Libraries"
   ]
  },
  {
   "cell_type": "code",
   "execution_count": null,
   "metadata": {},
   "outputs": [],
   "source": [
    "import pandas as pd\n",
    "import numpy as np\n",
    "\n",
    "import warnings\n",
    "warnings.filterwarnings(\"ignore\")"
   ]
  },
  {
   "cell_type": "markdown",
   "metadata": {},
   "source": [
    "# Data"
   ]
  },
  {
   "cell_type": "code",
   "execution_count": null,
   "metadata": {},
   "outputs": [],
   "source": [
    "df = pd.read_csv(\"../../data/survivorship_care/survivorship_d3.csv\")\n",
    "df.head()"
   ]
  },
  {
   "cell_type": "code",
   "execution_count": null,
   "metadata": {},
   "outputs": [],
   "source": [
    "enrollment = df[[\"Record ID\", \"Event Name\", \"Date of Visit\"]].dropna()\n",
    "# enrollment.to_csv(\"enrollment.csv\", index=False)"
   ]
  },
  {
   "cell_type": "code",
   "execution_count": null,
   "metadata": {},
   "outputs": [],
   "source": [
    "enrollment[\"Date of Visit\"] = pd.to_datetime(enrollment[\"Date of Visit\"])\n",
    "enrollment[\"Year\"] = enrollment[\"Date of Visit\"].dt.year\n",
    "print(enrollment[enrollment[\"Year\"].isin([2015,2016,2017,2018,2019])].shape)\n",
    "print(enrollment[enrollment[\"Year\"].isin([2015,2016,2017,2018,2019,2020,2021,2022])][\"Year\"].shape)"
   ]
  },
  {
   "cell_type": "code",
   "execution_count": null,
   "metadata": {},
   "outputs": [],
   "source": [
    "# df[df[\"Is this the last OTV?\"] == \"Yes\"][[\"Record ID\", \"Event Name\", \"Did patient finish treatment as prescribed-received all chemo and RT doses as prescribed on time without missing any days?\"]].dropna().to_csv(\"completed_as_prescribed.csv\", index=False)\n"
   ]
  },
  {
   "cell_type": "markdown",
   "metadata": {},
   "source": [
    "# Initial insights"
   ]
  },
  {
   "cell_type": "code",
   "execution_count": null,
   "metadata": {
    "scrolled": true
   },
   "outputs": [],
   "source": [
    "# how many patients total?\n",
    "print(df[\"Record ID\"].nunique())\n",
    "## when were they enrolled?\n",
    "print(pd.to_datetime(df[df[\"Event Name\"] == \"Consult\"][\"Date of Visit\"]).min())\n",
    "print(pd.to_datetime(df[df[\"Event Name\"] == \"Consult\"][\"Date of Visit\"]).max())\n",
    "\n",
    "# what types of events? \n",
    "print(df[\"Event Name\"].unique())\n",
    "\n",
    "# column names\n",
    "print(df.columns.values)"
   ]
  },
  {
   "cell_type": "code",
   "execution_count": null,
   "metadata": {
    "scrolled": true
   },
   "outputs": [],
   "source": [
    "# peek at one patient\n",
    "df[df[\"Record ID\"] == 9]"
   ]
  },
  {
   "cell_type": "markdown",
   "metadata": {},
   "source": [
    "# Split data"
   ]
  },
  {
   "cell_type": "code",
   "execution_count": null,
   "metadata": {},
   "outputs": [],
   "source": [
    "## fix error\n",
    "df.loc[df[\"Date Of Birth\"] ==  \"1067-08-13\", \"Date Of Birth\"] = \"1967-08-13\"\n",
    "\n",
    "# print(df[[\"Record ID\", \"Event Name\", \"What is the  EQD2 result?\"]].dropna(how=\"all\", subset=[\"What is the  EQD2 result?\"])[\"Event Name\"].unique())\n",
    "## all OTV visits\n",
    "## how many received radiation at some point\n",
    "radiation_df = df[[\"Record ID\", \"Event Name\", \"What is the  EQD2 result?\"]].dropna(how=\"all\", subset=[\"What is the  EQD2 result?\"])\n",
    "radiation_df = radiation_df[radiation_df[\"What is the  EQD2 result?\"] != 0]\n",
    "print(radiation_df[\"Record ID\"].nunique())\n",
    "\n",
    "## death data\n",
    "death_df = df[(df[\"Vital Status\"] == \"Dead\")][[\"Record ID\", \"Event Name\", \"Vital Status\", \"Date of Death\"]].sort_values([\"Record ID\", \"Date of Death\"]).groupby([\"Record ID\"], sort=False)[[\"Event Name\", \"Vital Status\", \"Date of Death\"]].first().reset_index()\n",
    "# print(death_df.shape)\n",
    "# print(death_df[\"Record ID\"].nunique())\n",
    "\n",
    "## remove radiation subjects who died before EOT\n",
    "print(death_df[death_df[\"Event Name\"] == \"End of Treatment\"][\"Record ID\"].nunique())\n",
    "radiation_df = radiation_df[~radiation_df[\"Record ID\"].isin(death_df[death_df[\"Event Name\"] == \"End of Treatment\"][\"Record ID\"].unique())]\n",
    "\n",
    "## how many completed trt\n",
    "end_trt_df = df[df[\"Record ID\"].isin(radiation_df[\"Record ID\"].unique())][[\"Record ID\", \"End of treatment date \"]].dropna().drop_duplicates().groupby(\"Record ID\").first().reset_index()\n",
    "end_trt_df2 = df[(df[\"Event Name\"] == \"End of Treatment\") & (df[\"Record ID\"].isin(radiation_df[\"Record ID\"].unique()))][[\"Record ID\", \"Date.2\"]]\n",
    "end_trt_df = end_trt_df.merge(end_trt_df2, how=\"outer\", on=\"Record ID\")\n",
    "end_trt_df[\"End of treatment date \"] = pd.to_datetime(end_trt_df[\"End of treatment date \"])\n",
    "end_trt_df[\"Date.2\"] = pd.to_datetime(end_trt_df[\"Date.2\"])\n",
    "end_trt_df[\"date_min\"] = end_trt_df[[\"End of treatment date \", \"Date.2\"]].apply(lambda dates: min(dates), axis=1)\n",
    "end_trt_df.drop(columns=[\"End of treatment date \", \"Date.2\"], inplace=True)\n",
    "end_trt_df.rename(columns={\"date_min\":\"End of treatment date \"}, inplace=True)\n",
    "# print(end_trt_df.shape)\n",
    "# print(end_trt_df[\"Record ID\"].nunique())\n",
    "\n",
    "display(radiation_df[~radiation_df[\"Record ID\"].isin(end_trt_df[\"Record ID\"].unique())])\n",
    "## checking with Mma. Monare\n",
    "\n",
    "## how many completed trt by 1/1/22\n",
    "eot_b2022 = end_trt_df[end_trt_df[\"End of treatment date \"] < \"2022-01-01\"]\n",
    "print(eot_b2022.shape)\n",
    "print(eot_b2022[\"Record ID\"].nunique())\n",
    "## how many completed trt by 1/1/20\n",
    "eot_b2020 = end_trt_df[end_trt_df[\"End of treatment date \"] < \"2020-01-01\"]\n",
    "print(eot_b2020.shape)\n",
    "print(eot_b2020[\"Record ID\"].nunique())\n",
    "## proceed with these groups\n",
    "a1_df = df[df[\"Record ID\"].isin(eot_b2022[\"Record ID\"].unique())]\n",
    "# print(a1_df[\"Record ID\"].nunique())\n",
    "a2_df = df[df[\"Record ID\"].isin(eot_b2020[\"Record ID\"].unique())]\n",
    "# print(a2_df[\"Record ID\"].nunique())\n",
    "\n",
    "## grab follow up data -- follow-up, drop empty rows, non-dead\n",
    "a1_follow_up_df = df[((df[\"Event Name\"].str.contains(\"Follow-Up\")) | \n",
    "                      (df[\"Event Name\"].str.contains(\"Follow-up\"))) & \n",
    "                     (~df[\"Repeat Instance\"].isnull()) & \n",
    "                     (df[\"Vital Status\"] != \"Dead\") &\n",
    "                     (df[\"Record ID\"].isin(a1_df[\"Record ID\"].unique())) &\n",
    "                     (df[\"Follow Up Type\"].isin([\"Office Visit\", \"Phone Call\", \"IPMS\"]))].drop(columns=[\"End of treatment date \"])\n",
    "# print(a1_follow_up_df.shape)\n",
    "print(a1_follow_up_df[\"Record ID\"].nunique())\n",
    "\n",
    "a2_follow_up_df = df[((df[\"Event Name\"].str.contains(\"Follow-Up\")) | \n",
    "                      (df[\"Event Name\"].str.contains(\"Follow-up\"))) & \n",
    "                     (~df[\"Repeat Instance\"].isnull()) & \n",
    "                     (df[\"Vital Status\"] != \"Dead\") &\n",
    "                     (df[\"Record ID\"].isin(a2_df[\"Record ID\"].unique())) &\n",
    "                     (df[\"Follow Up Type\"].isin([\"Office Visit\", \"Phone Call\", \"IPMS\"]))].drop(columns=[\"End of treatment date \"])\n",
    "# print(a2_follow_up_df.shape)\n",
    "\n",
    "a1_follow_up_df = a1_follow_up_df.merge(end_trt_df, how=\"left\", on=\"Record ID\")\n",
    "a1_follow_up_df.dropna(axis=1, how=\"all\", inplace=True)\n",
    "a1_follow_up_df.dropna(axis=0, how=\"all\", subset=['Repeat Instrument', 'Repeat Instance', 'Follow Up Type', \n",
    "                                               'Vital Status', 'How was patient reached?', \n",
    "                                               'Follow Up Weight (kg)', 'Performance status'], inplace=True)\n",
    "print(a1_follow_up_df.shape) # some/all patients have more than one row\n",
    "\n",
    "a2_follow_up_df = a2_follow_up_df.merge(end_trt_df, how=\"left\", on=\"Record ID\")\n",
    "a2_follow_up_df.dropna(axis=1, how=\"all\", inplace=True)\n",
    "a2_follow_up_df.dropna(axis=0, how=\"all\", subset=['Repeat Instrument', 'Repeat Instance', 'Follow Up Type', \n",
    "                                               'Vital Status', 'How was patient reached?', \n",
    "                                               'Follow Up Weight (kg)', 'Performance status'], inplace=True)\n",
    "print(a2_follow_up_df.shape) # some/all patients have more than one row\n",
    "\n",
    "# demographic data\n",
    "consult_df = df[(df[\"Event Name\"] == \"Consult\") & \n",
    "                (df[\"Record ID\"].isin(eot_b2022[\"Record ID\"].unique()))]\n",
    "## add enrollment age \n",
    "consult_df[\"age\"] = (pd.to_datetime(consult_df[\"Date of Visit\"]) - pd.to_datetime(consult_df[\"Date Of Birth\"]))/np.timedelta64(1,\"Y\")\n",
    "print(consult_df.shape)\n",
    "print(consult_df[\"Record ID\"].nunique())\n",
    "## add column for analysis groups\n",
    "consult_df[\"analysis1\"] = 0\n",
    "consult_df.loc[consult_df[\"Record ID\"].isin(a1_df[\"Record ID\"].unique()), \"analysis1\"] = 1\n",
    "consult_df[\"analysis2\"] = 0\n",
    "consult_df.loc[consult_df[\"Record ID\"].isin(a2_df[\"Record ID\"].unique()), \"analysis2\"] = 1\n",
    "\n",
    "\n",
    "\n",
    "# last OTV data\n",
    "last_otv_df = df[(df[\"Is this the last OTV?\"] == \"Yes\") & \n",
    "                 (df[\"Record ID\"].isin(eot_b2022[\"Record ID\"].unique()))]\n",
    "\n",
    "lotv_dups = last_otv_df[last_otv_df[\"Record ID\"].isin(last_otv_df[last_otv_df[\"Record ID\"].duplicated() == True][\"Record ID\"].unique().tolist())]\n",
    "lotv_non_dups = last_otv_df[~last_otv_df[\"Record ID\"].isin(lotv_dups[\"Record ID\"].unique())]\n",
    "\n",
    "lotv_dups[\"otv_num\"] = lotv_dups[\"Event Name\"].str[-1].astype(int)\n",
    "lotv_dups = lotv_dups.sort_values([\"Record ID\", \"otv_num\"]).groupby(\"Record ID\", sort=False).first().reset_index()\n",
    "\n",
    "last_otv_df = pd.concat([lotv_non_dups, lotv_dups[lotv_non_dups.columns]], axis=0, ignore_index=True)\n",
    "print(last_otv_df.shape)\n",
    "print(last_otv_df[\"Record ID\"].nunique())\n"
   ]
  },
  {
   "cell_type": "code",
   "execution_count": null,
   "metadata": {},
   "outputs": [],
   "source": [
    "all(pt for pt in a2_df[\"Record ID\"].unique() if pt in a1_df[\"Record ID\"].unique())"
   ]
  },
  {
   "cell_type": "code",
   "execution_count": null,
   "metadata": {},
   "outputs": [],
   "source": [
    "# drop any completely empty columns\n",
    "consult_df.dropna(axis=1, how=\"all\", inplace=True)\n",
    "print(consult_df.shape) # one patient per row\n",
    "last_otv_df.dropna(axis=1, how=\"all\", inplace=True)\n",
    "print(last_otv_df.shape)\n"
   ]
  },
  {
   "cell_type": "code",
   "execution_count": null,
   "metadata": {},
   "outputs": [],
   "source": [
    "print(a1_df[\"Record ID\"].nunique())\n",
    "print(a1_df.shape)\n",
    "\n",
    "print(a2_df[\"Record ID\"].nunique())\n",
    "print(a2_df.shape)\n",
    "\n",
    "print(a1_follow_up_df[\"Record ID\"].nunique())\n",
    "print(a1_follow_up_df.shape)\n",
    "\n",
    "print(a2_follow_up_df[\"Record ID\"].nunique())\n",
    "print(a2_follow_up_df.shape)"
   ]
  },
  {
   "cell_type": "markdown",
   "metadata": {},
   "source": [
    "# Demographics"
   ]
  },
  {
   "cell_type": "code",
   "execution_count": null,
   "metadata": {},
   "outputs": [],
   "source": [
    "pd.set_option('display.float_format', lambda x: '%.5f' % x)\n",
    "\n",
    "# age\n",
    "display(consult_df[consult_df[\"age\"] >= 21][\"age\"].describe()) # filter error patient\n",
    "consult_df.loc[(consult_df[\"age\"] >= 21) & (consult_df[\"age\"] <= 39), \"age_cat\"] = \"21-39\"\n",
    "consult_df.loc[(consult_df[\"age\"] > 39) & (consult_df[\"age\"] <= 59), \"age_cat\"] = \"40-59\"\n",
    "consult_df.loc[(consult_df[\"age\"] >= 60), \"age_cat\"] = \"60+\"\n",
    "display(consult_df[consult_df[\"age\"] >= 21].groupby(\"age_cat\")[\"Record ID\"].nunique())\n",
    "\n",
    "# marital status\n",
    "display(consult_df.groupby(\"Marital Status \")[\"Record ID\"].nunique())\n",
    "\n",
    "# district\n",
    "display(consult_df.groupby(\"Country District\")[\"Record ID\"].nunique())\n",
    "\n",
    "# village\n",
    "display(consult_df.groupby(\"Village\")[\"Record ID\"].nunique())\n",
    "\n",
    "# FIGO cervical stage (for consult event)\n",
    "display(consult_df.sort_values(\"FIGO Cervical Stage\").groupby(\"FIGO Cervical Stage\")[\"Record ID\"].nunique())\n",
    "\n",
    "# cancer screening?\n",
    "display(consult_df.groupby(\"Have you been screened for cervical cancer?\")[\"Record ID\"].nunique())\n",
    "\n",
    "# history of diabetes\n",
    "display(consult_df.groupby(\"History of Diabetes\")[\"Record ID\"].nunique())\n",
    "\n",
    "# history of TB\n",
    "display(consult_df.groupby(\"History of tuberculosis (TB)\")[\"Record ID\"].nunique())\n",
    "\n",
    "# HIV status\n",
    "display(consult_df.groupby(\"Are you HIV positive?\")[\"Record ID\"].nunique())\n",
    "\n",
    "## HIV treatment (for consult event)\n",
    "display(consult_df.groupby(\"Are you receiving HIV treatment?\")[\"Record ID\"].nunique())\n",
    "display(consult_df[consult_df[\"Are you HIV positive?\"] == \"Yes\"].groupby(\"Are you receiving HIV treatment?\")[\"Record ID\"].nunique())\n",
    "\n",
    "# performance status\n",
    "display(consult_df.groupby(\"Performance Status\")[\"Record ID\"].nunique())\n",
    "\n",
    "## performance status <90\n",
    "consult_df.loc[consult_df[\"Performance Status\"].isin([\"100: Normal no complaints; no evidence of disease\",\n",
    "                                                      \"90: Able to carry on normal activity; minor signs or symptoms of disease\"]), \"performance_status_cat\"] = \">=90\"\n",
    "consult_df.loc[consult_df[\"Performance Status\"].isin([\"80: Normal activity with effort; some signs of symptoms of disease\",\n",
    "                                                      \"70: Cares for self; unable to carry on normal activity or to do active work\",\n",
    "                                                      \"60: Requires occasional assistance; but is able to care for most of his/her personal needs\",\n",
    "                                                      \"50: Requires considerable assistance and frequent medical care\",\n",
    "                                                      \"30: Severely disabled; hospital admission is indicated although death not imminent\"]), \"performance_status_cat\"] = \"<90\"\n",
    "display(consult_df.groupby(\"performance_status_cat\")[\"Record ID\"].nunique())\n",
    "\n",
    "# labs\n",
    "consult_df.loc[consult_df[\"Creatinine (umo/L) Lab Result \"].isin([9999,8888]), \"Creatinine (umo/L) Lab Result \"] = np.nan\n",
    "consult_df.loc[consult_df[\"Hemoglobin (g/dl) Lab Result\"].isin([9999,8888,99999]), \"Hemoglobin (g/dl) Lab Result\"] = np.nan\n",
    "consult_df.loc[consult_df[\"Neutrophil Count (%,per 10^9) Lab Result\"].isin([9999,8888]), \"Neutrophil Count (%,per 10^9) Lab Result\"] = np.nan\n",
    "consult_df.loc[consult_df[\"White Blood Count (per10^9) Lab Result\"].isin([9999,8888]), \"White Blood Count (per10^9) Lab Result\"] = np.nan\n",
    "consult_df.loc[consult_df[\"Albumin (g/dL) Lab Result \"].isin([9999,8888,88888]), \"Albumin (g/dL) Lab Result \"] = np.nan\n",
    "display(consult_df.describe())\n",
    "\n",
    "# HIV characteristics\n",
    "## CD4\n",
    "display(consult_df[(consult_df[\"Are you HIV positive?\"] == \"Yes\") & (~consult_df[\"CD4 Count\"].isin([9999,8888]))][\"CD4 Count\"].describe())\n",
    "## CD4 groups\n",
    "hiv_positive = consult_df[consult_df[\"Are you HIV positive?\"] == \"Yes\"]\n",
    "cd4_df = hiv_positive[~hiv_positive[\"CD4 Count\"].isin([9999])]\n",
    "cd4_df.loc[cd4_df[\"CD4 Count\"] < 200, \"CD4 Count Cat\"] = \"<200\"\n",
    "cd4_df.loc[(cd4_df[\"CD4 Count\"] >= 200) & (cd4_df[\"CD4 Count\"] < 350), \"CD4 Count Cat\"] = \">=200-<350\"\n",
    "cd4_df.loc[(cd4_df[\"CD4 Count\"] >= 350) & (cd4_df[\"CD4 Count\"] < 500), \"CD4 Count Cat\"] = \">=350-<500\"\n",
    "cd4_df.loc[cd4_df[\"CD4 Count\"] >= 500, \"CD4 Count Cat\"] = \">=500\"\n",
    "display(cd4_df.groupby(\"CD4 Count Cat\")[\"Record ID\"].nunique())\n",
    "## VL\n",
    "vl_df = hiv_positive[~hiv_positive[\"Viral Load (copies/ml) Lab Result(NUMBERS ONLY)\"].isin([9999,8888])]\n",
    "vl_df[\"Viral Load (copies/ml) Lab Result(NUMBERS ONLY) Cat\"] = 0\n",
    "vl_df.loc[vl_df[\"Viral Load (copies/ml) Lab Result(NUMBERS ONLY)\"] >= 400, \"Viral Load (copies/ml) Lab Result(NUMBERS ONLY) Cat\"] = 1 \n",
    "display(vl_df.groupby(\"Viral Load (copies/ml) Lab Result(NUMBERS ONLY) Cat\")[\"Record ID\"].nunique())\n"
   ]
  },
  {
   "cell_type": "code",
   "execution_count": null,
   "metadata": {
    "scrolled": true
   },
   "outputs": [],
   "source": [
    "pd.set_option('display.float_format', lambda x: '%.5f' % x)\n",
    "\n",
    "# FIGO cervical stage (at end of treatment)\n",
    "display(last_otv_df.groupby(\"End of Treatment FIGO Staging\")[\"Record ID\"].nunique())\n",
    "\n",
    "# treatment\n",
    "display(last_otv_df.groupby(\"No treatment\")[\"Record ID\"].nunique())\n",
    "\n",
    "## surgery\n",
    "display(last_otv_df.groupby(\"Surgery\")[\"Record ID\"].nunique())\n",
    "\n",
    "## treatment type\n",
    "display(last_otv_df.groupby(\"Treatment type\")[\"Record ID\"].nunique())\n",
    "\n",
    "## treatment response\n",
    "display(last_otv_df.groupby(\"Response to treatment\")[\"Record ID\"].nunique())\n",
    "\n",
    "# performance status\n",
    "display(last_otv_df.groupby(\"Performance Status\")[\"Record ID\"].nunique())\n",
    "\n",
    "## performance status <90\n",
    "last_otv_df.loc[last_otv_df[\"Performance Status\"].isin([\"100: Normal no complaints; no evidence of disease\",\n",
    "                                                      \"90: Able to carry on normal activity; minor signs or symptoms of disease\"]), \"performance_status_cat\"] = \">=90\"\n",
    "last_otv_df.loc[last_otv_df[\"Performance Status\"].isin([\"80: Normal activity with effort; some signs of symptoms of disease\",\n",
    "                                                      \"70: Cares for self; unable to carry on normal activity or to do active work\",\n",
    "                                                      \"60: Requires occasional assistance; but is able to care for most of his/her personal needs\",\n",
    "                                                      \"50: Requires considerable assistance and frequent medical care\",\n",
    "                                                      \"30: Severely disabled; hospital admission is indicated although death not imminent\"]), \"performance_status_cat\"] = \"<90\"\n",
    "display(last_otv_df.groupby(\"performance_status_cat\")[\"Record ID\"].nunique())\n",
    "\n",
    "# treatment\n",
    "## surgery only\n",
    "print(last_otv_df[(last_otv_df[\"Surgery\"] == \"Yes\") &\n",
    "                  ((last_otv_df[\"Total number of chemo cycles received\"].isin([\"0\", \"0000\", \"None\", \"no chemo\", \"nil\"])) | (last_otv_df[\"Total number of chemo cycles received\"].isnull())) &\n",
    "                  ((last_otv_df[\"What is the  EQD2 result?\"] == 0) | (last_otv_df[\"What is the  EQD2 result?\"].isnull()))][\"Record ID\"].nunique())\n",
    "\n",
    "## chemo only\n",
    "print(last_otv_df[((last_otv_df[\"Surgery\"] == \"No\") | (last_otv_df[\"Surgery\"].isnull())) &\n",
    "                  (last_otv_df[\"Total number of chemo cycles received\"].isin([['4', '5', '2', '1', '3', '6', '4 cycles neoadjuvant in Serowe', '4 cycles', '7', '8', '10']])) &\n",
    "                  ((last_otv_df[\"What is the  EQD2 result?\"] == 0) | (last_otv_df[\"What is the  EQD2 result?\"].isnull()))][\"Record ID\"].nunique())\n",
    "## RT only\n",
    "print(last_otv_df[((last_otv_df[\"Surgery\"] == \"No\") | (last_otv_df[\"Surgery\"].isnull())) &\n",
    "                  ((last_otv_df[\"Total number of chemo cycles received\"].isin([\"0\", \"0000\", \"None\", \"no chemo\", \"nil\"])) | (last_otv_df[\"Total number of chemo cycles received\"].isnull())) &\n",
    "                  (last_otv_df[\"What is the  EQD2 result?\"] != 0) & \n",
    "                  (~last_otv_df[\"What is the  EQD2 result?\"].isnull())][\"Record ID\"].nunique())  \n",
    "\n",
    "# CRT\n",
    "print(last_otv_df[((last_otv_df[\"Surgery\"] == \"No\") | (last_otv_df[\"Surgery\"].isnull())) &\n",
    "                  (last_otv_df[\"Total number of chemo cycles received\"].isin(['4', '5', '2', '1', '3', '6', '4 cycles neoadjuvant in Serowe', '4 cycles', '7', '8', '10'])) &\n",
    "                  (last_otv_df[\"What is the  EQD2 result?\"] != 0) & \n",
    "                  (~last_otv_df[\"What is the  EQD2 result?\"].isnull())][\"Record ID\"].nunique())\n",
    "\n",
    "## surgery and chemo\n",
    "print(last_otv_df[(last_otv_df[\"Surgery\"] == \"Yes\") &\n",
    "                  (last_otv_df[\"Total number of chemo cycles received\"].isin(['4', '5', '2', '1', '3', '6', '4 cycles neoadjuvant in Serowe', '4 cycles', '7', '8', '10'])) &\n",
    "                  ((last_otv_df[\"What is the  EQD2 result?\"] == 0) | (last_otv_df[\"What is the  EQD2 result?\"].isnull()))][\"Record ID\"].nunique())\n",
    "\n",
    "## surgery and RT\n",
    "print(last_otv_df[(last_otv_df[\"Surgery\"] == \"Yes\") &\n",
    "                  ((last_otv_df[\"Total number of chemo cycles received\"].isin([\"0\", \"0000\", \"None\", \"no chemo\", \"nil\"])) | (last_otv_df[\"Total number of chemo cycles received\"].isnull())) &\n",
    "                  (last_otv_df[\"What is the  EQD2 result?\"] != 0) & \n",
    "                  (~last_otv_df[\"What is the  EQD2 result?\"].isnull())][\"Record ID\"].nunique())  \n",
    "\n",
    "## surgery and CRT\n",
    "print(last_otv_df[(last_otv_df[\"Surgery\"] == \"Yes\") &\n",
    "                  (last_otv_df[\"Total number of chemo cycles received\"].isin(['4', '5', '2', '1', '3', '6', '4 cycles neoadjuvant in Serowe', '4 cycles', '7', '8', '10'])) &\n",
    "                  (last_otv_df[\"What is the  EQD2 result?\"] != 0) & \n",
    "                  (~last_otv_df[\"What is the  EQD2 result?\"].isnull())][\"Record ID\"].nunique())  \n",
    "\n",
    "# treatment duration\n",
    "(pd.to_datetime(last_otv_df[\"End of treatment date \"]) - pd.to_datetime(last_otv_df[\"Date treatment started \"])).dt.days.describe()\n"
   ]
  },
  {
   "cell_type": "markdown",
   "metadata": {},
   "source": [
    "# Focus Points"
   ]
  },
  {
   "cell_type": "markdown",
   "metadata": {},
   "source": [
    "### Deaths"
   ]
  },
  {
   "cell_type": "code",
   "execution_count": null,
   "metadata": {
    "scrolled": true
   },
   "outputs": [],
   "source": [
    "print(death_df[death_df[\"Record ID\"].isin(a1_df[\"Record ID\"].unique())].shape)\n",
    "print(death_df[death_df[\"Record ID\"].isin(a1_df[\"Record ID\"].unique())][\"Record ID\"].nunique())\n",
    "\n",
    "death_df[death_df[\"Record ID\"].isin(a1_df[\"Record ID\"].unique())].groupby(\"Event Name\")[\"Record ID\"].nunique()"
   ]
  },
  {
   "cell_type": "markdown",
   "metadata": {},
   "source": [
    "### Follow-up windows (grouped by follow-up type):  \n",
    "    - % who have follow up  within first 6 months (this would include 3 and 6 month visits), \n",
    "    - % who have follow up between 6-12 months (this includes 9 and 12 month visits), \n",
    "    - % who have follow up between 12-18 months\n",
    "    - % who have follow up between 18-24 months, \n",
    "    - % who have follow up between 24-36 months,\n",
    "    - % who have follow up between 36-48 months, \n",
    "    - % who have follow up between 48-60 months"
   ]
  },
  {
   "cell_type": "code",
   "execution_count": null,
   "metadata": {},
   "outputs": [],
   "source": [
    "a1_follow_up_df[\"time_from_eot\"] = ((pd.to_datetime(a1_follow_up_df[\"Date.2\"]) - pd.to_datetime(a1_follow_up_df[\"End of treatment date \"]))/np.timedelta64(1, 'M'))\n",
    "\n",
    "# office_phone_only = a1_follow_up_df[a1_follow_up_df[\"Follow Up Type\"].isin([\"Office Visit\", \"Phone Call\"])]\n",
    "\n",
    "office_phone_ipms_only = a1_follow_up_df[a1_follow_up_df[\"Follow Up Type\"].isin([\"Office Visit\", \"Phone Call\", \"IPMS\"])]\n",
    "w1 = office_phone_ipms_only[office_phone_ipms_only[\"Event Name\"].isin([\"3 Month Follow-Up\", \"6 Month Follow-Up\"])]\n",
    "w2 = office_phone_ipms_only[office_phone_ipms_only[\"Event Name\"].isin([\"9 Month Follow-Up\", \"1 Year Follow-Up\"])]\n",
    "w3 = office_phone_ipms_only[office_phone_ipms_only[\"Event Name\"].isin([\"15 Months Follow-Up\", \"18 Months Follow-Up\"])]\n",
    "w4 = office_phone_ipms_only[office_phone_ipms_only[\"Event Name\"].isin([\"21 Months Follow-Up\", \"2 Year Follow-Up\"])]\n",
    "w5 = office_phone_ipms_only[office_phone_ipms_only[\"Event Name\"].isin([\"27 Months Follow-Up\", \"30 Months Follow-Up\", \"33 Months Follow-Up\", \"3 Year Follow-Up\"])]\n",
    "w6 = office_phone_ipms_only[office_phone_ipms_only[\"Event Name\"].isin([\"39 Months Follow-Up\", \"42 Months Follow-Up\", \"45 Months Follow-up\", \"4 Year Follow-Up\"])]\n",
    "w7 = office_phone_ipms_only[office_phone_ipms_only[\"Event Name\"].isin([\"51 Months Follow-Up\", \"54 Months Follow-Up\", \"57 Months Follow-Up\", \"5 Year Follow-Up\"])]\n",
    "\n",
    "# w1 = office_phone_only[office_phone_only[\"Event Name\"].isin([\"3 Month Follow-Up\", \"6 Month Follow-Up\"])]\n",
    "# w2 = office_phone_only[office_phone_only[\"Event Name\"].isin([\"9 Month Follow-Up\", \"1 Year Follow-Up\"])]\n",
    "# w3 = office_phone_only[office_phone_only[\"Event Name\"].isin([\"15 Months Follow-Up\", \"18 Months Follow-Up\"])]\n",
    "# w4 = office_phone_only[office_phone_only[\"Event Name\"].isin([\"21 Months Follow-Up\", \"2 Year Follow-Up\"])]\n",
    "# w5 = office_phone_only[office_phone_only[\"Event Name\"].isin([\"27 Months Follow-Up\", \"30 Months Follow-Up\", \"33 Months Follow-Up\", \"3 Year Follow-Up\"])]\n",
    "# w6 = office_phone_only[office_phone_only[\"Event Name\"].isin([\"39 Months Follow-Up\", \"42 Months Follow-Up\", \"45 Months Follow-up\", \"4 Year Follow-Up\"])]\n",
    "# w7 = office_phone_only[office_phone_only[\"Event Name\"].isin([\"51 Months Follow-Up\", \"54 Months Follow-Up\", \"57 Months Follow-Up\", \"5 Year Follow-Up\"])]\n",
    "\n"
   ]
  },
  {
   "cell_type": "code",
   "execution_count": null,
   "metadata": {},
   "outputs": [],
   "source": [
    "def run_stats(time_range, window_df, all_pt_df, eot_cutoff_date, death_df, died_before):\n",
    "    # remove pts who died already\n",
    "    all_pt_df = all_pt_df[~all_pt_df[\"Record ID\"].isin(died_before)]\n",
    "    window_df = window_df[~window_df[\"Record ID\"].isin(died_before)]\n",
    "    \n",
    "    eligible_pts = all_pt_df[all_pt_df[\"End of treatment date \"] < eot_cutoff_date][\"Record ID\"].unique().tolist()\n",
    "#     print(all(pt not in eligible_pts for pt in died_before))\n",
    "#     if not all(pt not in window_df[\"Record ID\"].unique().tolist() for pt in died_before):\n",
    "#         print([pt for pt in died_before if pt in window_df[\"Record ID\"].unique().tolist()])\n",
    "    eligible_pts = set(eligible_pts + window_df[\"Record ID\"].unique().tolist())\n",
    "    print(\"Number of patients eligible for follow-up at {}: {}\".format(time_range, len(eligible_pts)))\n",
    "    print(\"Number of patients with follow-up at {}: {}\".format(time_range, window_df[\"Record ID\"].nunique()))\n",
    "        \n",
    "    office_df = window_df[window_df[\"Follow Up Type\"] == \"Office Visit\"]\n",
    "    print(\"\\tOffice visit: {}\".format(office_df[\"Record ID\"].nunique()))\n",
    "    \n",
    "    phone_df = window_df[(window_df[\"Follow Up Type\"] == \"Phone Call\") &\n",
    "                         (~window_df[\"Record ID\"].isin(office_df[\"Record ID\"].unique().tolist()))]\n",
    "    print(\"\\tPhone visit: {}\".format(phone_df[\"Record ID\"].nunique()))\n",
    "    \n",
    "    ipms_df = window_df[(window_df[\"Follow Up Type\"] == \"IPMS\") &\n",
    "                        (~window_df[\"Record ID\"].isin(office_df[\"Record ID\"].unique().tolist())) &\n",
    "                        (~window_df[\"Record ID\"].isin(phone_df[\"Record ID\"].unique().tolist()))]\n",
    "    print(\"\\tEMR: {}\".format(ipms_df[\"Record ID\"].nunique()))\n",
    "    \n",
    "    office_phone_ipms_df = pd.concat([office_df, phone_df, ipms_df], axis=0, ignore_index=True)\n",
    "    display(office_phone_ipms_df.sort_values([\"Record ID\", \"Follow Up Type\", \"Date.2\"]).groupby([\"Record ID\", \"Follow Up Type\"], sort=False)[[\"time_from_eot\"]].first().groupby(\"Follow Up Type\")[\"time_from_eot\"].mean())\n",
    "\n",
    "    died_during_interval = death_df[(death_df[\"Event Name\"].isin(window_df[\"Event Name\"].unique())) & (death_df[\"Record ID\"].isin(eligible_pts))]\n",
    "    print(\"Number of patients who died during {} follow-up and will not contribute to future windows: {}\".format(time_range, died_during_interval.shape[0]))\n",
    "\n",
    "    return died_during_interval[\"Record ID\"].tolist()\n"
   ]
  },
  {
   "cell_type": "code",
   "execution_count": null,
   "metadata": {
    "scrolled": true
   },
   "outputs": [],
   "source": [
    "died_before_eot = death_df[death_df[\"Event Name\"] == \"End of Treatment\"][\"Record ID\"].tolist()\n",
    "died_during_interval = run_stats(\"[3mo-6mo]\", w1, a1_df, \"2022-01-01\", death_df, died_before_eot)\n",
    "all_dead = set(died_before_eot + died_during_interval)\n",
    "print(len(all_dead))"
   ]
  },
  {
   "cell_type": "code",
   "execution_count": null,
   "metadata": {
    "scrolled": true
   },
   "outputs": [],
   "source": [
    "died_during_interval = run_stats(\"(6mo-12mo]\", w2, a1_follow_up_df, \"2021-07-01\", death_df, all_dead)\n",
    "all_dead = set(list(all_dead) + died_during_interval)\n",
    "print(len(all_dead))"
   ]
  },
  {
   "cell_type": "code",
   "execution_count": null,
   "metadata": {
    "scrolled": true
   },
   "outputs": [],
   "source": [
    "died_during_interval = run_stats(\"(12mo-18mo]\", w3, a1_follow_up_df, \"2021-01-01\", death_df, all_dead)\n",
    "all_dead = set(list(all_dead) + died_during_interval)\n",
    "print(len(all_dead))"
   ]
  },
  {
   "cell_type": "code",
   "execution_count": null,
   "metadata": {
    "scrolled": true
   },
   "outputs": [],
   "source": [
    "died_during_interval = run_stats(\"(18mo-24mo]\", w4, a1_follow_up_df, \"2020-07-01\", death_df, all_dead)\n",
    "all_dead = set(list(all_dead) + died_during_interval)\n",
    "print(len(all_dead))"
   ]
  },
  {
   "cell_type": "code",
   "execution_count": null,
   "metadata": {
    "scrolled": true
   },
   "outputs": [],
   "source": [
    "died_during_interval = run_stats(\"(24mo-36mo]\", w5, a1_follow_up_df, \"2019-07-01\", death_df, all_dead)\n",
    "all_dead = set(list(all_dead) + died_during_interval)\n",
    "print(len(all_dead))"
   ]
  },
  {
   "cell_type": "code",
   "execution_count": null,
   "metadata": {},
   "outputs": [],
   "source": [
    "died_during_interval = run_stats(\"(36mo-48mo]\", w6, a1_follow_up_df, \"2018-07-01\", death_df, all_dead)\n",
    "all_dead = set(list(all_dead) + died_during_interval)\n",
    "print(len(all_dead))"
   ]
  },
  {
   "cell_type": "code",
   "execution_count": null,
   "metadata": {
    "scrolled": true
   },
   "outputs": [],
   "source": [
    "died_during_interval = run_stats(\"(48mo-60mo]\", w7, a1_follow_up_df, \"2017-07-01\", death_df, all_dead)\n",
    "all_dead = set(list(all_dead) + died_during_interval)\n",
    "print(len(all_dead))"
   ]
  },
  {
   "cell_type": "markdown",
   "metadata": {},
   "source": [
    "### What percentage of patients are coming in every six months for the first 2 years?"
   ]
  },
  {
   "cell_type": "markdown",
   "metadata": {},
   "source": [
    "#### No follow-up"
   ]
  },
  {
   "cell_type": "code",
   "execution_count": null,
   "metadata": {},
   "outputs": [],
   "source": [
    "no_follow_up = a1_df[(~a1_df[\"Record ID\"].isin(a1_follow_up_df[\"Record ID\"].unique().tolist()))]\n",
    "print(no_follow_up.shape)\n",
    "print(no_follow_up[\"Record ID\"].nunique())\n",
    "# no follow-up"
   ]
  },
  {
   "cell_type": "code",
   "execution_count": null,
   "metadata": {},
   "outputs": [],
   "source": [
    "def criteria_1(visit_list):\n",
    "    if \"3 Month Follow-Up\" in visit_list or \"6 Month Follow-Up\" in visit_list:\n",
    "        if \"9 Month Follow-Up\" in visit_list or \"1 Year Follow-Up\" in visit_list:\n",
    "            if \"15 Months Follow-Up\" in visit_list or \"18 Months Follow-Up\" in visit_list:\n",
    "                if \"21 Months Follow-Up\" in visit_list or \"2 Year Follow-Up\" in visit_list:\n",
    "                    return \"Y\"\n",
    "                return \"N\"\n",
    "            return \"N\"\n",
    "        return \"N\"\n",
    "    return \"N\"\n",
    "\n",
    "def criteria_1a(visit_list):\n",
    "    total = 0\n",
    "    if \"3 Month Follow-Up\" in visit_list or \"6 Month Follow-Up\" in visit_list:\n",
    "        total += 1\n",
    "    if \"9 Month Follow-Up\" in visit_list or \"1 Year Follow-Up\" in visit_list:\n",
    "        total+=1\n",
    "    if \"15 Months Follow-Up\" in visit_list or \"18 Months Follow-Up\" in visit_list:\n",
    "        total+=1\n",
    "    if \"21 Months Follow-Up\" in visit_list or \"2 Year Follow-Up\" in visit_list:\n",
    "        total+=1\n",
    "    return total\n",
    " "
   ]
  },
  {
   "cell_type": "code",
   "execution_count": null,
   "metadata": {
    "scrolled": true
   },
   "outputs": [],
   "source": [
    "died_within_2yr = death_df[(death_df[\"Record ID\"].isin(a1_df[\"Record ID\"].unique().tolist())) & (death_df[\"Event Name\"].isin([\"3 Month Follow-Up\", \"6 Month Follow-Up\", \"9 Month Follow-Up\", \"1 Year Follow-Up\", \"15 Months Follow-Up\", \"18 Months Follow-Up\", \"21 Months Follow-Up\", \"2 Year Follow-Up\"]))]\n",
    "print(died_within_2yr.shape)\n",
    "print(died_within_2yr[\"Record ID\"].nunique())\n",
    "display(died_within_2yr[\"Event Name\"].value_counts())\n",
    "display(died_within_2yr[\"Event Name\"].value_counts()/233*100)\n",
    "# died within 2 year follow up period\n"
   ]
  },
  {
   "cell_type": "code",
   "execution_count": null,
   "metadata": {},
   "outputs": [],
   "source": [
    "# add to consult_df for when data is combined and saved later\n",
    "consult_df[\"died_within_2yr\"] = 0\n",
    "consult_df.loc[consult_df[\"Record ID\"].isin(died_within_2yr[\"Record ID\"].tolist()), \"died_within_2yr\"] = 1\n",
    "\n",
    "consult_df[\"died_within_2yr\"].value_counts()"
   ]
  },
  {
   "cell_type": "code",
   "execution_count": null,
   "metadata": {
    "scrolled": true
   },
   "outputs": [],
   "source": [
    "office_phone_only = a1_follow_up_df[a1_follow_up_df[\"Follow Up Type\"].isin([\"Office Visit\", \"Phone Call\"])]\n",
    "\n",
    "visit_df = office_phone_only.groupby(\"Record ID\")[\"Event Name\"].apply(set).reset_index()\n",
    "visit_df[\"criteria_1\"] = visit_df[\"Event Name\"].apply(criteria_1)\n",
    "visit_df[\"criteria_1a\"] = visit_df[\"Event Name\"].apply(criteria_1a)\n",
    "print(visit_df[visit_df[\"criteria_1a\"] > 0][\"Record ID\"].nunique())\n",
    "display(visit_df[\"criteria_1\"].value_counts())\n",
    "display(visit_df[\"criteria_1a\"].value_counts())\n",
    "display(visit_df[\"criteria_1a\"].value_counts()/852*100)\n",
    "# came in every six months for the first 2 years starting from the 6 month follow up\n",
    "\n",
    "print(visit_df[(visit_df[\"Record ID\"].isin(died_within_2yr[\"Record ID\"].unique().tolist()))][\"Record ID\"].nunique())\n",
    "# remaining did not have an office or phone call visit / died before\n",
    "\n",
    "# IPMS follow-up only\n",
    "a1_follow_up_df[(a1_follow_up_df[\"Follow Up Type\"] == \"IPMS\") &\n",
    "                (~a1_follow_up_df[\"Record ID\"].isin(visit_df[visit_df[\"criteria_1a\"] > 0][\"Record ID\"].unique())) &\n",
    "                (a1_follow_up_df[\"Event Name\"].isin([\"3 Month Follow-Up\", \"6 Month Follow-Up\", \"9 Month Follow-Up\", \"1 Year Follow-Up\", \"15 Months Follow-Up\", \"18 Months Follow-Up\", \"21 Months Follow-Up\", \"2 Year Follow-Up\"]))][\"Record ID\"].nunique()\n",
    "## remaining are lost to follow-up\n"
   ]
  },
  {
   "cell_type": "code",
   "execution_count": null,
   "metadata": {},
   "outputs": [],
   "source": [
    "# add to consult_df for when data is combined and saved later\n",
    "consult_df[\"criteria_1\"] = \"N\"\n",
    "consult_df.loc[consult_df[\"Record ID\"].isin(visit_df[visit_df[\"criteria_1\"] == \"Y\"][\"Record ID\"].tolist()), \"criteria_1\"] = \"Y\"\n",
    "\n",
    "consult_df[consult_df[\"analysis1\"] == 1].groupby(\"criteria_1\")[\"Record ID\"].count()\n"
   ]
  },
  {
   "cell_type": "markdown",
   "metadata": {},
   "source": [
    "### What percentage of patients are coming in every year for the next 3 years?"
   ]
  },
  {
   "cell_type": "markdown",
   "metadata": {},
   "source": [
    "#### No follow-up"
   ]
  },
  {
   "cell_type": "code",
   "execution_count": null,
   "metadata": {},
   "outputs": [],
   "source": [
    "no_follow_up = a2_df[(~a2_df[\"Record ID\"].isin(a2_follow_up_df[\"Record ID\"].unique().tolist()))]\n",
    "print(no_follow_up.shape)\n",
    "print(no_follow_up[\"Record ID\"].nunique())\n",
    "# no follow-up"
   ]
  },
  {
   "cell_type": "code",
   "execution_count": null,
   "metadata": {},
   "outputs": [],
   "source": [
    "def criteria_2(visit_list):\n",
    "    if \"27 Months Follow-Up\" in visit_list or \"30 Months Follow-Up\" in visit_list or \"33 Months Follow-Up\" in visit_list or \"3 Year Follow-Up\" in visit_list:\n",
    "        if \"39 Months Follow-Up\" in visit_list or \"42 Months Follow-Up\" in visit_list or \"45 Months Follow-up\" in visit_list or \"4 Year Follow-Up\" in visit_list:\n",
    "            if \"51 Months Follow-Up\" in visit_list or \"54 Months Follow-Up\" in visit_list or \"57 Months Follow-Up\" in visit_list or \"5 Year Follow-Up\" in visit_list:\n",
    "                return \"Y\"\n",
    "            return \"N\"\n",
    "        return \"N\"\n",
    "    return \"N\"\n",
    "\n",
    "def criteria_2a(visit_list):\n",
    "    total = 0\n",
    "    if \"27 Months Follow-Up\" in visit_list or \"30 Months Follow-Up\" in visit_list or \"33 Months Follow-Up\" in visit_list or \"3 Year Follow-Up\" in visit_list:\n",
    "        total+=1\n",
    "    if \"39 Months Follow-Up\" in visit_list or \"42 Months Follow-Up\" in visit_list or \"45 Months Follow-up\" in visit_list or \"4 Year Follow-Up\" in visit_list:\n",
    "        total+=1\n",
    "    if \"51 Months Follow-Up\" in visit_list or \"54 Months Follow-Up\" in visit_list or \"57 Months Follow-Up\" in visit_list or \"5 Year Follow-Up\" in visit_list:\n",
    "        total+=1\n",
    "    return total\n"
   ]
  },
  {
   "cell_type": "code",
   "execution_count": null,
   "metadata": {
    "scrolled": true
   },
   "outputs": [],
   "source": [
    "died_within_3to5yr = death_df[(~death_df[\"Record ID\"].isin(died_within_2yr[\"Record ID\"].unique().tolist())) & (death_df[\"Record ID\"].isin(a2_follow_up_df[\"Record ID\"].unique().tolist())) & (death_df[\"Event Name\"].isin([\"27 Months Follow-Up\", \"30 Months Follow-Up\", \"33 Months Follow-Up\", \"3 Year Follow-Up\", \"39 Months Follow-Up\", \"42 Months Follow-Up\", \"45 Months Follow-up\", \"4 Year Follow-Up\", \"51 Months Follow-Up\", \"54 Months Follow-Up\", \"57 Months Follow-Up\", \"5 Year Follow-Up\"]))]\n",
    "# died_within_3to5yr = death_df[(death_df[\"Record ID\"].isin(a2_follow_up_df[\"Record ID\"].unique().tolist())) & (death_df[\"Event Name\"].isin([\"27 Months Follow-Up\", \"30 Months Follow-Up\", \"33 Months Follow-Up\", \"3 Year Follow-Up\", \"39 Months Follow-Up\", \"42 Months Follow-Up\", \"45 Months Follow-up\", \"4 Year Follow-Up\", \"51 Months Follow-Up\", \"54 Months Follow-Up\", \"57 Months Follow-Up\", \"5 Year Follow-Up\"]))]\n",
    "print(died_within_3to5yr.shape)\n",
    "print(died_within_3to5yr[\"Record ID\"].nunique())\n",
    "display(died_within_3to5yr[\"Event Name\"].value_counts())\n",
    "display(died_within_3to5yr[\"Event Name\"].value_counts()/103*100)\n",
    "# died within 3 and 5 year follow up period\n"
   ]
  },
  {
   "cell_type": "code",
   "execution_count": null,
   "metadata": {
    "scrolled": true
   },
   "outputs": [],
   "source": [
    "office_phone_only = a2_follow_up_df[a2_follow_up_df[\"Follow Up Type\"].isin([\"Office Visit\", \"Phone Call\"])]\n",
    "\n",
    "visit_df = office_phone_only.groupby(\"Record ID\")[\"Event Name\"].apply(set).reset_index()\n",
    "visit_df[\"criteria_2\"] = visit_df[\"Event Name\"].apply(criteria_2)\n",
    "visit_df[\"criteria_2a\"] = visit_df[\"Event Name\"].apply(criteria_2a)\n",
    "print(visit_df[visit_df[\"criteria_2a\"] > 0][\"Record ID\"].nunique())\n",
    "display(visit_df[\"criteria_2\"].value_counts())\n",
    "display(visit_df[\"criteria_2a\"].value_counts())\n",
    "display(visit_df[\"criteria_2a\"].value_counts()/722*100)\n",
    "# came in every year for the next 3 years\n",
    "\n",
    "visit_df[(visit_df[\"Record ID\"].isin(died_within_3to5yr[\"Record ID\"].unique().tolist()))][\"Record ID\"].nunique()\n",
    "# remaining did not have an office or phone call visit / died before\n",
    "\n",
    "# IPMS follow-up only\n",
    "a2_follow_up_df[(a2_follow_up_df[\"Follow Up Type\"] == \"IPMS\") &\n",
    "                (~a2_follow_up_df[\"Record ID\"].isin(visit_df[visit_df[\"criteria_2a\"] > 0][\"Record ID\"].unique())) &\n",
    "                (a2_follow_up_df[\"Event Name\"].isin([\"3 Month Follow-Up\", \"6 Month Follow-Up\", \"9 Month Follow-Up\", \"1 Year Follow-Up\", \"15 Months Follow-Up\", \"18 Months Follow-Up\", \"21 Months Follow-Up\", \"2 Year Follow-Up\"]))][\"Record ID\"].nunique()\n",
    "## remaining are lost to follow-up\n"
   ]
  },
  {
   "cell_type": "code",
   "execution_count": null,
   "metadata": {},
   "outputs": [],
   "source": [
    "# add to consult_df for when data is combined and saved later\n",
    "consult_df[\"criteria_2\"] = \"N\"\n",
    "consult_df.loc[consult_df[\"Record ID\"].isin(visit_df[visit_df[\"criteria_2\"] == \"Y\"][\"Record ID\"].tolist()), \"criteria_2\"] = \"Y\"\n",
    "\n",
    "consult_df[consult_df[\"analysis2\"] == 1].groupby(\"criteria_2\")[\"Record ID\"].count()"
   ]
  },
  {
   "cell_type": "markdown",
   "metadata": {},
   "source": [
    "### Patient visit windows split by pre- and post-pandemic"
   ]
  },
  {
   "cell_type": "markdown",
   "metadata": {},
   "source": [
    "- Use the following dates to define pre-pandemic and post-pandemic: March 31, 2020 for end of pre-pandemic and 4/1/2020 start of post-pandemic.\n",
    "- If visit date missing, anchor on the treatment date\n"
   ]
  },
  {
   "cell_type": "code",
   "execution_count": null,
   "metadata": {},
   "outputs": [],
   "source": [
    "def run_stats(df, offset):\n",
    "    # take first occurred follow-up if more than one\n",
    "    office_df = df[df[\"Follow Up Type\"] == \"Office Visit\"]\n",
    "    office_df = office_df.sort_values([\"Record ID\", \"Date.2\"]).groupby(\"Record ID\", sort=False)[[\"Date.2\", \"Follow Up Type\"]].first().reset_index()\n",
    "#     print(office_df.shape)\n",
    "#     print(office_df[\"Record ID\"].nunique())\n",
    "    phone_df = df[(~df[\"Record ID\"].isin(office_df[\"Record ID\"].unique())) &\n",
    "                  (df[\"Follow Up Type\"] == \"Phone Call\")]\n",
    "    phone_df = phone_df.sort_values([\"Record ID\", \"Date.2\"]).groupby(\"Record ID\", sort=False)[[\"Date.2\", \"Follow Up Type\"]].first().reset_index()\n",
    "#     print(phone_df.shape)\n",
    "#     print(phone_df[\"Record ID\"].nunique())\n",
    "    ipms_df = df[(~df[\"Record ID\"].isin(office_df[\"Record ID\"].unique())) &\n",
    "                 (~df[\"Record ID\"].isin(phone_df[\"Record ID\"].unique())) &\n",
    "                 (df[\"Follow Up Type\"] == \"IPMS\")]\n",
    "    ipms_df = ipms_df.sort_values([\"Record ID\", \"Date.2\"]).groupby(\"Record ID\", sort=False)[[\"Date.2\", \"Follow Up Type\"]].first().reset_index()\n",
    "#     print(ipms_df.shape)\n",
    "#     print(ipms_df[\"Record ID\"].nunique())\n",
    "    anchored = df[(~df[\"Record ID\"].isin(office_df[\"Record ID\"].unique())) &\n",
    "                  (~df[\"Record ID\"].isin(phone_df[\"Record ID\"].unique())) &\n",
    "                  (~df[\"Record ID\"].isin(ipms_df[\"Record ID\"].unique()))]\n",
    "    anchored[\"Date.2\"] = pd.to_datetime(df[\"End of treatment date \"]) + pd.DateOffset(months=offset)\n",
    "#     print(anchored.shape)\n",
    "#     print(anchored[\"Record ID\"].nunique())\n",
    "    non_anchored = pd.concat([office_df, phone_df, ipms_df], axis=0, ignore_index=True)\n",
    "    \n",
    "    print(\"Non-anchored\")\n",
    "    run_stats2(non_anchored, \"N\")\n",
    "    print(\"Anchored\")\n",
    "    run_stats2(anchored, \"Y\")\n",
    "    \n",
    "def run_stats2(df, anchored=\"N\"):\n",
    "    if df[df[\"Date.2\"].isnull()].shape[0] > 0:\n",
    "        display(df[df[\"Date.2\"].isnull()])\n",
    "    # separate pre- and post-pandemic\n",
    "    pre_pandemic = df[df[\"Date.2\"] <= \"2020-03-31\"]\n",
    "    print(\"Pre-pandemic: {}\".format(pre_pandemic[\"Record ID\"].nunique()))\n",
    "    post_pandemic = df[df[\"Date.2\"] >= \"2020-04-01\"]\n",
    "    print(\"Post-pandemic: {}\".format(post_pandemic[\"Record ID\"].nunique()))\n",
    "    \n",
    "    if anchored == \"N\":\n",
    "        # pre-pandemic by type\n",
    "        print(\"Pre-pandemic by type\")\n",
    "        display(pre_pandemic.groupby(\"Follow Up Type\")[\"Record ID\"].nunique())\n",
    "\n",
    "        # post-pandemic by type\n",
    "        print(\"Post-pandemic by type\")\n",
    "        display(post_pandemic.groupby(\"Follow Up Type\")[\"Record ID\"].nunique())\n"
   ]
  },
  {
   "cell_type": "code",
   "execution_count": null,
   "metadata": {
    "scrolled": true
   },
   "outputs": [],
   "source": [
    "a1_add = a1_df[~a1_df[\"Record ID\"].isin(a1_follow_up_df[\"Record ID\"].unique())][[\"Record ID\", \"End of treatment date \"]].dropna()\n",
    "a1_add = a1_add.sort_values([\"Record ID\", \"End of treatment date \"]).groupby(\"Record ID\", sort=False).first().reset_index()\n",
    "a1_add[list(set(a1_follow_up_df.columns) - set([\"Record ID\", \"End of treatment date \"]))] = np.nan\n",
    "a1_follow_up_df_ = pd.concat([a1_follow_up_df, a1_add], axis=0, ignore_index=True)\n",
    "\n",
    "print(a1_follow_up_df_.shape)\n",
    "print(a1_follow_up_df_[\"Record ID\"].nunique())\n",
    "\n"
   ]
  },
  {
   "cell_type": "code",
   "execution_count": null,
   "metadata": {
    "scrolled": true
   },
   "outputs": [],
   "source": [
    "w1 = a1_follow_up_df_[(a1_follow_up_df_[\"Event Name\"].isin([\"3 Month Follow-Up\", \"6 Month Follow-Up\"])) | (a1_follow_up_df_[\"Event Name\"].isnull())]\n",
    "w1_add = a1_follow_up_df_[~a1_follow_up_df_[\"Record ID\"].isin(w1[\"Record ID\"].unique())][[\"Record ID\", \"End of treatment date \"]].dropna().drop_duplicates()\n",
    "# print(w1_add.shape)\n",
    "# print(w1_add[\"Record ID\"].nunique())\n",
    "w1_add[list(set(w1.columns) - set(w1_add.columns))] = np.nan\n",
    "# print(w1.shape)\n",
    "w1 = pd.concat([w1, w1_add], axis=0, ignore_index=True)\n",
    "# print(w1.shape)\n",
    "# print(w1[\"Record ID\"].nunique())\n",
    "\n",
    "\n",
    "w2 = a1_follow_up_df_[a1_follow_up_df_[\"Event Name\"].isin([\"9 Month Follow-Up\", \"1 Year Follow-Up\"]) | (a1_follow_up_df_[\"Event Name\"].isnull())]\n",
    "w2_add = a1_follow_up_df_[~a1_follow_up_df_[\"Record ID\"].isin(w2[\"Record ID\"].unique())][[\"Record ID\", \"End of treatment date \"]].dropna().drop_duplicates()\n",
    "# print(w2_add.shape)\n",
    "# print(w2_add[\"Record ID\"].nunique())\n",
    "w2_add[list(set(w2.columns) - set(w2_add.columns))] = np.nan\n",
    "# print(w1.shape)\n",
    "w2 = pd.concat([w2, w2_add], axis=0, ignore_index=True)\n",
    "# print(w2.shape)\n",
    "# print(w2[\"Record ID\"].nunique())\n",
    "\n",
    "w3 = a1_follow_up_df_[a1_follow_up_df_[\"Event Name\"].isin([\"15 Months Follow-Up\", \"18 Months Follow-Up\"]) | (a1_follow_up_df_[\"Event Name\"].isnull())]\n",
    "w3_add = a1_follow_up_df_[~a1_follow_up_df_[\"Record ID\"].isin(w3[\"Record ID\"].unique())][[\"Record ID\", \"End of treatment date \"]].dropna().drop_duplicates()\n",
    "# print(w3_add.shape)\n",
    "# print(w3_add[\"Record ID\"].nunique())\n",
    "w3_add[list(set(w3.columns) - set(w3_add.columns))] = np.nan\n",
    "# print(w3.shape)\n",
    "w3 = pd.concat([w3, w3_add], axis=0, ignore_index=True)\n",
    "# print(w3.shape)\n",
    "# print(w3[\"Record ID\"].nunique())\n",
    "\n",
    "w4 = a1_follow_up_df_[a1_follow_up_df_[\"Event Name\"].isin([\"21 Months Follow-Up\", \"2 Year Follow-Up\"]) | (a1_follow_up_df_[\"Event Name\"].isnull())]\n",
    "w4_add = a1_follow_up_df_[~a1_follow_up_df_[\"Record ID\"].isin(w4[\"Record ID\"].unique())][[\"Record ID\", \"End of treatment date \"]].dropna().drop_duplicates()\n",
    "# print(w4_add.shape)\n",
    "# print(w4_add[\"Record ID\"].nunique())\n",
    "w4_add[list(set(w4.columns) - set(w4_add.columns))] = np.nan\n",
    "# print(w4.shape)\n",
    "w4 = pd.concat([w4, w4_add], axis=0, ignore_index=True)\n",
    "# print(w4.shape)\n",
    "# print(w4[\"Record ID\"].nunique())"
   ]
  },
  {
   "cell_type": "code",
   "execution_count": null,
   "metadata": {
    "scrolled": true
   },
   "outputs": [],
   "source": [
    "run_stats(w1, 6)\n",
    "run_stats(w2, 12)\n",
    "run_stats(w3, 18)\n",
    "run_stats(w4, 24)"
   ]
  },
  {
   "cell_type": "markdown",
   "metadata": {},
   "source": [
    "# Combine and save data"
   ]
  },
  {
   "cell_type": "code",
   "execution_count": null,
   "metadata": {},
   "outputs": [],
   "source": [
    "final_df = (consult_df.merge(death_df, how=\"left\", on=\"Record ID\")).merge(last_otv_df, how=\"left\", on=\"Record ID\")\n",
    "print(final_df.shape)\n",
    "print(final_df[\"Record ID\"].nunique())"
   ]
  },
  {
   "cell_type": "code",
   "execution_count": null,
   "metadata": {},
   "outputs": [],
   "source": [
    "final_df[\"analysis1\"].value_counts()"
   ]
  },
  {
   "cell_type": "code",
   "execution_count": null,
   "metadata": {},
   "outputs": [],
   "source": [
    "final_df[\"analysis2\"].value_counts()"
   ]
  },
  {
   "cell_type": "code",
   "execution_count": null,
   "metadata": {},
   "outputs": [],
   "source": [
    "final_df.to_csv(\"../../data/survivorship_care/analysis_data.csv\", index=False)"
   ]
  }
 ],
 "metadata": {
  "kernelspec": {
   "display_name": "Python 3",
   "language": "python",
   "name": "python3"
  },
  "language_info": {
   "codemirror_mode": {
    "name": "ipython",
    "version": 3
   },
   "file_extension": ".py",
   "mimetype": "text/x-python",
   "name": "python",
   "nbconvert_exporter": "python",
   "pygments_lexer": "ipython3",
   "version": "3.8.0"
  }
 },
 "nbformat": 4,
 "nbformat_minor": 4
}
