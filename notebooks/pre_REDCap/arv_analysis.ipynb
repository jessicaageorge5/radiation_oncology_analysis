{
 "cells": [
  {
   "cell_type": "markdown",
   "metadata": {},
   "source": [
    "# Libraries"
   ]
  },
  {
   "cell_type": "code",
   "execution_count": 1,
   "metadata": {},
   "outputs": [],
   "source": [
    "import pandas as pd"
   ]
  },
  {
   "cell_type": "markdown",
   "metadata": {},
   "source": [
    "# Data"
   ]
  },
  {
   "cell_type": "code",
   "execution_count": 2,
   "metadata": {},
   "outputs": [],
   "source": [
    "# Import data\n",
    "data = pd.read_csv(\"../data/data.csv\")"
   ]
  },
  {
   "cell_type": "markdown",
   "metadata": {},
   "source": [
    "# Analyze"
   ]
  },
  {
   "cell_type": "code",
   "execution_count": 3,
   "metadata": {},
   "outputs": [],
   "source": [
    "def find_arv_proportion(dataset, arv_name):\n",
    "    \"\"\"\n",
    "    Function finds proportion of patients taking specified ARV\n",
    "    Input: dataset (dataframe) and arv_name (str)\n",
    "    Output: fraction as string, percentage as decimal\n",
    "    \"\"\"\n",
    "    total = len(dataset[(dataset[\"hiv_status\"] == 1) & (dataset[\"on_arv\"] == 1)][\"patient_id\"])\n",
    "    taking_arv = len(dataset[(dataset[arv_name] == 1) &\n",
    "                             (dataset[\"hiv_status\"] == 1)][\"patient_id\"])\n",
    "    return (arv_name, (\"{}/{}\").format(str(taking_arv), str(total)), round(taking_arv/total*100, 3))"
   ]
  },
  {
   "cell_type": "code",
   "execution_count": null,
   "metadata": {},
   "outputs": [],
   "source": [
    "small_data = data[-181:]\n",
    "\n",
    "# ARVs only in small data\n",
    "print(find_arv_proportion(small_data, \"abacavir\"))\n",
    "print(find_arv_proportion(small_data, \"lamivudine\"))\n",
    "print(find_arv_proportion(small_data, \"stavudine\"))\n",
    "print(find_arv_proportion(small_data, \"tdf\"))\n",
    "#print(find_arv_proportion(small_data, \"azt\"))\n",
    "#print(find_arv_proportion(small_data, \"zidovudine\"))\n",
    "print(find_arv_proportion(small_data, \"gazt\"))\n",
    "print(find_arv_proportion(small_data, \"efavirenz\"))\n",
    "print(find_arv_proportion(small_data, \"nevirapine\"))\n",
    "print(find_arv_proportion(small_data, \"combivir\"))\n",
    "print(find_arv_proportion(small_data, \"atripla\"))\n",
    "print(find_arv_proportion(small_data, \"aluvia\"))\n",
    "print(find_arv_proportion(small_data, \"truvada\"))"
   ]
  },
  {
   "cell_type": "code",
   "execution_count": null,
   "metadata": {},
   "outputs": [],
   "source": [
    "large_data = data[:-181]\n",
    "\n",
    "# ARVs in small data, computed only for large data patients\n",
    "print(find_arv_proportion(large_data, \"abacavir\"))\n",
    "print(find_arv_proportion(large_data, \"lamivudine\"))\n",
    "print(find_arv_proportion(large_data, \"stavudine\"))\n",
    "print(find_arv_proportion(large_data, \"tdf\"))\n",
    "#print(find_arv_proportion(large_data, \"azt\"))\n",
    "#print(find_arv_proportion(large_data, \"zidovudine\"))\n",
    "print(find_arv_proportion(large_data, \"gazt\"))\n",
    "print(find_arv_proportion(large_data, \"efavirenz\"))\n",
    "print(find_arv_proportion(large_data, \"nevirapine\"))\n",
    "print(find_arv_proportion(large_data, \"combivir\"))\n",
    "print(find_arv_proportion(large_data, \"atripla\"))\n",
    "print(find_arv_proportion(large_data, \"aluvia\"))\n",
    "print(find_arv_proportion(large_data, \"truvada\"))\n",
    "\n",
    "# ARVs in large data only\n",
    "print(find_arv_proportion(large_data, \"zalcitabine\"))\n",
    "print(find_arv_proportion(large_data, \"didanosine\"))\n",
    "print(find_arv_proportion(large_data, \"dolutegravir\"))\n",
    "print(find_arv_proportion(large_data, \"elvitegravir\"))\n",
    "print(find_arv_proportion(large_data, \"emtricitabine\"))\n",
    "print(find_arv_proportion(large_data, \"delavirdine\"))\n",
    "print(find_arv_proportion(large_data, \"etravirine\"))\n",
    "print(find_arv_proportion(large_data, \"rilpivirine\"))\n",
    "print(find_arv_proportion(large_data, \"tld\"))\n",
    "print(find_arv_proportion(large_data, \"amprenavir\"))\n",
    "print(find_arv_proportion(large_data, \"atazanavir\"))\n",
    "print(find_arv_proportion(large_data, \"atazanavir_boosted\"))\n",
    "print(find_arv_proportion(large_data, \"darunavir\"))\n",
    "print(find_arv_proportion(large_data, \"darunavir_boosted\"))\n",
    "print(find_arv_proportion(large_data, \"fosamprenavir\"))\n",
    "print(find_arv_proportion(large_data, \"fosamprenavir_boosted\"))\n",
    "print(find_arv_proportion(large_data, \"indinavir\"))\n",
    "print(find_arv_proportion(large_data, \"lopinavir\"))\n",
    "print(find_arv_proportion(large_data, \"lopinavir_boosted\"))\n",
    "print(find_arv_proportion(large_data, \"nelfinavir\"))\n",
    "print(find_arv_proportion(large_data, \"ritonavir\"))\n",
    "print(find_arv_proportion(large_data, \"saquinavir\"))\n",
    "print(find_arv_proportion(large_data, \"saquinavir_boosted\"))\n",
    "print(find_arv_proportion(large_data, \"tipranavir\"))\n",
    "print(find_arv_proportion(large_data, \"tipranavir_boosted\"))\n",
    "print(find_arv_proportion(large_data, \"maraviroc\"))\n",
    "print(find_arv_proportion(large_data, \"raltegravir\"))\n",
    "print(find_arv_proportion(large_data, \"enfuvirtide\"))\n",
    "print(find_arv_proportion(large_data, \"cobicistat\"))\n",
    "print(find_arv_proportion(large_data, \"zidovudine\"))"
   ]
  },
  {
   "cell_type": "code",
   "execution_count": null,
   "metadata": {},
   "outputs": [],
   "source": [
    "# ARVs for all HIV pos patients\n",
    "\n",
    "print(find_arv_proportion(data, \"abacavir\"))\n",
    "print(find_arv_proportion(data, \"lamivudine\"))\n",
    "print(find_arv_proportion(data, \"stavudine\"))\n",
    "print(find_arv_proportion(data, \"tdf\"))\n",
    "print(find_arv_proportion(data, \"gazt\"))\n",
    "print(find_arv_proportion(data, \"zidovudine\"))\n",
    "print(find_arv_proportion(data, \"efavirenz\"))\n",
    "print(find_arv_proportion(data, \"nevirapine\"))\n",
    "print(find_arv_proportion(data, \"combivir\"))\n",
    "print(find_arv_proportion(data, \"atripla\"))\n",
    "print(find_arv_proportion(data, \"aluvia\"))\n",
    "print(find_arv_proportion(data, \"truvada\"))\n",
    "print(find_arv_proportion(data, \"tld\"))"
   ]
  },
  {
   "cell_type": "code",
   "execution_count": null,
   "metadata": {},
   "outputs": [],
   "source": [
    "# These ARVs were not in the our categorization tables due to questions\n",
    "print(find_arv_proportion(data, \"cobicistat\"))\n",
    "large = pd.read_csv(\"../data/large_data.csv\")\n",
    "find_arv_proportion(large, \"enfuvirtide\")"
   ]
  },
  {
   "cell_type": "code",
   "execution_count": null,
   "metadata": {},
   "outputs": [],
   "source": [
    "# ARV groupings\n",
    "print(find_arv_proportion(data, \"nrti\"))\n",
    "print(find_arv_proportion(data, \"nnrti\"))\n",
    "print(find_arv_proportion(data, \"pi\"))"
   ]
  }
 ],
 "metadata": {
  "kernelspec": {
   "display_name": "Python 3",
   "language": "python",
   "name": "python3"
  },
  "language_info": {
   "codemirror_mode": {
    "name": "ipython",
    "version": 3
   },
   "file_extension": ".py",
   "mimetype": "text/x-python",
   "name": "python",
   "nbconvert_exporter": "python",
   "pygments_lexer": "ipython3",
   "version": "3.8.0"
  }
 },
 "nbformat": 4,
 "nbformat_minor": 4
}
