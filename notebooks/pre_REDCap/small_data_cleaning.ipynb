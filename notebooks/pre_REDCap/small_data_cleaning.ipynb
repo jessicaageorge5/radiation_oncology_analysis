{
 "cells": [
  {
   "cell_type": "markdown",
   "metadata": {},
   "source": [
    "# Libraries"
   ]
  },
  {
   "cell_type": "code",
   "execution_count": null,
   "metadata": {},
   "outputs": [],
   "source": [
    "import pandas as pd\n",
    "import numpy as np\n",
    "import datetime\n",
    "\n",
    "import warnings\n",
    "warnings.filterwarnings('ignore')"
   ]
  },
  {
   "cell_type": "markdown",
   "metadata": {},
   "source": [
    "# Data"
   ]
  },
  {
   "cell_type": "code",
   "execution_count": null,
   "metadata": {
    "scrolled": true
   },
   "outputs": [],
   "source": [
    "# read data\n",
    "data = pd.read_stata(\"../../data/20170213 Cure complete tx-Stata 13.dta\")"
   ]
  },
  {
   "cell_type": "markdown",
   "metadata": {},
   "source": [
    "# Cleaning"
   ]
  },
  {
   "cell_type": "code",
   "execution_count": null,
   "metadata": {},
   "outputs": [],
   "source": [
    "# update followup/death date and remove duplicates\n",
    "dates_2020 = pd.read_csv(\"../../data/2020_followup.csv\") # has updated follow-up\n",
    "dates_2020[dates_2020[\"Study ID\"].isin([\"BT160\", \"DP051\", \"DS165\", \"KB017\", \"MR117\"])]\n",
    "dates_2020 = dates_2020.drop(dates_2020.index[[8, 12, 13, 28, 60]]).drop_duplicates()\n",
    "dates_2020[\"Last follow up date ( as in 2020)\"] = dates_2020[\"Last follow up date ( as in 2020)\"].fillna(dates_2020[\"Date of Death/Last seen in IPMS\"])\n",
    "\n",
    "# dates_2020 misses 39 patients. This sheet contains those 39 patients without updates\n",
    "remaining_39 = pd.read_csv(\"../../data/extra_2020_followup.csv\")\n",
    "combined_182_fp_updates = pd.concat([dates_2020, remaining_39], ignore_index = True)\n",
    "combined_182_fp_updates = combined_182_fp_updates[[\"Study ID\", \"Vital Status\", \"Last follow up date ( as in 2020)\"]]\n",
    "combined_182_fp_updates.rename(columns = {\"Study ID\":\"id\", \"Vital Status\":\"vital_status\", \"Last follow up date ( as in 2020)\":\"death_followup\"}, inplace = True)\n",
    "combined_182_fp_updates[\"death_followup\"] = pd.to_datetime(combined_182_fp_updates[\"death_followup\"])\n",
    "\n",
    "# merge\n",
    "data = pd.merge(data, combined_182_fp_updates, on = \"id\").drop_duplicates()"
   ]
  },
  {
   "cell_type": "code",
   "execution_count": null,
   "metadata": {},
   "outputs": [],
   "source": [
    "# encode factors\n",
    "data.loc[data[\"xmarital\"] == 'divorced/widowed', 'xmarital'] = 2\n",
    "data.loc[data[\"xmarital\"] == 'single', 'xmarital'] = 3\n",
    "data.loc[data[\"xmarital\"] == 'married/partnered', 'xmarital'] = 1\n",
    "\n",
    "data.loc[data[\"hiv_status\"] == \"positive\", \"hiv_status\"] = 1\n",
    "data.loc[data[\"hiv_status\"] == \"negative\", \"hiv_status\"] = 0\n",
    "data.loc[data[\"hiv_status\"] == \"not tested\", \"hiv_status\"] = np.nan\n",
    "\n",
    "data.loc[data[\"tumorresponse\"] == \"complete\", \"tumorresponse\"] = 1\n",
    "data.loc[data[\"tumorresponse\"] == \"partial\", \"tumorresponse\"] = 2\n",
    "data.loc[data[\"tumorresponse\"] == \"no_tx\", \"tumorresponse\"] = 4\n",
    "data.loc[data[\"tumorresponse\"] == \"to be assessed on followup\", \"tumorresponse\"] = 3\n",
    "data.loc[data[\"tumorresponse\"] == \"not recorded\", \"tumorresponse\"] = 5"
   ]
  },
  {
   "cell_type": "code",
   "execution_count": null,
   "metadata": {},
   "outputs": [],
   "source": [
    "data[\"date_histology\"] = pd.to_datetime(data[\"date_histology\"], unit = 'D', origin = pd.Timestamp('1960-01-01'))\n",
    "data.loc[data[\"date_radiation_begins\"] == \".\", \"date_radiation_begins\"] = np.nan\n",
    "data[\"date_radiation_begins\"] = pd.to_datetime(data[\"date_radiation_begins\"])\n",
    "\n",
    "data[\"actual_treat_start_date\"] = data[\"date_radiation_begins\"]\n",
    "# fill missing treatment start dates with pathology date\n",
    "data[\"date_radiation_begins\"] = data[\"date_radiation_begins\"].fillna(data[\"date_histology\"])"
   ]
  },
  {
   "cell_type": "code",
   "execution_count": null,
   "metadata": {},
   "outputs": [],
   "source": [
    "# grab CD4 closest to trt start date\n",
    "cd4 = data[data[\"hiv_status\"] == 1][[\"id\", \"date_radiation_begins\", \"date_histology\", \"cd4_1\", \"date_1_cd4\", \"cd4_2\", \"date_2_cd4\", \"cd4_3\", \"date_3_cd4\",\n",
    "               \"cd4_4\", \"date_4_cd4\", \"cd4_5\", \"date_5_cd4\", \"cd4_6\", \"date_6_cd4\", \"cd4_7\", \"date_7_cd4\",\n",
    "               \"cd4_8\", \"date_8_cd4\", \"cd4_9\", \"date_9_cd4\", \"cd4_10\", \"date_10_cd4\", \"cd4_11\", \"date_11_cd4\",\n",
    "               \"cd4_12\", \"date_12_cd4\", \"cd4_13\", \"date_13_cd4\", \"cd4_14\", \"date_14_cd4\", \"cd4_15\", \"date_15_cd4\",\n",
    "               \"cd4_16\", \"date_16_cd4\"]]\n",
    "cd4.rename(columns = {\"date_1_cd4\":\"date_1\", \"date_2_cd4\":\"date_2\", \"date_3_cd4\":\"date_3\", \"date_4_cd4\":\"date_4\",\n",
    "                      \"date_5_cd4\":\"date_5\", \"date_6_cd4\":\"date_6\", \"date_7_cd4\":\"date_7\", \"date_8_cd4\":\"date_8\",\n",
    "                      \"date_9_cd4\":\"date_9\", \"date_10_cd4\":\"date_10\", \"date_11_cd4\":\"date_11\", \"date_12_cd4\":\"date_12\",\n",
    "                      \"date_13_cd4\":\"date_13\", \"date_14_cd4\":\"date_14\", \"date_15_cd4\":\"date_15\", \"date_16_cd4\":\"date_16\"}, inplace = True)\n",
    "\n",
    "cd4 = pd.wide_to_long(cd4, [\"date_\", \"cd4_\"], i = [\"id\", \"date_radiation_begins\", \"date_histology\"], j = \"key\").dropna(how = \"all\").reset_index()\n",
    "cd4[\"date_radiation_begins\"] = cd4[\"date_radiation_begins\"].fillna(cd4[\"date_histology\"])\n",
    "cd4[\"date_difference\"] = abs((cd4[\"date_radiation_begins\"] - cd4[\"date_\"]).dt.days)\n",
    "cd4 = cd4.sort_values(by = [\"id\", \"date_difference\"])\n",
    "cd4_to_merge = cd4.groupby(\"id\")[[\"cd4_\", \"date_\"]].first().reset_index().rename(columns = {\"cd4_\":\"cd4_final\"})\n",
    "\n",
    "# merge\n",
    "data = data.merge(cd4_to_merge, how = \"left\", on = \"id\")"
   ]
  },
  {
   "cell_type": "code",
   "execution_count": null,
   "metadata": {},
   "outputs": [],
   "source": [
    "# exclude patient (missing radiation start date and pathology date)\n",
    "data = data[data[\"id\"] != \"LM188\"]"
   ]
  },
  {
   "cell_type": "code",
   "execution_count": null,
   "metadata": {},
   "outputs": [],
   "source": [
    "# grab VL closest to trt start date\n",
    "vl = data[data[\"hiv_status\"] == 1][[\"id\", \"date_radiation_begins\", \"date_histology\", \"VL_1\", \"date_1_vl\", \"vl_2\", \"date_2_vl\", \"vl_3\", \"date_3_vl\",\n",
    "               \"vl_4\", \"date_4_vl\", \"vl_5\", \"date_5_vl\", \"vl_6\", \"date_6_vl\", \"vl_7\", \"date_7_vl\",\n",
    "               \"vl_8\", \"date_8_vl\", \"vl_9\", \"date_9_vl\", \"vl_10\", \"date_10_vl\", \"vl_11\", \"date_11_vl\",\n",
    "               \"vl_12\", \"date_12_vl\", \"vl_13\", \"date_13_vl\", \"vl_14\", \"date_14_vl\", \"vl_15\", \"date_15_vl\", \"vl_16\",\n",
    "               \"date_16_vl\"]]\n",
    "vl.rename(columns = {\"date_1_vl\":\"date_1\", \"date_2_vl\":\"date_2\", \"date_3_vl\":\"date_3\", \"date_4_vl\":\"date_4\",\n",
    "                      \"date_5_vl\":\"date_5\", \"date_6_vl\":\"date_6\", \"date_7_vl\":\"date_7\", \"date_8_vl\":\"date_8\",\n",
    "                      \"date_9_vl\":\"date_9\", \"date_10_vl\":\"date_10\", \"date_11_vl\":\"date_11\", \"date_12_vl\":\"date_12\",\n",
    "                      \"date_13_vl\":\"date_13\", \"date_14_vl\":\"date_14\", \"date_15_vl\":\"date_15\", \"date_16_vl\":\"date_16\"}, inplace = True)\n",
    "\n",
    "vl = pd.wide_to_long(vl, [\"date_\", \"vl_\"], i = [\"id\", \"date_radiation_begins\", \"date_histology\"], j = \"key\").dropna(how = \"all\").reset_index()\n",
    "vl[\"date_radiation_begins\"] = vl[\"date_radiation_begins\"].fillna(vl[\"date_histology\"])\n",
    "vl[\"date_difference\"] = abs((vl[\"date_radiation_begins\"] - vl[\"date_\"]).dt.days)\n",
    "vl = vl.sort_values(by = [\"id\", \"date_difference\"])\n",
    "vl_to_merge = vl.groupby(\"id\")[[\"vl_\", \"date_\"]].first().reset_index().rename(columns = {\"vl_\":\"vl_final\"})\n",
    "\n",
    "# merge\n",
    "data = data.merge(vl_to_merge, how = \"left\", on = \"id\")"
   ]
  },
  {
   "cell_type": "code",
   "execution_count": null,
   "metadata": {},
   "outputs": [],
   "source": [
    "# grab analysis columns\n",
    "data = data[[\"id\", \"hiv_status\", \"age\", \"xmarital\", \"distance\", \"_2_have_you_been_screened_for_c\",\n",
    "                               \"stage\", \"xstage\", \"vaginal_hemorrhage\", \"vaginal_discharge\", \"pelvic_pain\",\n",
    "                               \"cr_1st\", \"hb_1st\", \"neut_1st\", \"wbc_1st\", \"performance_baseline\", \"cd4_final\", \"vl_final\",\n",
    "                               \"on_arv\", \"No_chemo_cycles\", \"Total_received_ebrtfinal\", \"Total_received_Brachyfinal\",\n",
    "                               \"EQD2Dosefinal\", \"Total_received_boostfinal\", \"tx_duration\", \"tumorresponse\", \n",
    "                               \"vital_status\", \"death_followup\", \"date_radiation_begins\", \"combivir\", \"neviripine\",\n",
    "                               \"efavirenz\", \"truvada\", \"aluvia\", \"abacavir\", \"lamivuidine\", \"Stavudine\", \"on_tdf\", \"atripla\",\n",
    "                               \"cr_max_during_chemo\", \"hb_min_during_chemo\", \"wbc_min_during_chemo\", \"neut_min_during_chemo\", \"xmax_pelvic_pain\", \n",
    "                               \"xmax_vaginal_discharge\", \"xmax_fatigue\", \"xmax_weight_loss\", \n",
    "                               \"xmax_nausea\", \"xmax_vomiting\", \"xmax_urinary_frequency\", \"xmax_urinary_incontinence\",\n",
    "                               \"xmax_urinary_urgency\", \"xmax_diarrhoea\", \"xmax_dermatitis_radiation\", \"date_histology\", \"actual_treat_start_date\"]]\n",
    "\n",
    "# rename to match main dataset\n",
    "data.rename(columns = {\"id\":\"patient_id\", \"age\":\"enroll_age\", \"xmarital\":\"marital\", \"_2_have_you_been_screened_for_c\":\"cancer_screening\",\n",
    "                                \"stage\":\"init_cancer_stage_exact\", \"xstage\":\"combined_cancer_stage\", \"cr_1st\":\"cr_result\", \"hb_1st\":\"hb_result\", \n",
    "                                \"neut_1st\":\"neut_result\", \"wbc_1st\":\"wbc_result\", \"performance_baseline\":\"init_performance_status\",\n",
    "                                \"No_chemo_cycles\":\"total_chemo_received\", \"Total_received_ebrtfinal\":\"ebrt_curr_dose\", \n",
    "                                \"Total_received_Brachyfinal\":\"brachy_curr_dose\", \"EQD2Dosefinal\":\"eqd2\", 'Total_received_boostfinal':'ebrt_boost_curr_dose',\n",
    "                                \"tx_duration\":\"treat_duration\", \"tumorresponse\":\"treat_response\", \"death_followup\":\"death_date\", \n",
    "                                \"date_radiation_begins\":\"treat_start_date\", \"neviripine\":\"nevirapine\", \"lamivuidine\":\"lamivudine\",\n",
    "                                \"Stavudine\":\"stavudine\", \"on_tdf\":\"tdf\", \"cr_max_during_chemo\":\"cr_result_tox\", \"hb_min_during_chemo\":\"hb_min_result_tox\", \n",
    "                                \"wbc_min_during_chemo\":\"wbc_min_result_tox\", \"neut_min_during_chemo\":\"neut_min_result_tox\",\n",
    "                                \"xmax_pelvic_pain\":\"pelvic_pain_tox\", \"xmax_vaginal_discharge\":\"vaginal_discharge_tox\", \"xmax_fatigue\":\"fatigue_tox\",\n",
    "                                \"xmax_weight_loss\":\"weight_loss_tox\", \"xmax_nausea\":\"nausea_tox\", \"xmax_vomiting\":\"vomiting_tox\", \n",
    "                                \"xmax_urinary_frequency\":\"urine_freq_tox\", \"xmax_urinary_incontinence\":\"urine_incontinence_tox\",\n",
    "                                \"xmax_urinary_urgency\":\"urine_urge_tox\", \"xmax_diarrhoea\":\"diarrhea_tox\", \"xmax_dermatitis_radiation\":\"dermatitis_tox\",\n",
    "                                \"date_histology\":\"pathology_date\"}, inplace = True)\n",
    "data[\"combined_cancer_stage_exact\"] = data[\"init_cancer_stage_exact\"]\n",
    "\n",
    "# transform to common units\n",
    "data[\"ebrt_curr_dose\"] = data[\"ebrt_curr_dose\"]*100\n",
    "data[\"ebrt_boost_curr_dose\"] = data[\"ebrt_boost_curr_dose\"]*100\n",
    "data[\"brachy_curr_dose\"] = data[\"brachy_curr_dose\"]*100\n",
    "\n",
    "# encode vital_status\n",
    "data.loc[(data[\"vital_status\"] == \"Alive\") |\n",
    "         (data[\"vital_status\"] == \"Alive \"), \"vital_status\"] = 0\n",
    "data.loc[data[\"vital_status\"] == \"Dead\", \"vital_status\"] = 1"
   ]
  },
  {
   "cell_type": "code",
   "execution_count": null,
   "metadata": {},
   "outputs": [],
   "source": [
    "# encode cancer stage\n",
    "data.loc[data[\"combined_cancer_stage_exact\"] == '', \"combined_cancer_stage_exact\"] = np.nan\n",
    "data.loc[data[\"combined_cancer_stage_exact\"] == 'ia1', \"combined_cancer_stage_exact\"] = 2\n",
    "data.loc[data[\"combined_cancer_stage_exact\"] == 'ib1', \"combined_cancer_stage_exact\"] = 5\n",
    "data.loc[data[\"combined_cancer_stage_exact\"] == 'ib2', \"combined_cancer_stage_exact\"] = 6\n",
    "data.loc[data[\"combined_cancer_stage_exact\"] == 'iia1', \"combined_cancer_stage_exact\"] = 7\n",
    "data.loc[data[\"combined_cancer_stage_exact\"] == 'iia2', \"combined_cancer_stage_exact\"] = 7\n",
    "data.loc[data[\"combined_cancer_stage_exact\"] == 'iib', \"combined_cancer_stage_exact\"] = 8\n",
    "data.loc[data[\"combined_cancer_stage_exact\"] == 'iiia', \"combined_cancer_stage_exact\"] = 9\n",
    "data.loc[data[\"combined_cancer_stage_exact\"] == 'iiib', \"combined_cancer_stage_exact\"] = 10\n",
    "data.loc[data[\"combined_cancer_stage_exact\"] == 'iva', \"combined_cancer_stage_exact\"] = 11"
   ]
  },
  {
   "cell_type": "code",
   "execution_count": null,
   "metadata": {},
   "outputs": [],
   "source": [
    "# add trt columns\n",
    "data[\"surgery\"] = 0\n",
    "data[\"primary_surgery_chemo\"] = 0\n",
    "data[\"primary_surgery_crt\"] = 0\n",
    "data[\"chemo\"] = np.nan\n",
    "data[\"crt\"] = np.nan\n",
    "\n",
    "data.loc[data[\"total_chemo_received\"] == 0, \"chemo\"] = 0\n",
    "data.loc[data[\"total_chemo_received\"] > 0, \"chemo\"] = 1\n",
    "data.loc[(data[\"total_chemo_received\"] == 0) | (data[\"total_chemo_received\"].isnull()), \"crt\"] = 0\n",
    "data.loc[(data[\"eqd2\"] == 0) | (data[\"eqd2\"].isnull()), \"crt\"] = 0\n",
    "data.loc[(data[\"total_chemo_received\"] > 0) &\n",
    "        (data[\"eqd2\"] > 0), \"crt\"] = 1\n",
    "data[\"rt\"] = np.nan\n",
    "data.loc[(data[\"eqd2\"] == 0) | (data[\"eqd2\"].isnull()), \"rt\"] = 0\n",
    "data.loc[(data[\"eqd2\"] > 0) &\n",
    "         ((data[\"total_chemo_received\"] == 0) | (data[\"total_chemo_received\"].isnull())), \"rt\"] = 1\n",
    "data[\"treatment\"] = 1\n",
    "data.loc[(data[\"surgery\"] == 0) & (data[\"primary_surgery_crt\"] == 0) & \n",
    "         (data[\"primary_surgery_chemo\"] == 0) & (data[\"rt\"] == 0) & (data[\"crt\"] == 0), \"treatment\"] = 0"
   ]
  },
  {
   "cell_type": "markdown",
   "metadata": {},
   "source": [
    "# Save cleaned data"
   ]
  },
  {
   "cell_type": "code",
   "execution_count": null,
   "metadata": {},
   "outputs": [],
   "source": [
    "data.to_csv(\"../../data/small_data.csv\", index = False)"
   ]
  }
 ],
 "metadata": {
  "kernelspec": {
   "display_name": "Python 3",
   "language": "python",
   "name": "python3"
  },
  "language_info": {
   "codemirror_mode": {
    "name": "ipython",
    "version": 3
   },
   "file_extension": ".py",
   "mimetype": "text/x-python",
   "name": "python",
   "nbconvert_exporter": "python",
   "pygments_lexer": "ipython3",
   "version": "3.8.0"
  }
 },
 "nbformat": 4,
 "nbformat_minor": 5
}
