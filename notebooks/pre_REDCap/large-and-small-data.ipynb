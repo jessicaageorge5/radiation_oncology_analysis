{
 "cells": [
  {
   "cell_type": "markdown",
   "metadata": {},
   "source": [
    "# Libraries"
   ]
  },
  {
   "cell_type": "code",
   "execution_count": null,
   "metadata": {},
   "outputs": [],
   "source": [
    "import pandas as pd\n",
    "import numpy as np\n",
    "import datetime\n",
    "\n",
    "import warnings\n",
    "warnings.filterwarnings('ignore')"
   ]
  },
  {
   "cell_type": "markdown",
   "metadata": {},
   "source": [
    "# Data"
   ]
  },
  {
   "cell_type": "code",
   "execution_count": null,
   "metadata": {},
   "outputs": [],
   "source": [
    "# Import small and large data\n",
    "large_data = pd.read_csv(\"../../data/large_data.csv\")\n",
    "small_data = pd.read_csv(\"../../data/small_data.csv\")"
   ]
  },
  {
   "cell_type": "markdown",
   "metadata": {},
   "source": [
    "# Combine data"
   ]
  },
  {
   "cell_type": "code",
   "execution_count": null,
   "metadata": {},
   "outputs": [],
   "source": [
    " # Combined large and small datasets\n",
    "data = pd.concat([large_data, small_data], ignore_index = True)"
   ]
  },
  {
   "cell_type": "code",
   "execution_count": null,
   "metadata": {},
   "outputs": [],
   "source": [
    "data.loc[data[\"ebrt_curr_dose\"] == 0, \"received_ebrt\"] = 0\n",
    "data.loc[data[\"ebrt_curr_dose\"] > 0, \"received_ebrt\"] = 1\n",
    "\n",
    "data.loc[data[\"brachy_curr_dose\"] == 0, \"received_brachy\"] = 0\n",
    "data.loc[data[\"brachy_curr_dose\"] > 0, \"received_brachy\"] = 1\n",
    "\n",
    "data.loc[data[\"ebrt_boost_curr_dose\"] == 0, \"received_ebrt_boost\"] = 0\n",
    "data.loc[data[\"ebrt_boost_curr_dose\"] > 0, \"received_ebrt_boost\"] = 1\n",
    "\n",
    "data.loc[data[\"eqd2\"] == \"\", \"eqd2\"] = np.nan\n",
    "data[\"eqd2\"] = data[\"eqd2\"].astype(float)\n",
    "data.loc[data[\"eqd2\"] == 0, \"received_eqd2\"] = 0\n",
    "data.loc[data[\"eqd2\"] > 0, \"received_eqd2\"] = 1\n",
    "\n",
    "\n",
    "data.loc[(data[\"enroll_age\"] >= 21) &\n",
    "                 (data[\"enroll_age\"] <= 39), \"age_cat\"] = 1\n",
    "data.loc[(data[\"enroll_age\"] > 39) &\n",
    "                 (data[\"enroll_age\"] <= 59), \"age_cat\"] = 2\n",
    "data.loc[(data[\"enroll_age\"] > 59) &\n",
    "                 (data[\"enroll_age\"] <= 96), \"age_cat\"] = 3"
   ]
  },
  {
   "cell_type": "code",
   "execution_count": null,
   "metadata": {},
   "outputs": [],
   "source": [
    "# time_alive will not be able to be calculated on these patients \n",
    "data.loc[data[\"treat_start_date\"] == \"\", \"treat_start_date\"] = np.nan\n",
    "data.loc[data[\"death_date\"] == \"\", \"death_date\"] = np.nan\n",
    "print(list(data[(data[\"death_date\"].isnull()) | (data[\"treat_start_date\"].isnull())][\"patient_id\"]))\n"
   ]
  },
  {
   "cell_type": "code",
   "execution_count": null,
   "metadata": {},
   "outputs": [],
   "source": [
    "print(len(set(data[\"patient_id\"]))) # all patients from large and small data combined\n",
    "print(len(set(data[data[\"vital_status\"] == 1][\"patient_id\"])))\n",
    "print(len(set(data[data[\"vital_status\"] == 0][\"patient_id\"])))"
   ]
  },
  {
   "cell_type": "code",
   "execution_count": null,
   "metadata": {},
   "outputs": [],
   "source": [
    "data[\"total_chemo_received\"] = data[\"total_chemo_received\"].astype(float)"
   ]
  },
  {
   "cell_type": "code",
   "execution_count": null,
   "metadata": {},
   "outputs": [],
   "source": [
    "data[\"time_alive_treat\"] = abs(pd.to_datetime(data[\"death_date\"]) - pd.to_datetime(data[\"treat_start_date\"])).dt.days\n",
    "# If no treat start date, then use path date\n",
    "data[\"time_alive_treat\"] = data[\"time_alive_treat\"].fillna((pd.to_datetime(data[\"death_date\"]) - pd.to_datetime(data[\"pathology_date\"])).dt.days)\n",
    "\n",
    "# time_alive in which time is death/censor - path date\n",
    "data[\"time_alive_path\"] = abs(pd.to_datetime(data[\"death_date\"]) - pd.to_datetime(data[\"pathology_date\"])).dt.days\n",
    "# If no path date, use enroll date\n",
    "data[\"time_alive_path\"] = data[\"time_alive_path\"].fillna((pd.to_datetime(data[\"death_date\"]) - pd.to_datetime(data[\"enroll_date\"])).dt.days)\n",
    "# If enroll date after treat start date, use treat start date\n",
    "data[\"time_alive_temp\"] = abs(pd.to_datetime(data[\"death_date\"]) - pd.to_datetime(data[\"treat_start_date\"])).dt.days\n",
    "data[\"time_alive_path\"] = np.where((data.enroll_date > data.treat_start_date), data.time_alive_temp, data.time_alive_path)"
   ]
  },
  {
   "cell_type": "code",
   "execution_count": null,
   "metadata": {},
   "outputs": [],
   "source": [
    "data.loc[(data[\"tenofovir\"] == 1) &\n",
    "         (data[\"lamivudine\"] == 1) &\n",
    "         (data[\"dolutegravir\"] == 1), \"tld\"] = 1\n",
    "\n",
    "data.loc[data[\"other_arv_name\"] == \"TLD\", \"tld\"] = 1"
   ]
  },
  {
   "cell_type": "code",
   "execution_count": null,
   "metadata": {},
   "outputs": [],
   "source": [
    "# Create binary column to indicate whether or not patients have symptoms at presentation\n",
    "set(data[\"vaginal_hemorrhage\"].dropna()) # {0,1,2}\n",
    "data[\"vaginal_hemorrhage_symp\"] = np.nan\n",
    "data.loc[data.vaginal_hemorrhage == 0, \"vaginal_hemorrhage_symp\"] = 0\n",
    "data.loc[data.vaginal_hemorrhage == 1, \"vaginal_hemorrhage_symp\"] = 1\n",
    "data.loc[data.vaginal_hemorrhage == 2, \"vaginal_hemorrhage_symp\"] = 1\n",
    "\n",
    "set(data[\"vaginal_discharge\"].dropna()) # {0,1,2}\n",
    "data[\"vaginal_discharge_symp\"] = np.nan\n",
    "data.loc[data.vaginal_discharge == 0, \"vaginal_discharge_symp\"] = 0\n",
    "data.loc[data.vaginal_discharge == 1, \"vaginal_discharge_symp\"] = 1\n",
    "data.loc[data.vaginal_discharge == 2, \"vaginal_discharge_symp\"] = 1\n",
    "\n",
    "set(data[\"pelvic_pain\"].dropna()) # {0,1,2,3}\n",
    "data[\"pelvic_pain_symp\"] = np.nan\n",
    "data.loc[data.pelvic_pain == 0, \"pelvic_pain_symp\"] = 0\n",
    "data.loc[data.pelvic_pain == 1, \"pelvic_pain_symp\"] = 1\n",
    "data.loc[data.pelvic_pain == 2, \"pelvic_pain_symp\"] = 1\n",
    "data.loc[data.pelvic_pain == 3, \"pelvic_pain_symp\"] = 1"
   ]
  },
  {
   "cell_type": "code",
   "execution_count": null,
   "metadata": {},
   "outputs": [],
   "source": [
    "# Create ARV groupings\n",
    "\n",
    "data[\"nrti\"] = 0\n",
    "data[\"nnrti\"] = 0\n",
    "data[\"pi\"] = 0\n",
    "\n",
    "# Need to confirm: (data[\"dolutegravir\"] == 1) which category\n",
    "data.loc[(data[\"abacavir\"] == 1) | (data[\"azt\"] == 1) |\n",
    "         (data[\"tdf\"] == 1) | (data[\"lamivudine\"] == 1) |\n",
    "         (data[\"stavudine\"] == 1) | (data[\"emtricitabine\"] == 1) | (data[\"didanosine\"] == 1) |\n",
    "         (data[\"atripla\"] == 1) | (data[\"combivir\"] == 1) |\n",
    "         (data[\"truvada\"] == 1) | (data[\"tld\"] == 1), \"nrti\"] = 1\n",
    "\n",
    "data.loc[(data[\"nevirapine\"] == 1) | (data[\"efavirenz\"] == 1) |\n",
    "         (data[\"atripla\"] == 1), \"nnrti\"] = 1\n",
    "         \n",
    "data.loc[(data[\"atazanavir_boosted\"] == 1) | (data[\"atazanavir\"] == 1) |\n",
    "         (data[\"amprenavir\"] == 1) | (data[\"darunavir\"] == 1) |\n",
    "         (data[\"darunavir_boosted\"] == 1) | (data[\"nelfinavir\"] == 1) |\n",
    "         (data[\"tipranavir_boosted\"] == 1) | (data[\"tipranavir\"] == 1), \"pi\"] = 1  "
   ]
  },
  {
   "cell_type": "code",
   "execution_count": null,
   "metadata": {},
   "outputs": [],
   "source": [
    "# Add toxicity grades based on formulas and ranges (LLNs and ULNs)\n",
    "\n",
    "# Cr\n",
    "data[\"cr_tox_grade\"] = np.nan\n",
    "data.loc[data[\"cr_result_tox\"] <= 97, \"cr_tox_grade\"] = 0.0\n",
    "data.loc[((data[\"cr_result_tox\"] > 97) &\n",
    "          (data[\"cr_result_tox\"] <= 1.5*97)), \"cr_tox_grade\"] = 1.0\n",
    "data.loc[((data[\"cr_result_tox\"] > 1.5*data[\"cr_result\"]) &\n",
    "         (data[\"cr_result_tox\"] <= 3.0*data[\"cr_result\"])), \"cr_tox_grade\"] = 2.0\n",
    "data.loc[((data[\"cr_result_tox\"] > 1.5*97) &\n",
    "         (data[\"cr_result_tox\"] <= 3.0*97)), \"cr_tox_grade\"] = 2.0\n",
    "data.loc[((data[\"cr_result_tox\"] > 3.0*data[\"cr_result\"]) &\n",
    "         (data[\"cr_result_tox\"] <= 6.0*data[\"cr_result\"])), \"cr_tox_grade\"] = 3.0\n",
    "data.loc[((data[\"cr_result_tox\"] > 3.0*97) &\n",
    "         (data[\"cr_result_tox\"] <= 6.0*97)), \"cr_tox_grade\"] = 3.0\n",
    "data.loc[(data[\"cr_result_tox\"] > 6.0*97), \"cr_tox_grade\"] = 4.0\n",
    "\n",
    "# Hb\n",
    "data[\"hb_tox_grade\"] = np.nan\n",
    "data.loc[data[\"hb_min_result_tox\"] >= 12.4, \"hb_tox_grade\"] = 0.0\n",
    "data.loc[((data[\"hb_min_result_tox\"] < 12.4) &\n",
    "          (data[\"hb_min_result_tox\"] >= 10)), \"hb_tox_grade\"] = 1.0\n",
    "data.loc[((data[\"hb_min_result_tox\"] < 10.0) &\n",
    "         (data[\"hb_min_result_tox\"] >= 8.0)), \"hb_tox_grade\"] = 2.0\n",
    "data.loc[data[\"hb_min_result_tox\"] < 8.0, \"hb_tox_grade\"] = 3.0\n",
    "\n",
    "# ANC\n",
    "data[\"neut_tox_grade\"] = np.nan\n",
    "data.loc[data[\"neut_min_result_tox\"] >= 2.0, \"neut_tox_grade\"] = 0.0\n",
    "data.loc[((data[\"neut_min_result_tox\"] < 2.0) &\n",
    "         (data[\"neut_min_result_tox\"] >= 1.5)), \"neut_tox_grade\"] = 1.0\n",
    "data.loc[((data[\"neut_min_result_tox\"] < 1.5) &\n",
    "         (data[\"neut_min_result_tox\"] >= 1.0)), \"neut_tox_grade\"] = 2.0\n",
    "data.loc[((data[\"neut_min_result_tox\"] < 1.0) &\n",
    "         (data[\"neut_min_result_tox\"] >= 0.5)), \"neut_tox_grade\"] = 3.0\n",
    "data.loc[data[\"neut_min_result_tox\"] < 0.5, \"neut_tox_grade\"] = 4.0\n",
    "\n",
    "# WBC\n",
    "data[\"wbc_tox_grade\"] = np.nan\n",
    "data.loc[data[\"wbc_min_result_tox\"] >= 4.0, \"wbc_tox_grade\"] = 0.0\n",
    "data.loc[((data[\"wbc_min_result_tox\"] < 4.0) &\n",
    "         (data[\"wbc_min_result_tox\"] >= 3.0)), \"wbc_tox_grade\"] = 1.0\n",
    "data.loc[((data[\"wbc_min_result_tox\"] < 3.0) &\n",
    "         (data[\"wbc_min_result_tox\"] >= 2.0)), \"wbc_tox_grade\"] = 2.0\n",
    "data.loc[((data[\"wbc_min_result_tox\"] < 2.0) &\n",
    "         (data[\"wbc_min_result_tox\"] >= 1.0)), \"wbc_tox_grade\"] = 3.0\n",
    "data.loc[data[\"wbc_min_result_tox\"] < 1.0, \"wbc_tox_grade\"] = 4.0\n",
    "\n",
    "# Albumin\n",
    "data[\"alb_tox_grade\"] = np.nan\n",
    "data.loc[data[\"alb_result\"] >= 35.0, \"alb_tox_grade\"] = 0.0\n",
    "data.loc[((data[\"alb_result\"] < 35.0) &\n",
    "         (data[\"alb_result\"] >= 30.0)), \"alb_tox_grade\"] = 1.0\n",
    "data.loc[((data[\"alb_result\"] < 30.0) &\n",
    "         (data[\"alb_result\"] >= 20.0)), \"alb_tox_grade\"] = 2.0\n",
    "data.loc[data[\"alb_result\"] < 20.0, \"alb_tox_grade\"] = 3.0"
   ]
  },
  {
   "cell_type": "code",
   "execution_count": null,
   "metadata": {},
   "outputs": [],
   "source": [
    "# Index columns necessary for analysis\n",
    "data = data[[\"patient_id\", \"enroll_age\", \"age_cat\", \"hiv_status\", \"marital\", \"distance\", \"cancer_screening\", \"combined_cancer_stage\", \"combined_cancer_stage_exact\", \n",
    "             \"cr_result\", \"hb_result\", \"neut_result\", \"wbc_result\", \"alb_result\", \"init_performance_status\", \"chemo\", \"total_chemo_received\", \n",
    "             \"ebrt_curr_dose\", \"brachy_curr_dose\", \"eqd2\", \"ebrt_boost_curr_dose\", \"treat_duration\", \"treat_response\", \"vital_status\",\n",
    "             \"death_date\", \"treat_start_date\", \"vaginal_hemorrhage\", \"vaginal_discharge\", \"pelvic_pain\", \"cd4_final\", \"vl_final\", \n",
    "             \"nnrti\", \"nrti\", \"pi\",\n",
    "             'on_arv', 'lamivudine', 'abacavir', 'amprenavir', \"azt\",\n",
    "             'atazanavir', 'atazanavir_boosted', 'cobicistat', 'stavudine',\n",
    "             'zalcitabine', 'didanosine', 'delavirdine', 'darunavir',\n",
    "             'darunavir_boosted', 'dolutegravir', 'efavirenz', 'etravirine',\n",
    "             'elvitegravir', 'fosamprenavir', 'fosamprenavir_boosted',\n",
    "             'emtricitabine', 'gazt', 'indinavir', 'lopinavir',\n",
    "             'lopinavir_boosted', 'maraviroc', 'nelfinavir', 'nevirapine',\n",
    "             'raltegravir', 'rilpivirine', 'ritonavir', 'saquinavir',\n",
    "             'saquinavir_boosted', 'enfuvirtide', 'tdf', 'tipranavir',\n",
    "             'tipranavir_boosted', 'zidovudine', 'atripla', 'aluvia',\n",
    "             'combivir', 'truvada', 'tld', 'other_arv',\n",
    "             \"cr_result_tox\", \"cr_tox_grade\", \"pelvic_pain_tox\", \"vaginal_discharge_tox\", \"vaginal_hemorrhage_tox\", \"fatigue_tox\", \"weight_loss_tox\", \n",
    "             \"nausea_tox\", \"vomiting_tox\", \"urine_freq_tox\", \"urine_incontinence_tox\", \"urine_urge_tox\", \"diarrhea_tox\", \"dermatitis_tox\",\n",
    "             \"hb_min_result_tox\", \"hb_tox_grade\", \"wbc_min_result_tox\", \"wbc_tox_grade\", \"neut_min_result_tox\", \"neut_tox_grade\", \"alb_min_result_tox\", \"alb_tox_grade\",\n",
    "             \"vaginal_hemorrhage_symp\", \"vaginal_discharge_symp\", \"pelvic_pain_symp\", \"time_alive_treat\", \"time_alive_path\", \"received_eqd2\", \"surgery\", \"surgery_only\", \"rt\", \"crt\", \"primary_surgery_chemo\", \"primary_surgery_crt\", \"treatment\",\n",
    "             \"pathology_date\", \"actual_treat_start_date\", \"init_cancer_stage\", \"init_cancer_stage_exact\", \"final_cancer_stage\", \"final_cancer_stage_exact\"]]\n"
   ]
  },
  {
   "cell_type": "markdown",
   "metadata": {},
   "source": [
    "# Save merged data"
   ]
  },
  {
   "cell_type": "code",
   "execution_count": null,
   "metadata": {},
   "outputs": [],
   "source": [
    "data.to_csv(\"../../data/data.csv\")"
   ]
  }
 ],
 "metadata": {
  "kernelspec": {
   "display_name": "Python 3",
   "language": "python",
   "name": "python3"
  },
  "language_info": {
   "codemirror_mode": {
    "name": "ipython",
    "version": 3
   },
   "file_extension": ".py",
   "mimetype": "text/x-python",
   "name": "python",
   "nbconvert_exporter": "python",
   "pygments_lexer": "ipython3",
   "version": "3.8.0"
  }
 },
 "nbformat": 4,
 "nbformat_minor": 5
}
