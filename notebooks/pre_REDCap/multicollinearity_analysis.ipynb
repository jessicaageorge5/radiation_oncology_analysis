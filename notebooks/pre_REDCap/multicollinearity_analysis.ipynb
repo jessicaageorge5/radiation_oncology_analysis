{
 "cells": [
  {
   "cell_type": "markdown",
   "metadata": {},
   "source": [
    "# Libraries"
   ]
  },
  {
   "cell_type": "code",
   "execution_count": null,
   "metadata": {},
   "outputs": [],
   "source": [
    "import pandas as pd"
   ]
  },
  {
   "cell_type": "markdown",
   "metadata": {},
   "source": [
    "# Data"
   ]
  },
  {
   "cell_type": "code",
   "execution_count": null,
   "metadata": {
    "scrolled": true
   },
   "outputs": [],
   "source": [
    "data = pd.read_csv(\"../../data/data.csv\")\n",
    "data.head()"
   ]
  },
  {
   "cell_type": "markdown",
   "metadata": {},
   "source": [
    "# Correlation summaries"
   ]
  },
  {
   "cell_type": "code",
   "execution_count": null,
   "metadata": {},
   "outputs": [],
   "source": [
    "# between ANC and WBC\n",
    "data[[\"neut_result\", \"wbc_result\"]].corr()\n",
    "\n",
    "## interpretation: very weakly positively correlated"
   ]
  },
  {
   "cell_type": "code",
   "execution_count": null,
   "metadata": {},
   "outputs": [],
   "source": [
    "# between stage and CR\n",
    "data[[\"combined_cancer_stage_exact\", \"cr_result\"]].corr()\n",
    "\n",
    "## interpretation: very weakly positively correlated"
   ]
  },
  {
   "cell_type": "code",
   "execution_count": null,
   "metadata": {},
   "outputs": [],
   "source": [
    "# between ANC and HIV status\n",
    "data[[\"hiv_status\", \"neut_result\"]].corr()\n",
    "\n",
    "## interpretation: very weakly negatively correlated"
   ]
  },
  {
   "cell_type": "code",
   "execution_count": null,
   "metadata": {},
   "outputs": [],
   "source": [
    "# between ANC and performance status\n",
    "data[[\"neut_result\", \"init_performance_status\"]].corr()\n",
    "\n",
    "## interpretation:very weakly positively correlated"
   ]
  },
  {
   "cell_type": "code",
   "execution_count": null,
   "metadata": {},
   "outputs": [],
   "source": [
    "# between main analysis variables\n",
    "data[[\"age_cat\", \"hiv_status\", \"cr_result\", \"hb_result\", \"neut_result\", \"wbc_result\", \"alb_result\", \n",
    "      \"init_performance_status\", \"combined_cancer_stage_exact\"]].corr()"
   ]
  }
 ],
 "metadata": {
  "kernelspec": {
   "display_name": "Python 3",
   "language": "python",
   "name": "python3"
  },
  "language_info": {
   "codemirror_mode": {
    "name": "ipython",
    "version": 3
   },
   "file_extension": ".py",
   "mimetype": "text/x-python",
   "name": "python",
   "nbconvert_exporter": "python",
   "pygments_lexer": "ipython3",
   "version": "3.8.0"
  }
 },
 "nbformat": 4,
 "nbformat_minor": 4
}
